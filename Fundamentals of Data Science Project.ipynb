{
  "cells": [
    {
      "cell_type": "code",
      "execution_count": null,
      "metadata": {
        "id": "Ay42HHHK5SzP"
      },
      "outputs": [],
      "source": [
        "#import packages\n",
        "import csv\n",
        "import pandas as pd\n",
        "import seaborn as sns\n",
        "import statistics as st\n",
        "import matplotlib.pyplot as plt\n",
        "import missingno as msno"
      ]
    },
    {
      "cell_type": "code",
      "source": [
        "from google.colab import drive\n",
        "drive.mount('/content/drive')"
      ],
      "metadata": {
        "colab": {
          "base_uri": "https://localhost:8080/"
        },
        "id": "VQAQo_qPimIu",
        "outputId": "67d1223b-a71c-414b-c235-c04213f20039"
      },
      "execution_count": null,
      "outputs": [
        {
          "output_type": "stream",
          "name": "stdout",
          "text": [
            "Drive already mounted at /content/drive; to attempt to forcibly remount, call drive.mount(\"/content/drive\", force_remount=True).\n"
          ]
        }
      ]
    },
    {
      "cell_type": "code",
      "source": [
        "df_census = pd.read_csv('/content/drive/MyDrive/Colab Notebooks/DS Task 2/census_12_2022.csv') #reading the csv file with pandas"
      ],
      "metadata": {
        "id": "NVoxOzNOjK-S"
      },
      "execution_count": null,
      "outputs": []
    },
    {
      "cell_type": "code",
      "execution_count": null,
      "metadata": {
        "scrolled": true,
        "id": "4YLaKRy95SzU",
        "outputId": "dc710d11-9015-4392-faa4-69d76fee7c16",
        "colab": {
          "base_uri": "https://localhost:8080/"
        }
      },
      "outputs": [
        {
          "output_type": "stream",
          "name": "stdout",
          "text": [
            "<class 'pandas.core.frame.DataFrame'>\n",
            "RangeIndex: 9543 entries, 0 to 9542\n",
            "Data columns (total 12 columns):\n",
            " #   Column                         Non-Null Count  Dtype \n",
            "---  ------                         --------------  ----- \n",
            " 0   Unnamed: 0                     9543 non-null   int64 \n",
            " 1   House Number                   9543 non-null   object\n",
            " 2   Street                         9543 non-null   object\n",
            " 3   First Name                     9543 non-null   object\n",
            " 4   Surname                        9543 non-null   object\n",
            " 5   Age                            9543 non-null   object\n",
            " 6   Relationship to Head of House  9543 non-null   object\n",
            " 7   Marital Status                 7350 non-null   object\n",
            " 8   Gender                         9543 non-null   object\n",
            " 9   Occupation                     9543 non-null   object\n",
            " 10  Infirmity                      9543 non-null   object\n",
            " 11  Religion                       7285 non-null   object\n",
            "dtypes: int64(1), object(11)\n",
            "memory usage: 894.8+ KB\n"
          ]
        }
      ],
      "source": [
        "df_census.info() #checking for summary of the dataframe"
      ]
    },
    {
      "cell_type": "code",
      "execution_count": null,
      "metadata": {
        "id": "2zpC_cck5SzV",
        "outputId": "52262016-a36f-4a52-bfb2-e5f774c29f11",
        "colab": {
          "base_uri": "https://localhost:8080/",
          "height": 206
        }
      },
      "outputs": [
        {
          "output_type": "execute_result",
          "data": {
            "text/plain": [
              "   Unnamed: 0 House Number       Street First Name         Surname Age  \\\n",
              "0           0            1  Scott Forks      Alice  Nicholson-Lowe  52   \n",
              "1           1            1  Scott Forks   Mitchell  Nicholson-Lowe  59   \n",
              "2           2            1  Scott Forks    Bernard  Nicholson-Lowe  14   \n",
              "3           3            1  Scott Forks     Kieran  Nicholson-Lowe  13   \n",
              "4           4            2  Scott Forks        Amy        Nicholls  41   \n",
              "\n",
              "  Relationship to Head of House Marital Status  Gender       Occupation  \\\n",
              "0                          Head        Married  Female   Microbiologist   \n",
              "1                       Husband        Married    Male        Homeopath   \n",
              "2                           Son            NaN    Male          Student   \n",
              "3                           Son            NaN    Male          Student   \n",
              "4                          Head        Married  Female  Publishing copy   \n",
              "\n",
              "  Infirmity   Religion  \n",
              "0      None       None  \n",
              "1      None       None  \n",
              "2      None        NaN  \n",
              "3      None        NaN  \n",
              "4      None  Christian  "
            ],
            "text/html": [
              "\n",
              "  <div id=\"df-bd1019f7-09a8-40f3-abb1-25dc3f70f163\">\n",
              "    <div class=\"colab-df-container\">\n",
              "      <div>\n",
              "<style scoped>\n",
              "    .dataframe tbody tr th:only-of-type {\n",
              "        vertical-align: middle;\n",
              "    }\n",
              "\n",
              "    .dataframe tbody tr th {\n",
              "        vertical-align: top;\n",
              "    }\n",
              "\n",
              "    .dataframe thead th {\n",
              "        text-align: right;\n",
              "    }\n",
              "</style>\n",
              "<table border=\"1\" class=\"dataframe\">\n",
              "  <thead>\n",
              "    <tr style=\"text-align: right;\">\n",
              "      <th></th>\n",
              "      <th>Unnamed: 0</th>\n",
              "      <th>House Number</th>\n",
              "      <th>Street</th>\n",
              "      <th>First Name</th>\n",
              "      <th>Surname</th>\n",
              "      <th>Age</th>\n",
              "      <th>Relationship to Head of House</th>\n",
              "      <th>Marital Status</th>\n",
              "      <th>Gender</th>\n",
              "      <th>Occupation</th>\n",
              "      <th>Infirmity</th>\n",
              "      <th>Religion</th>\n",
              "    </tr>\n",
              "  </thead>\n",
              "  <tbody>\n",
              "    <tr>\n",
              "      <th>0</th>\n",
              "      <td>0</td>\n",
              "      <td>1</td>\n",
              "      <td>Scott Forks</td>\n",
              "      <td>Alice</td>\n",
              "      <td>Nicholson-Lowe</td>\n",
              "      <td>52</td>\n",
              "      <td>Head</td>\n",
              "      <td>Married</td>\n",
              "      <td>Female</td>\n",
              "      <td>Microbiologist</td>\n",
              "      <td>None</td>\n",
              "      <td>None</td>\n",
              "    </tr>\n",
              "    <tr>\n",
              "      <th>1</th>\n",
              "      <td>1</td>\n",
              "      <td>1</td>\n",
              "      <td>Scott Forks</td>\n",
              "      <td>Mitchell</td>\n",
              "      <td>Nicholson-Lowe</td>\n",
              "      <td>59</td>\n",
              "      <td>Husband</td>\n",
              "      <td>Married</td>\n",
              "      <td>Male</td>\n",
              "      <td>Homeopath</td>\n",
              "      <td>None</td>\n",
              "      <td>None</td>\n",
              "    </tr>\n",
              "    <tr>\n",
              "      <th>2</th>\n",
              "      <td>2</td>\n",
              "      <td>1</td>\n",
              "      <td>Scott Forks</td>\n",
              "      <td>Bernard</td>\n",
              "      <td>Nicholson-Lowe</td>\n",
              "      <td>14</td>\n",
              "      <td>Son</td>\n",
              "      <td>NaN</td>\n",
              "      <td>Male</td>\n",
              "      <td>Student</td>\n",
              "      <td>None</td>\n",
              "      <td>NaN</td>\n",
              "    </tr>\n",
              "    <tr>\n",
              "      <th>3</th>\n",
              "      <td>3</td>\n",
              "      <td>1</td>\n",
              "      <td>Scott Forks</td>\n",
              "      <td>Kieran</td>\n",
              "      <td>Nicholson-Lowe</td>\n",
              "      <td>13</td>\n",
              "      <td>Son</td>\n",
              "      <td>NaN</td>\n",
              "      <td>Male</td>\n",
              "      <td>Student</td>\n",
              "      <td>None</td>\n",
              "      <td>NaN</td>\n",
              "    </tr>\n",
              "    <tr>\n",
              "      <th>4</th>\n",
              "      <td>4</td>\n",
              "      <td>2</td>\n",
              "      <td>Scott Forks</td>\n",
              "      <td>Amy</td>\n",
              "      <td>Nicholls</td>\n",
              "      <td>41</td>\n",
              "      <td>Head</td>\n",
              "      <td>Married</td>\n",
              "      <td>Female</td>\n",
              "      <td>Publishing copy</td>\n",
              "      <td>None</td>\n",
              "      <td>Christian</td>\n",
              "    </tr>\n",
              "  </tbody>\n",
              "</table>\n",
              "</div>\n",
              "      <button class=\"colab-df-convert\" onclick=\"convertToInteractive('df-bd1019f7-09a8-40f3-abb1-25dc3f70f163')\"\n",
              "              title=\"Convert this dataframe to an interactive table.\"\n",
              "              style=\"display:none;\">\n",
              "        \n",
              "  <svg xmlns=\"http://www.w3.org/2000/svg\" height=\"24px\"viewBox=\"0 0 24 24\"\n",
              "       width=\"24px\">\n",
              "    <path d=\"M0 0h24v24H0V0z\" fill=\"none\"/>\n",
              "    <path d=\"M18.56 5.44l.94 2.06.94-2.06 2.06-.94-2.06-.94-.94-2.06-.94 2.06-2.06.94zm-11 1L8.5 8.5l.94-2.06 2.06-.94-2.06-.94L8.5 2.5l-.94 2.06-2.06.94zm10 10l.94 2.06.94-2.06 2.06-.94-2.06-.94-.94-2.06-.94 2.06-2.06.94z\"/><path d=\"M17.41 7.96l-1.37-1.37c-.4-.4-.92-.59-1.43-.59-.52 0-1.04.2-1.43.59L10.3 9.45l-7.72 7.72c-.78.78-.78 2.05 0 2.83L4 21.41c.39.39.9.59 1.41.59.51 0 1.02-.2 1.41-.59l7.78-7.78 2.81-2.81c.8-.78.8-2.07 0-2.86zM5.41 20L4 18.59l7.72-7.72 1.47 1.35L5.41 20z\"/>\n",
              "  </svg>\n",
              "      </button>\n",
              "      \n",
              "  <style>\n",
              "    .colab-df-container {\n",
              "      display:flex;\n",
              "      flex-wrap:wrap;\n",
              "      gap: 12px;\n",
              "    }\n",
              "\n",
              "    .colab-df-convert {\n",
              "      background-color: #E8F0FE;\n",
              "      border: none;\n",
              "      border-radius: 50%;\n",
              "      cursor: pointer;\n",
              "      display: none;\n",
              "      fill: #1967D2;\n",
              "      height: 32px;\n",
              "      padding: 0 0 0 0;\n",
              "      width: 32px;\n",
              "    }\n",
              "\n",
              "    .colab-df-convert:hover {\n",
              "      background-color: #E2EBFA;\n",
              "      box-shadow: 0px 1px 2px rgba(60, 64, 67, 0.3), 0px 1px 3px 1px rgba(60, 64, 67, 0.15);\n",
              "      fill: #174EA6;\n",
              "    }\n",
              "\n",
              "    [theme=dark] .colab-df-convert {\n",
              "      background-color: #3B4455;\n",
              "      fill: #D2E3FC;\n",
              "    }\n",
              "\n",
              "    [theme=dark] .colab-df-convert:hover {\n",
              "      background-color: #434B5C;\n",
              "      box-shadow: 0px 1px 3px 1px rgba(0, 0, 0, 0.15);\n",
              "      filter: drop-shadow(0px 1px 2px rgba(0, 0, 0, 0.3));\n",
              "      fill: #FFFFFF;\n",
              "    }\n",
              "  </style>\n",
              "\n",
              "      <script>\n",
              "        const buttonEl =\n",
              "          document.querySelector('#df-bd1019f7-09a8-40f3-abb1-25dc3f70f163 button.colab-df-convert');\n",
              "        buttonEl.style.display =\n",
              "          google.colab.kernel.accessAllowed ? 'block' : 'none';\n",
              "\n",
              "        async function convertToInteractive(key) {\n",
              "          const element = document.querySelector('#df-bd1019f7-09a8-40f3-abb1-25dc3f70f163');\n",
              "          const dataTable =\n",
              "            await google.colab.kernel.invokeFunction('convertToInteractive',\n",
              "                                                     [key], {});\n",
              "          if (!dataTable) return;\n",
              "\n",
              "          const docLinkHtml = 'Like what you see? Visit the ' +\n",
              "            '<a target=\"_blank\" href=https://colab.research.google.com/notebooks/data_table.ipynb>data table notebook</a>'\n",
              "            + ' to learn more about interactive tables.';\n",
              "          element.innerHTML = '';\n",
              "          dataTable['output_type'] = 'display_data';\n",
              "          await google.colab.output.renderOutput(dataTable, element);\n",
              "          const docLink = document.createElement('div');\n",
              "          docLink.innerHTML = docLinkHtml;\n",
              "          element.appendChild(docLink);\n",
              "        }\n",
              "      </script>\n",
              "    </div>\n",
              "  </div>\n",
              "  "
            ]
          },
          "metadata": {},
          "execution_count": 262
        }
      ],
      "source": [
        "df_census.head(5)"
      ]
    },
    {
      "cell_type": "code",
      "execution_count": null,
      "metadata": {
        "id": "TH174vrI5SzW",
        "outputId": "7c911b39-0e05-4add-8edc-bc81a2bb8f04",
        "colab": {
          "base_uri": "https://localhost:8080/",
          "height": 206
        }
      },
      "outputs": [
        {
          "output_type": "execute_result",
          "data": {
            "text/plain": [
              "      Unnamed: 0 House Number       Street First Name   Surname Age  \\\n",
              "9538        9538            1  Baker Rocks       Neil   Douglas  47   \n",
              "9539        9539            1  Baker Rocks     Sylvia       Ali  34   \n",
              "9540        9540            1  Baker Rocks      Janet      Wall  26   \n",
              "9541        9541            1  Baker Rocks   Jennifer  Matthews  53   \n",
              "9542        9542            1  Baker Rocks       Marc     Lewis  38   \n",
              "\n",
              "     Relationship to Head of House Marital Status  Gender  \\\n",
              "9538                          None         Single    male   \n",
              "9539                          None         Single  Female   \n",
              "9540                          None         Single  Female   \n",
              "9541                          None         Single  Female   \n",
              "9542                          None         Single    Male   \n",
              "\n",
              "                 Occupation Infirmity   Religion  \n",
              "9538             Translator      None       None  \n",
              "9539     Engineer, drilling      None     Muslim  \n",
              "9540               Musician      None  Christian  \n",
              "9541        Event organiser      None  Christian  \n",
              "9542  Hydrographic surveyor      None       None  "
            ],
            "text/html": [
              "\n",
              "  <div id=\"df-1722aa2e-6f66-461c-ac69-0f56661e2700\">\n",
              "    <div class=\"colab-df-container\">\n",
              "      <div>\n",
              "<style scoped>\n",
              "    .dataframe tbody tr th:only-of-type {\n",
              "        vertical-align: middle;\n",
              "    }\n",
              "\n",
              "    .dataframe tbody tr th {\n",
              "        vertical-align: top;\n",
              "    }\n",
              "\n",
              "    .dataframe thead th {\n",
              "        text-align: right;\n",
              "    }\n",
              "</style>\n",
              "<table border=\"1\" class=\"dataframe\">\n",
              "  <thead>\n",
              "    <tr style=\"text-align: right;\">\n",
              "      <th></th>\n",
              "      <th>Unnamed: 0</th>\n",
              "      <th>House Number</th>\n",
              "      <th>Street</th>\n",
              "      <th>First Name</th>\n",
              "      <th>Surname</th>\n",
              "      <th>Age</th>\n",
              "      <th>Relationship to Head of House</th>\n",
              "      <th>Marital Status</th>\n",
              "      <th>Gender</th>\n",
              "      <th>Occupation</th>\n",
              "      <th>Infirmity</th>\n",
              "      <th>Religion</th>\n",
              "    </tr>\n",
              "  </thead>\n",
              "  <tbody>\n",
              "    <tr>\n",
              "      <th>9538</th>\n",
              "      <td>9538</td>\n",
              "      <td>1</td>\n",
              "      <td>Baker Rocks</td>\n",
              "      <td>Neil</td>\n",
              "      <td>Douglas</td>\n",
              "      <td>47</td>\n",
              "      <td>None</td>\n",
              "      <td>Single</td>\n",
              "      <td>male</td>\n",
              "      <td>Translator</td>\n",
              "      <td>None</td>\n",
              "      <td>None</td>\n",
              "    </tr>\n",
              "    <tr>\n",
              "      <th>9539</th>\n",
              "      <td>9539</td>\n",
              "      <td>1</td>\n",
              "      <td>Baker Rocks</td>\n",
              "      <td>Sylvia</td>\n",
              "      <td>Ali</td>\n",
              "      <td>34</td>\n",
              "      <td>None</td>\n",
              "      <td>Single</td>\n",
              "      <td>Female</td>\n",
              "      <td>Engineer, drilling</td>\n",
              "      <td>None</td>\n",
              "      <td>Muslim</td>\n",
              "    </tr>\n",
              "    <tr>\n",
              "      <th>9540</th>\n",
              "      <td>9540</td>\n",
              "      <td>1</td>\n",
              "      <td>Baker Rocks</td>\n",
              "      <td>Janet</td>\n",
              "      <td>Wall</td>\n",
              "      <td>26</td>\n",
              "      <td>None</td>\n",
              "      <td>Single</td>\n",
              "      <td>Female</td>\n",
              "      <td>Musician</td>\n",
              "      <td>None</td>\n",
              "      <td>Christian</td>\n",
              "    </tr>\n",
              "    <tr>\n",
              "      <th>9541</th>\n",
              "      <td>9541</td>\n",
              "      <td>1</td>\n",
              "      <td>Baker Rocks</td>\n",
              "      <td>Jennifer</td>\n",
              "      <td>Matthews</td>\n",
              "      <td>53</td>\n",
              "      <td>None</td>\n",
              "      <td>Single</td>\n",
              "      <td>Female</td>\n",
              "      <td>Event organiser</td>\n",
              "      <td>None</td>\n",
              "      <td>Christian</td>\n",
              "    </tr>\n",
              "    <tr>\n",
              "      <th>9542</th>\n",
              "      <td>9542</td>\n",
              "      <td>1</td>\n",
              "      <td>Baker Rocks</td>\n",
              "      <td>Marc</td>\n",
              "      <td>Lewis</td>\n",
              "      <td>38</td>\n",
              "      <td>None</td>\n",
              "      <td>Single</td>\n",
              "      <td>Male</td>\n",
              "      <td>Hydrographic surveyor</td>\n",
              "      <td>None</td>\n",
              "      <td>None</td>\n",
              "    </tr>\n",
              "  </tbody>\n",
              "</table>\n",
              "</div>\n",
              "      <button class=\"colab-df-convert\" onclick=\"convertToInteractive('df-1722aa2e-6f66-461c-ac69-0f56661e2700')\"\n",
              "              title=\"Convert this dataframe to an interactive table.\"\n",
              "              style=\"display:none;\">\n",
              "        \n",
              "  <svg xmlns=\"http://www.w3.org/2000/svg\" height=\"24px\"viewBox=\"0 0 24 24\"\n",
              "       width=\"24px\">\n",
              "    <path d=\"M0 0h24v24H0V0z\" fill=\"none\"/>\n",
              "    <path d=\"M18.56 5.44l.94 2.06.94-2.06 2.06-.94-2.06-.94-.94-2.06-.94 2.06-2.06.94zm-11 1L8.5 8.5l.94-2.06 2.06-.94-2.06-.94L8.5 2.5l-.94 2.06-2.06.94zm10 10l.94 2.06.94-2.06 2.06-.94-2.06-.94-.94-2.06-.94 2.06-2.06.94z\"/><path d=\"M17.41 7.96l-1.37-1.37c-.4-.4-.92-.59-1.43-.59-.52 0-1.04.2-1.43.59L10.3 9.45l-7.72 7.72c-.78.78-.78 2.05 0 2.83L4 21.41c.39.39.9.59 1.41.59.51 0 1.02-.2 1.41-.59l7.78-7.78 2.81-2.81c.8-.78.8-2.07 0-2.86zM5.41 20L4 18.59l7.72-7.72 1.47 1.35L5.41 20z\"/>\n",
              "  </svg>\n",
              "      </button>\n",
              "      \n",
              "  <style>\n",
              "    .colab-df-container {\n",
              "      display:flex;\n",
              "      flex-wrap:wrap;\n",
              "      gap: 12px;\n",
              "    }\n",
              "\n",
              "    .colab-df-convert {\n",
              "      background-color: #E8F0FE;\n",
              "      border: none;\n",
              "      border-radius: 50%;\n",
              "      cursor: pointer;\n",
              "      display: none;\n",
              "      fill: #1967D2;\n",
              "      height: 32px;\n",
              "      padding: 0 0 0 0;\n",
              "      width: 32px;\n",
              "    }\n",
              "\n",
              "    .colab-df-convert:hover {\n",
              "      background-color: #E2EBFA;\n",
              "      box-shadow: 0px 1px 2px rgba(60, 64, 67, 0.3), 0px 1px 3px 1px rgba(60, 64, 67, 0.15);\n",
              "      fill: #174EA6;\n",
              "    }\n",
              "\n",
              "    [theme=dark] .colab-df-convert {\n",
              "      background-color: #3B4455;\n",
              "      fill: #D2E3FC;\n",
              "    }\n",
              "\n",
              "    [theme=dark] .colab-df-convert:hover {\n",
              "      background-color: #434B5C;\n",
              "      box-shadow: 0px 1px 3px 1px rgba(0, 0, 0, 0.15);\n",
              "      filter: drop-shadow(0px 1px 2px rgba(0, 0, 0, 0.3));\n",
              "      fill: #FFFFFF;\n",
              "    }\n",
              "  </style>\n",
              "\n",
              "      <script>\n",
              "        const buttonEl =\n",
              "          document.querySelector('#df-1722aa2e-6f66-461c-ac69-0f56661e2700 button.colab-df-convert');\n",
              "        buttonEl.style.display =\n",
              "          google.colab.kernel.accessAllowed ? 'block' : 'none';\n",
              "\n",
              "        async function convertToInteractive(key) {\n",
              "          const element = document.querySelector('#df-1722aa2e-6f66-461c-ac69-0f56661e2700');\n",
              "          const dataTable =\n",
              "            await google.colab.kernel.invokeFunction('convertToInteractive',\n",
              "                                                     [key], {});\n",
              "          if (!dataTable) return;\n",
              "\n",
              "          const docLinkHtml = 'Like what you see? Visit the ' +\n",
              "            '<a target=\"_blank\" href=https://colab.research.google.com/notebooks/data_table.ipynb>data table notebook</a>'\n",
              "            + ' to learn more about interactive tables.';\n",
              "          element.innerHTML = '';\n",
              "          dataTable['output_type'] = 'display_data';\n",
              "          await google.colab.output.renderOutput(dataTable, element);\n",
              "          const docLink = document.createElement('div');\n",
              "          docLink.innerHTML = docLinkHtml;\n",
              "          element.appendChild(docLink);\n",
              "        }\n",
              "      </script>\n",
              "    </div>\n",
              "  </div>\n",
              "  "
            ]
          },
          "metadata": {},
          "execution_count": 263
        }
      ],
      "source": [
        "df_census.tail(5)"
      ]
    },
    {
      "cell_type": "code",
      "source": [
        "# check for duplicates in data\n",
        "duplicateRows = df_census[df_census.duplicated()] # checking for duplicate rows\n",
        "duplicateRows"
      ],
      "metadata": {
        "id": "jEeRDTFAmBpM",
        "colab": {
          "base_uri": "https://localhost:8080/",
          "height": 49
        },
        "outputId": "e1ff21ca-0a18-483c-ea16-4569f030bf4c"
      },
      "execution_count": null,
      "outputs": [
        {
          "output_type": "execute_result",
          "data": {
            "text/plain": [
              "Empty DataFrame\n",
              "Columns: [Unnamed: 0, House Number, Street, First Name, Surname, Age, Relationship to Head of House, Marital Status, Gender, Occupation, Infirmity, Religion]\n",
              "Index: []"
            ],
            "text/html": [
              "\n",
              "  <div id=\"df-1015964d-7336-4244-8de8-0a17e001d41b\">\n",
              "    <div class=\"colab-df-container\">\n",
              "      <div>\n",
              "<style scoped>\n",
              "    .dataframe tbody tr th:only-of-type {\n",
              "        vertical-align: middle;\n",
              "    }\n",
              "\n",
              "    .dataframe tbody tr th {\n",
              "        vertical-align: top;\n",
              "    }\n",
              "\n",
              "    .dataframe thead th {\n",
              "        text-align: right;\n",
              "    }\n",
              "</style>\n",
              "<table border=\"1\" class=\"dataframe\">\n",
              "  <thead>\n",
              "    <tr style=\"text-align: right;\">\n",
              "      <th></th>\n",
              "      <th>Unnamed: 0</th>\n",
              "      <th>House Number</th>\n",
              "      <th>Street</th>\n",
              "      <th>First Name</th>\n",
              "      <th>Surname</th>\n",
              "      <th>Age</th>\n",
              "      <th>Relationship to Head of House</th>\n",
              "      <th>Marital Status</th>\n",
              "      <th>Gender</th>\n",
              "      <th>Occupation</th>\n",
              "      <th>Infirmity</th>\n",
              "      <th>Religion</th>\n",
              "    </tr>\n",
              "  </thead>\n",
              "  <tbody>\n",
              "  </tbody>\n",
              "</table>\n",
              "</div>\n",
              "      <button class=\"colab-df-convert\" onclick=\"convertToInteractive('df-1015964d-7336-4244-8de8-0a17e001d41b')\"\n",
              "              title=\"Convert this dataframe to an interactive table.\"\n",
              "              style=\"display:none;\">\n",
              "        \n",
              "  <svg xmlns=\"http://www.w3.org/2000/svg\" height=\"24px\"viewBox=\"0 0 24 24\"\n",
              "       width=\"24px\">\n",
              "    <path d=\"M0 0h24v24H0V0z\" fill=\"none\"/>\n",
              "    <path d=\"M18.56 5.44l.94 2.06.94-2.06 2.06-.94-2.06-.94-.94-2.06-.94 2.06-2.06.94zm-11 1L8.5 8.5l.94-2.06 2.06-.94-2.06-.94L8.5 2.5l-.94 2.06-2.06.94zm10 10l.94 2.06.94-2.06 2.06-.94-2.06-.94-.94-2.06-.94 2.06-2.06.94z\"/><path d=\"M17.41 7.96l-1.37-1.37c-.4-.4-.92-.59-1.43-.59-.52 0-1.04.2-1.43.59L10.3 9.45l-7.72 7.72c-.78.78-.78 2.05 0 2.83L4 21.41c.39.39.9.59 1.41.59.51 0 1.02-.2 1.41-.59l7.78-7.78 2.81-2.81c.8-.78.8-2.07 0-2.86zM5.41 20L4 18.59l7.72-7.72 1.47 1.35L5.41 20z\"/>\n",
              "  </svg>\n",
              "      </button>\n",
              "      \n",
              "  <style>\n",
              "    .colab-df-container {\n",
              "      display:flex;\n",
              "      flex-wrap:wrap;\n",
              "      gap: 12px;\n",
              "    }\n",
              "\n",
              "    .colab-df-convert {\n",
              "      background-color: #E8F0FE;\n",
              "      border: none;\n",
              "      border-radius: 50%;\n",
              "      cursor: pointer;\n",
              "      display: none;\n",
              "      fill: #1967D2;\n",
              "      height: 32px;\n",
              "      padding: 0 0 0 0;\n",
              "      width: 32px;\n",
              "    }\n",
              "\n",
              "    .colab-df-convert:hover {\n",
              "      background-color: #E2EBFA;\n",
              "      box-shadow: 0px 1px 2px rgba(60, 64, 67, 0.3), 0px 1px 3px 1px rgba(60, 64, 67, 0.15);\n",
              "      fill: #174EA6;\n",
              "    }\n",
              "\n",
              "    [theme=dark] .colab-df-convert {\n",
              "      background-color: #3B4455;\n",
              "      fill: #D2E3FC;\n",
              "    }\n",
              "\n",
              "    [theme=dark] .colab-df-convert:hover {\n",
              "      background-color: #434B5C;\n",
              "      box-shadow: 0px 1px 3px 1px rgba(0, 0, 0, 0.15);\n",
              "      filter: drop-shadow(0px 1px 2px rgba(0, 0, 0, 0.3));\n",
              "      fill: #FFFFFF;\n",
              "    }\n",
              "  </style>\n",
              "\n",
              "      <script>\n",
              "        const buttonEl =\n",
              "          document.querySelector('#df-1015964d-7336-4244-8de8-0a17e001d41b button.colab-df-convert');\n",
              "        buttonEl.style.display =\n",
              "          google.colab.kernel.accessAllowed ? 'block' : 'none';\n",
              "\n",
              "        async function convertToInteractive(key) {\n",
              "          const element = document.querySelector('#df-1015964d-7336-4244-8de8-0a17e001d41b');\n",
              "          const dataTable =\n",
              "            await google.colab.kernel.invokeFunction('convertToInteractive',\n",
              "                                                     [key], {});\n",
              "          if (!dataTable) return;\n",
              "\n",
              "          const docLinkHtml = 'Like what you see? Visit the ' +\n",
              "            '<a target=\"_blank\" href=https://colab.research.google.com/notebooks/data_table.ipynb>data table notebook</a>'\n",
              "            + ' to learn more about interactive tables.';\n",
              "          element.innerHTML = '';\n",
              "          dataTable['output_type'] = 'display_data';\n",
              "          await google.colab.output.renderOutput(dataTable, element);\n",
              "          const docLink = document.createElement('div');\n",
              "          docLink.innerHTML = docLinkHtml;\n",
              "          element.appendChild(docLink);\n",
              "        }\n",
              "      </script>\n",
              "    </div>\n",
              "  </div>\n",
              "  "
            ]
          },
          "metadata": {},
          "execution_count": 264
        }
      ]
    },
    {
      "cell_type": "code",
      "execution_count": null,
      "metadata": {
        "scrolled": true,
        "id": "vmsSEh4a5SzX",
        "outputId": "b8bdf046-8784-42a2-98d3-07912d5ec861",
        "colab": {
          "base_uri": "https://localhost:8080/",
          "height": 423
        }
      },
      "outputs": [
        {
          "output_type": "execute_result",
          "data": {
            "text/plain": [
              "      Unnamed: 0  House Number  Street  First Name  Surname    Age  \\\n",
              "0          False         False   False       False    False  False   \n",
              "1          False         False   False       False    False  False   \n",
              "2          False         False   False       False    False  False   \n",
              "3          False         False   False       False    False  False   \n",
              "4          False         False   False       False    False  False   \n",
              "...          ...           ...     ...         ...      ...    ...   \n",
              "9538       False         False   False       False    False  False   \n",
              "9539       False         False   False       False    False  False   \n",
              "9540       False         False   False       False    False  False   \n",
              "9541       False         False   False       False    False  False   \n",
              "9542       False         False   False       False    False  False   \n",
              "\n",
              "      Relationship to Head of House  Marital Status  Gender  Occupation  \\\n",
              "0                             False           False   False       False   \n",
              "1                             False           False   False       False   \n",
              "2                             False            True   False       False   \n",
              "3                             False            True   False       False   \n",
              "4                             False           False   False       False   \n",
              "...                             ...             ...     ...         ...   \n",
              "9538                          False           False   False       False   \n",
              "9539                          False           False   False       False   \n",
              "9540                          False           False   False       False   \n",
              "9541                          False           False   False       False   \n",
              "9542                          False           False   False       False   \n",
              "\n",
              "      Infirmity  Religion  \n",
              "0         False     False  \n",
              "1         False     False  \n",
              "2         False      True  \n",
              "3         False      True  \n",
              "4         False     False  \n",
              "...         ...       ...  \n",
              "9538      False     False  \n",
              "9539      False     False  \n",
              "9540      False     False  \n",
              "9541      False     False  \n",
              "9542      False     False  \n",
              "\n",
              "[9543 rows x 12 columns]"
            ],
            "text/html": [
              "\n",
              "  <div id=\"df-33cb26a3-f4fc-4790-b6e0-a7266974c330\">\n",
              "    <div class=\"colab-df-container\">\n",
              "      <div>\n",
              "<style scoped>\n",
              "    .dataframe tbody tr th:only-of-type {\n",
              "        vertical-align: middle;\n",
              "    }\n",
              "\n",
              "    .dataframe tbody tr th {\n",
              "        vertical-align: top;\n",
              "    }\n",
              "\n",
              "    .dataframe thead th {\n",
              "        text-align: right;\n",
              "    }\n",
              "</style>\n",
              "<table border=\"1\" class=\"dataframe\">\n",
              "  <thead>\n",
              "    <tr style=\"text-align: right;\">\n",
              "      <th></th>\n",
              "      <th>Unnamed: 0</th>\n",
              "      <th>House Number</th>\n",
              "      <th>Street</th>\n",
              "      <th>First Name</th>\n",
              "      <th>Surname</th>\n",
              "      <th>Age</th>\n",
              "      <th>Relationship to Head of House</th>\n",
              "      <th>Marital Status</th>\n",
              "      <th>Gender</th>\n",
              "      <th>Occupation</th>\n",
              "      <th>Infirmity</th>\n",
              "      <th>Religion</th>\n",
              "    </tr>\n",
              "  </thead>\n",
              "  <tbody>\n",
              "    <tr>\n",
              "      <th>0</th>\n",
              "      <td>False</td>\n",
              "      <td>False</td>\n",
              "      <td>False</td>\n",
              "      <td>False</td>\n",
              "      <td>False</td>\n",
              "      <td>False</td>\n",
              "      <td>False</td>\n",
              "      <td>False</td>\n",
              "      <td>False</td>\n",
              "      <td>False</td>\n",
              "      <td>False</td>\n",
              "      <td>False</td>\n",
              "    </tr>\n",
              "    <tr>\n",
              "      <th>1</th>\n",
              "      <td>False</td>\n",
              "      <td>False</td>\n",
              "      <td>False</td>\n",
              "      <td>False</td>\n",
              "      <td>False</td>\n",
              "      <td>False</td>\n",
              "      <td>False</td>\n",
              "      <td>False</td>\n",
              "      <td>False</td>\n",
              "      <td>False</td>\n",
              "      <td>False</td>\n",
              "      <td>False</td>\n",
              "    </tr>\n",
              "    <tr>\n",
              "      <th>2</th>\n",
              "      <td>False</td>\n",
              "      <td>False</td>\n",
              "      <td>False</td>\n",
              "      <td>False</td>\n",
              "      <td>False</td>\n",
              "      <td>False</td>\n",
              "      <td>False</td>\n",
              "      <td>True</td>\n",
              "      <td>False</td>\n",
              "      <td>False</td>\n",
              "      <td>False</td>\n",
              "      <td>True</td>\n",
              "    </tr>\n",
              "    <tr>\n",
              "      <th>3</th>\n",
              "      <td>False</td>\n",
              "      <td>False</td>\n",
              "      <td>False</td>\n",
              "      <td>False</td>\n",
              "      <td>False</td>\n",
              "      <td>False</td>\n",
              "      <td>False</td>\n",
              "      <td>True</td>\n",
              "      <td>False</td>\n",
              "      <td>False</td>\n",
              "      <td>False</td>\n",
              "      <td>True</td>\n",
              "    </tr>\n",
              "    <tr>\n",
              "      <th>4</th>\n",
              "      <td>False</td>\n",
              "      <td>False</td>\n",
              "      <td>False</td>\n",
              "      <td>False</td>\n",
              "      <td>False</td>\n",
              "      <td>False</td>\n",
              "      <td>False</td>\n",
              "      <td>False</td>\n",
              "      <td>False</td>\n",
              "      <td>False</td>\n",
              "      <td>False</td>\n",
              "      <td>False</td>\n",
              "    </tr>\n",
              "    <tr>\n",
              "      <th>...</th>\n",
              "      <td>...</td>\n",
              "      <td>...</td>\n",
              "      <td>...</td>\n",
              "      <td>...</td>\n",
              "      <td>...</td>\n",
              "      <td>...</td>\n",
              "      <td>...</td>\n",
              "      <td>...</td>\n",
              "      <td>...</td>\n",
              "      <td>...</td>\n",
              "      <td>...</td>\n",
              "      <td>...</td>\n",
              "    </tr>\n",
              "    <tr>\n",
              "      <th>9538</th>\n",
              "      <td>False</td>\n",
              "      <td>False</td>\n",
              "      <td>False</td>\n",
              "      <td>False</td>\n",
              "      <td>False</td>\n",
              "      <td>False</td>\n",
              "      <td>False</td>\n",
              "      <td>False</td>\n",
              "      <td>False</td>\n",
              "      <td>False</td>\n",
              "      <td>False</td>\n",
              "      <td>False</td>\n",
              "    </tr>\n",
              "    <tr>\n",
              "      <th>9539</th>\n",
              "      <td>False</td>\n",
              "      <td>False</td>\n",
              "      <td>False</td>\n",
              "      <td>False</td>\n",
              "      <td>False</td>\n",
              "      <td>False</td>\n",
              "      <td>False</td>\n",
              "      <td>False</td>\n",
              "      <td>False</td>\n",
              "      <td>False</td>\n",
              "      <td>False</td>\n",
              "      <td>False</td>\n",
              "    </tr>\n",
              "    <tr>\n",
              "      <th>9540</th>\n",
              "      <td>False</td>\n",
              "      <td>False</td>\n",
              "      <td>False</td>\n",
              "      <td>False</td>\n",
              "      <td>False</td>\n",
              "      <td>False</td>\n",
              "      <td>False</td>\n",
              "      <td>False</td>\n",
              "      <td>False</td>\n",
              "      <td>False</td>\n",
              "      <td>False</td>\n",
              "      <td>False</td>\n",
              "    </tr>\n",
              "    <tr>\n",
              "      <th>9541</th>\n",
              "      <td>False</td>\n",
              "      <td>False</td>\n",
              "      <td>False</td>\n",
              "      <td>False</td>\n",
              "      <td>False</td>\n",
              "      <td>False</td>\n",
              "      <td>False</td>\n",
              "      <td>False</td>\n",
              "      <td>False</td>\n",
              "      <td>False</td>\n",
              "      <td>False</td>\n",
              "      <td>False</td>\n",
              "    </tr>\n",
              "    <tr>\n",
              "      <th>9542</th>\n",
              "      <td>False</td>\n",
              "      <td>False</td>\n",
              "      <td>False</td>\n",
              "      <td>False</td>\n",
              "      <td>False</td>\n",
              "      <td>False</td>\n",
              "      <td>False</td>\n",
              "      <td>False</td>\n",
              "      <td>False</td>\n",
              "      <td>False</td>\n",
              "      <td>False</td>\n",
              "      <td>False</td>\n",
              "    </tr>\n",
              "  </tbody>\n",
              "</table>\n",
              "<p>9543 rows × 12 columns</p>\n",
              "</div>\n",
              "      <button class=\"colab-df-convert\" onclick=\"convertToInteractive('df-33cb26a3-f4fc-4790-b6e0-a7266974c330')\"\n",
              "              title=\"Convert this dataframe to an interactive table.\"\n",
              "              style=\"display:none;\">\n",
              "        \n",
              "  <svg xmlns=\"http://www.w3.org/2000/svg\" height=\"24px\"viewBox=\"0 0 24 24\"\n",
              "       width=\"24px\">\n",
              "    <path d=\"M0 0h24v24H0V0z\" fill=\"none\"/>\n",
              "    <path d=\"M18.56 5.44l.94 2.06.94-2.06 2.06-.94-2.06-.94-.94-2.06-.94 2.06-2.06.94zm-11 1L8.5 8.5l.94-2.06 2.06-.94-2.06-.94L8.5 2.5l-.94 2.06-2.06.94zm10 10l.94 2.06.94-2.06 2.06-.94-2.06-.94-.94-2.06-.94 2.06-2.06.94z\"/><path d=\"M17.41 7.96l-1.37-1.37c-.4-.4-.92-.59-1.43-.59-.52 0-1.04.2-1.43.59L10.3 9.45l-7.72 7.72c-.78.78-.78 2.05 0 2.83L4 21.41c.39.39.9.59 1.41.59.51 0 1.02-.2 1.41-.59l7.78-7.78 2.81-2.81c.8-.78.8-2.07 0-2.86zM5.41 20L4 18.59l7.72-7.72 1.47 1.35L5.41 20z\"/>\n",
              "  </svg>\n",
              "      </button>\n",
              "      \n",
              "  <style>\n",
              "    .colab-df-container {\n",
              "      display:flex;\n",
              "      flex-wrap:wrap;\n",
              "      gap: 12px;\n",
              "    }\n",
              "\n",
              "    .colab-df-convert {\n",
              "      background-color: #E8F0FE;\n",
              "      border: none;\n",
              "      border-radius: 50%;\n",
              "      cursor: pointer;\n",
              "      display: none;\n",
              "      fill: #1967D2;\n",
              "      height: 32px;\n",
              "      padding: 0 0 0 0;\n",
              "      width: 32px;\n",
              "    }\n",
              "\n",
              "    .colab-df-convert:hover {\n",
              "      background-color: #E2EBFA;\n",
              "      box-shadow: 0px 1px 2px rgba(60, 64, 67, 0.3), 0px 1px 3px 1px rgba(60, 64, 67, 0.15);\n",
              "      fill: #174EA6;\n",
              "    }\n",
              "\n",
              "    [theme=dark] .colab-df-convert {\n",
              "      background-color: #3B4455;\n",
              "      fill: #D2E3FC;\n",
              "    }\n",
              "\n",
              "    [theme=dark] .colab-df-convert:hover {\n",
              "      background-color: #434B5C;\n",
              "      box-shadow: 0px 1px 3px 1px rgba(0, 0, 0, 0.15);\n",
              "      filter: drop-shadow(0px 1px 2px rgba(0, 0, 0, 0.3));\n",
              "      fill: #FFFFFF;\n",
              "    }\n",
              "  </style>\n",
              "\n",
              "      <script>\n",
              "        const buttonEl =\n",
              "          document.querySelector('#df-33cb26a3-f4fc-4790-b6e0-a7266974c330 button.colab-df-convert');\n",
              "        buttonEl.style.display =\n",
              "          google.colab.kernel.accessAllowed ? 'block' : 'none';\n",
              "\n",
              "        async function convertToInteractive(key) {\n",
              "          const element = document.querySelector('#df-33cb26a3-f4fc-4790-b6e0-a7266974c330');\n",
              "          const dataTable =\n",
              "            await google.colab.kernel.invokeFunction('convertToInteractive',\n",
              "                                                     [key], {});\n",
              "          if (!dataTable) return;\n",
              "\n",
              "          const docLinkHtml = 'Like what you see? Visit the ' +\n",
              "            '<a target=\"_blank\" href=https://colab.research.google.com/notebooks/data_table.ipynb>data table notebook</a>'\n",
              "            + ' to learn more about interactive tables.';\n",
              "          element.innerHTML = '';\n",
              "          dataTable['output_type'] = 'display_data';\n",
              "          await google.colab.output.renderOutput(dataTable, element);\n",
              "          const docLink = document.createElement('div');\n",
              "          docLink.innerHTML = docLinkHtml;\n",
              "          element.appendChild(docLink);\n",
              "        }\n",
              "      </script>\n",
              "    </div>\n",
              "  </div>\n",
              "  "
            ]
          },
          "metadata": {},
          "execution_count": 265
        }
      ],
      "source": [
        "#checking for missing values in the dataset\n",
        "df_census.isna()"
      ]
    },
    {
      "cell_type": "code",
      "source": [
        "# Making a list of missing value types\n",
        "missing_values = [\"n/a\", \"--\", ' '] #whitespaces etc\n",
        "df_census = pd.read_csv('/content/drive/MyDrive/Colab Notebooks/DS Task 2/census_12_2022.csv', na_values = missing_values)"
      ],
      "metadata": {
        "id": "AycnI1VVll0D"
      },
      "execution_count": null,
      "outputs": []
    },
    {
      "cell_type": "code",
      "source": [
        "df_census.loc[:, df_census.isnull().any()].columns #columns with missing values"
      ],
      "metadata": {
        "colab": {
          "base_uri": "https://localhost:8080/"
        },
        "id": "Jot__abM55Hi",
        "outputId": "2e2be863-7687-4531-8891-81e7f167d5e6"
      },
      "execution_count": null,
      "outputs": [
        {
          "output_type": "execute_result",
          "data": {
            "text/plain": [
              "Index(['First Name', 'Surname', 'Age', 'Marital Status', 'Gender',\n",
              "       'Occupation', 'Infirmity', 'Religion'],\n",
              "      dtype='object')"
            ]
          },
          "metadata": {},
          "execution_count": 267
        }
      ]
    },
    {
      "cell_type": "code",
      "execution_count": null,
      "metadata": {
        "id": "oIw1yR8J5SzX",
        "outputId": "2ed3a232-03b9-4a1b-8fdc-c076962a4fd9",
        "colab": {
          "base_uri": "https://localhost:8080/"
        }
      },
      "outputs": [
        {
          "output_type": "execute_result",
          "data": {
            "text/plain": [
              "Unnamed: 0                          0\n",
              "House Number                        0\n",
              "Street                              0\n",
              "First Name                          3\n",
              "Surname                             2\n",
              "Age                                 1\n",
              "Relationship to Head of House       0\n",
              "Marital Status                   2193\n",
              "Gender                              1\n",
              "Occupation                          1\n",
              "Infirmity                          15\n",
              "Religion                         2258\n",
              "dtype: int64"
            ]
          },
          "metadata": {},
          "execution_count": 268
        }
      ],
      "source": [
        "df_census.isnull().sum() #checking for sum of all the null"
      ]
    },
    {
      "cell_type": "code",
      "source": [
        "df_census.isna().sum()/(len(df_census))*100"
      ],
      "metadata": {
        "id": "F4GZJCDKl8BM",
        "colab": {
          "base_uri": "https://localhost:8080/"
        },
        "outputId": "f6454138-83c3-4efa-9bdd-2401894b0d0e"
      },
      "execution_count": null,
      "outputs": [
        {
          "output_type": "execute_result",
          "data": {
            "text/plain": [
              "Unnamed: 0                        0.000000\n",
              "House Number                      0.000000\n",
              "Street                            0.000000\n",
              "First Name                        0.031437\n",
              "Surname                           0.020958\n",
              "Age                               0.010479\n",
              "Relationship to Head of House     0.000000\n",
              "Marital Status                   22.980195\n",
              "Gender                            0.010479\n",
              "Occupation                        0.010479\n",
              "Infirmity                         0.157183\n",
              "Religion                         23.661322\n",
              "dtype: float64"
            ]
          },
          "metadata": {},
          "execution_count": 269
        }
      ]
    },
    {
      "cell_type": "code",
      "execution_count": null,
      "metadata": {
        "id": "YSXp5S1G9PLY"
      },
      "outputs": [],
      "source": [
        "#drop the unamed column as this is not relevant for any of my analysis\n",
        "df_census = df_census.drop(\"Unnamed: 0\", axis = 1)"
      ]
    },
    {
      "cell_type": "code",
      "source": [
        "# Using the describe function to explore the DataFrame\n",
        "df_census.describe()"
      ],
      "metadata": {
        "colab": {
          "base_uri": "https://localhost:8080/",
          "height": 175
        },
        "id": "9ipjjgEx8pdg",
        "outputId": "b3802551-9cef-4099-a00a-2d727fb8a79e"
      },
      "execution_count": null,
      "outputs": [
        {
          "output_type": "execute_result",
          "data": {
            "text/plain": [
              "       House Number         Street First Name Surname   Age  \\\n",
              "count          9543           9543       9540    9541  9542   \n",
              "unique          245            104        365     690   116   \n",
              "top               1  Canary Avenue    Barbara   Smith    19   \n",
              "freq            350            798         42     285   198   \n",
              "\n",
              "       Relationship to Head of House Marital Status  Gender Occupation  \\\n",
              "count                           9543           7350    9542       9542   \n",
              "unique                            21              8       8       1106   \n",
              "top                             Head         Single  Female    Student   \n",
              "freq                            3342           3451    4880       1796   \n",
              "\n",
              "       Infirmity Religion  \n",
              "count       9528     7285  \n",
              "unique         7       14  \n",
              "top         None     None  \n",
              "freq        9465     3170  "
            ],
            "text/html": [
              "\n",
              "  <div id=\"df-5212d27a-5fb5-4e6a-a03e-6daffa46864a\">\n",
              "    <div class=\"colab-df-container\">\n",
              "      <div>\n",
              "<style scoped>\n",
              "    .dataframe tbody tr th:only-of-type {\n",
              "        vertical-align: middle;\n",
              "    }\n",
              "\n",
              "    .dataframe tbody tr th {\n",
              "        vertical-align: top;\n",
              "    }\n",
              "\n",
              "    .dataframe thead th {\n",
              "        text-align: right;\n",
              "    }\n",
              "</style>\n",
              "<table border=\"1\" class=\"dataframe\">\n",
              "  <thead>\n",
              "    <tr style=\"text-align: right;\">\n",
              "      <th></th>\n",
              "      <th>House Number</th>\n",
              "      <th>Street</th>\n",
              "      <th>First Name</th>\n",
              "      <th>Surname</th>\n",
              "      <th>Age</th>\n",
              "      <th>Relationship to Head of House</th>\n",
              "      <th>Marital Status</th>\n",
              "      <th>Gender</th>\n",
              "      <th>Occupation</th>\n",
              "      <th>Infirmity</th>\n",
              "      <th>Religion</th>\n",
              "    </tr>\n",
              "  </thead>\n",
              "  <tbody>\n",
              "    <tr>\n",
              "      <th>count</th>\n",
              "      <td>9543</td>\n",
              "      <td>9543</td>\n",
              "      <td>9540</td>\n",
              "      <td>9541</td>\n",
              "      <td>9542</td>\n",
              "      <td>9543</td>\n",
              "      <td>7350</td>\n",
              "      <td>9542</td>\n",
              "      <td>9542</td>\n",
              "      <td>9528</td>\n",
              "      <td>7285</td>\n",
              "    </tr>\n",
              "    <tr>\n",
              "      <th>unique</th>\n",
              "      <td>245</td>\n",
              "      <td>104</td>\n",
              "      <td>365</td>\n",
              "      <td>690</td>\n",
              "      <td>116</td>\n",
              "      <td>21</td>\n",
              "      <td>8</td>\n",
              "      <td>8</td>\n",
              "      <td>1106</td>\n",
              "      <td>7</td>\n",
              "      <td>14</td>\n",
              "    </tr>\n",
              "    <tr>\n",
              "      <th>top</th>\n",
              "      <td>1</td>\n",
              "      <td>Canary Avenue</td>\n",
              "      <td>Barbara</td>\n",
              "      <td>Smith</td>\n",
              "      <td>19</td>\n",
              "      <td>Head</td>\n",
              "      <td>Single</td>\n",
              "      <td>Female</td>\n",
              "      <td>Student</td>\n",
              "      <td>None</td>\n",
              "      <td>None</td>\n",
              "    </tr>\n",
              "    <tr>\n",
              "      <th>freq</th>\n",
              "      <td>350</td>\n",
              "      <td>798</td>\n",
              "      <td>42</td>\n",
              "      <td>285</td>\n",
              "      <td>198</td>\n",
              "      <td>3342</td>\n",
              "      <td>3451</td>\n",
              "      <td>4880</td>\n",
              "      <td>1796</td>\n",
              "      <td>9465</td>\n",
              "      <td>3170</td>\n",
              "    </tr>\n",
              "  </tbody>\n",
              "</table>\n",
              "</div>\n",
              "      <button class=\"colab-df-convert\" onclick=\"convertToInteractive('df-5212d27a-5fb5-4e6a-a03e-6daffa46864a')\"\n",
              "              title=\"Convert this dataframe to an interactive table.\"\n",
              "              style=\"display:none;\">\n",
              "        \n",
              "  <svg xmlns=\"http://www.w3.org/2000/svg\" height=\"24px\"viewBox=\"0 0 24 24\"\n",
              "       width=\"24px\">\n",
              "    <path d=\"M0 0h24v24H0V0z\" fill=\"none\"/>\n",
              "    <path d=\"M18.56 5.44l.94 2.06.94-2.06 2.06-.94-2.06-.94-.94-2.06-.94 2.06-2.06.94zm-11 1L8.5 8.5l.94-2.06 2.06-.94-2.06-.94L8.5 2.5l-.94 2.06-2.06.94zm10 10l.94 2.06.94-2.06 2.06-.94-2.06-.94-.94-2.06-.94 2.06-2.06.94z\"/><path d=\"M17.41 7.96l-1.37-1.37c-.4-.4-.92-.59-1.43-.59-.52 0-1.04.2-1.43.59L10.3 9.45l-7.72 7.72c-.78.78-.78 2.05 0 2.83L4 21.41c.39.39.9.59 1.41.59.51 0 1.02-.2 1.41-.59l7.78-7.78 2.81-2.81c.8-.78.8-2.07 0-2.86zM5.41 20L4 18.59l7.72-7.72 1.47 1.35L5.41 20z\"/>\n",
              "  </svg>\n",
              "      </button>\n",
              "      \n",
              "  <style>\n",
              "    .colab-df-container {\n",
              "      display:flex;\n",
              "      flex-wrap:wrap;\n",
              "      gap: 12px;\n",
              "    }\n",
              "\n",
              "    .colab-df-convert {\n",
              "      background-color: #E8F0FE;\n",
              "      border: none;\n",
              "      border-radius: 50%;\n",
              "      cursor: pointer;\n",
              "      display: none;\n",
              "      fill: #1967D2;\n",
              "      height: 32px;\n",
              "      padding: 0 0 0 0;\n",
              "      width: 32px;\n",
              "    }\n",
              "\n",
              "    .colab-df-convert:hover {\n",
              "      background-color: #E2EBFA;\n",
              "      box-shadow: 0px 1px 2px rgba(60, 64, 67, 0.3), 0px 1px 3px 1px rgba(60, 64, 67, 0.15);\n",
              "      fill: #174EA6;\n",
              "    }\n",
              "\n",
              "    [theme=dark] .colab-df-convert {\n",
              "      background-color: #3B4455;\n",
              "      fill: #D2E3FC;\n",
              "    }\n",
              "\n",
              "    [theme=dark] .colab-df-convert:hover {\n",
              "      background-color: #434B5C;\n",
              "      box-shadow: 0px 1px 3px 1px rgba(0, 0, 0, 0.15);\n",
              "      filter: drop-shadow(0px 1px 2px rgba(0, 0, 0, 0.3));\n",
              "      fill: #FFFFFF;\n",
              "    }\n",
              "  </style>\n",
              "\n",
              "      <script>\n",
              "        const buttonEl =\n",
              "          document.querySelector('#df-5212d27a-5fb5-4e6a-a03e-6daffa46864a button.colab-df-convert');\n",
              "        buttonEl.style.display =\n",
              "          google.colab.kernel.accessAllowed ? 'block' : 'none';\n",
              "\n",
              "        async function convertToInteractive(key) {\n",
              "          const element = document.querySelector('#df-5212d27a-5fb5-4e6a-a03e-6daffa46864a');\n",
              "          const dataTable =\n",
              "            await google.colab.kernel.invokeFunction('convertToInteractive',\n",
              "                                                     [key], {});\n",
              "          if (!dataTable) return;\n",
              "\n",
              "          const docLinkHtml = 'Like what you see? Visit the ' +\n",
              "            '<a target=\"_blank\" href=https://colab.research.google.com/notebooks/data_table.ipynb>data table notebook</a>'\n",
              "            + ' to learn more about interactive tables.';\n",
              "          element.innerHTML = '';\n",
              "          dataTable['output_type'] = 'display_data';\n",
              "          await google.colab.output.renderOutput(dataTable, element);\n",
              "          const docLink = document.createElement('div');\n",
              "          docLink.innerHTML = docLinkHtml;\n",
              "          element.appendChild(docLink);\n",
              "        }\n",
              "      </script>\n",
              "    </div>\n",
              "  </div>\n",
              "  "
            ]
          },
          "metadata": {},
          "execution_count": 271
        }
      ]
    },
    {
      "cell_type": "code",
      "source": [
        "msno.bar(df_census)"
      ],
      "metadata": {
        "colab": {
          "base_uri": "https://localhost:8080/",
          "height": 824
        },
        "id": "lzBsQPzw99Wj",
        "outputId": "e6b5ddf0-2cb3-483d-fe77-1f6f0e096a50"
      },
      "execution_count": null,
      "outputs": [
        {
          "output_type": "execute_result",
          "data": {
            "text/plain": [
              "<matplotlib.axes._subplots.AxesSubplot at 0x7fcda4e6cb20>"
            ]
          },
          "metadata": {},
          "execution_count": 272
        },
        {
          "output_type": "display_data",
          "data": {
            "text/plain": [
              "<Figure size 1800x720 with 3 Axes>"
            ],
            "image/png": "[encoded data removed]"
          },
          "metadata": {}
        }
      ]
    },
    {
      "cell_type": "code",
      "source": [],
      "metadata": {
        "id": "MsQJxBycwMbW"
      },
      "execution_count": null,
      "outputs": []
    },
    {
      "cell_type": "code",
      "source": [
        "def composition(df_in, feature):\n",
        "    key = {}\n",
        "    composed = {}\n",
        "    for r in df_in[feature]:\n",
        "        composed[r] = round((df_in[df_in[feature] == r]['Age'].notnull().sum()/9543)*100,2)\n",
        "    #return composed\n",
        "    for k, v in composed.items():\n",
        "        print(f'{k} : {v}%')"
      ],
      "metadata": {
        "id": "2RdxliynlXnq"
      },
      "execution_count": null,
      "outputs": []
    },
    {
      "cell_type": "markdown",
      "source": [],
      "metadata": {
        "id": "5uIinNWPkG6-"
      }
    },
    {
      "cell_type": "markdown",
      "metadata": {
        "id": "HBRptHhb5SzZ"
      },
      "source": [
        "## Data Cleaning"
      ]
    },
    {
      "cell_type": "markdown",
      "metadata": {
        "id": "2lTUFkFJ5Sza"
      },
      "source": [
        "#### House Number"
      ]
    },
    {
      "cell_type": "code",
      "execution_count": null,
      "metadata": {
        "scrolled": false,
        "id": "P5w_OzUf5Sza",
        "colab": {
          "base_uri": "https://localhost:8080/"
        },
        "outputId": "cf8e180a-8fde-4fb9-ac54-a6b474b2fc44"
      },
      "outputs": [
        {
          "output_type": "execute_result",
          "data": {
            "text/plain": [
              "array(['1', '2', '3', '4', '5', '6', '7', '8', '9', '10', 'Two', '11',\n",
              "       '12', '13', '14', '15', '16', '17', '18', '19', '20', '21', '22',\n",
              "       '23', '24', '25', '26', '27', '28', '29', '30', '31', '32', '33',\n",
              "       '34', '35', '36', '37', '38', '39', '40', '41', '42', '43', '44',\n",
              "       '45', '46', '47', '48', '49', '50', '51', '52', '53', '54', '55',\n",
              "       '56', '57', '58', '59', '60', '61', '62', '63', '64', '65', '66',\n",
              "       '67', '68', '69', '70', '71', '72', '73', '74', '75', '76', '77',\n",
              "       '78', '79', '80', '81', '82', '83', '84', '85', '86', '87', '88',\n",
              "       '89', '90', '91', '92', '93', '94', '95', '96', '97', '98', '99',\n",
              "       '100', '101', '102', '103', '104', '105', '106', '107', '108',\n",
              "       '109', '110', '111', '112', '113', '114', '115', '116', '117',\n",
              "       '118', '119', '120', '121', '122', '123', '124', '125', '126',\n",
              "       '127', '128', '129', '130', '131', '132', '133', '134', '135',\n",
              "       '136', '137', '138', '139', '140', '141', '142', '143', '144',\n",
              "       '145', '146', '147', '148', '149', '150', '151', '152', '153',\n",
              "       '154', '155', '156', '157', '158', '159', '160', '161', '162',\n",
              "       '163', '164', '165', '166', '167', '168', '169', '170', '171',\n",
              "       '172', '173', '174', '175', '176', '177', '178', '179', '180',\n",
              "       '181', '182', '183', '184', '185', '186', '187', '188', '189',\n",
              "       '190', '191', '192', '193', '194', '195', '196', '197', '198',\n",
              "       '199', '200', '201', '202', '203', '204', '205', '206', '207',\n",
              "       '208', '209', '210', '211', '212', '213', '214', '215', '216',\n",
              "       '217', '218', '219', '220', '221', '222', '223', '224', '225',\n",
              "       '226', '227', '228', '229', '230', '231', '232', '233', '234',\n",
              "       '235', '236', '237', '238', '239', '240', '241', '242', '243',\n",
              "       '244'], dtype=object)"
            ]
          },
          "metadata": {},
          "execution_count": 274
        }
      ],
      "source": [
        "#check unique values\n",
        "(df_census['House Number'].unique())"
      ]
    },
    {
      "cell_type": "code",
      "execution_count": null,
      "metadata": {
        "id": "m1e1xPiH5Szb",
        "colab": {
          "base_uri": "https://localhost:8080/"
        },
        "outputId": "7529c322-e97d-4408-9e52-a64b893fdd1b"
      },
      "outputs": [
        {
          "output_type": "execute_result",
          "data": {
            "text/plain": [
              "array(['1', '2', '3', '4', '5', '6', '7', '8', '9', '10', '11', '12',\n",
              "       '13', '14', '15', '16', '17', '18', '19', '20', '21', '22', '23',\n",
              "       '24', '25', '26', '27', '28', '29', '30', '31', '32', '33', '34',\n",
              "       '35', '36', '37', '38', '39', '40', '41', '42', '43', '44', '45',\n",
              "       '46', '47', '48', '49', '50', '51', '52', '53', '54', '55', '56',\n",
              "       '57', '58', '59', '60', '61', '62', '63', '64', '65', '66', '67',\n",
              "       '68', '69', '70', '71', '72', '73', '74', '75', '76', '77', '78',\n",
              "       '79', '80', '81', '82', '83', '84', '85', '86', '87', '88', '89',\n",
              "       '90', '91', '92', '93', '94', '95', '96', '97', '98', '99', '100',\n",
              "       '101', '102', '103', '104', '105', '106', '107', '108', '109',\n",
              "       '110', '111', '112', '113', '114', '115', '116', '117', '118',\n",
              "       '119', '120', '121', '122', '123', '124', '125', '126', '127',\n",
              "       '128', '129', '130', '131', '132', '133', '134', '135', '136',\n",
              "       '137', '138', '139', '140', '141', '142', '143', '144', '145',\n",
              "       '146', '147', '148', '149', '150', '151', '152', '153', '154',\n",
              "       '155', '156', '157', '158', '159', '160', '161', '162', '163',\n",
              "       '164', '165', '166', '167', '168', '169', '170', '171', '172',\n",
              "       '173', '174', '175', '176', '177', '178', '179', '180', '181',\n",
              "       '182', '183', '184', '185', '186', '187', '188', '189', '190',\n",
              "       '191', '192', '193', '194', '195', '196', '197', '198', '199',\n",
              "       '200', '201', '202', '203', '204', '205', '206', '207', '208',\n",
              "       '209', '210', '211', '212', '213', '214', '215', '216', '217',\n",
              "       '218', '219', '220', '221', '222', '223', '224', '225', '226',\n",
              "       '227', '228', '229', '230', '231', '232', '233', '234', '235',\n",
              "       '236', '237', '238', '239', '240', '241', '242', '243', '244'],\n",
              "      dtype=object)"
            ]
          },
          "metadata": {},
          "execution_count": 275
        }
      ],
      "source": [
        "df_census['House Number'] = df_census['House Number'].replace(['Two'], '2')\n",
        "\n",
        "#check unique values again if two has been replaced\n",
        "(df_census['House Number'].unique())"
      ]
    },
    {
      "cell_type": "markdown",
      "metadata": {
        "id": "8tKRxL_M5Szb"
      },
      "source": [
        "### Cleaning First name"
      ]
    },
    {
      "cell_type": "code",
      "execution_count": null,
      "metadata": {
        "id": "ZCE1sKPu5Szb",
        "colab": {
          "base_uri": "https://localhost:8080/"
        },
        "outputId": "bec13df3-43c7-4950-ff3f-cef64676c59b"
      },
      "outputs": [
        {
          "output_type": "execute_result",
          "data": {
            "text/plain": [
              "array(['Alice', 'Mitchell', 'Bernard', 'Kieran', 'Amy', 'Raymond',\n",
              "       'Beverley', 'Brenda', 'Ryan', 'Megan', 'Arthur', 'Lee',\n",
              "       'Christian', 'Lorraine', 'Stewart', 'Sheila', 'Claire', 'Tom',\n",
              "       'Alex', 'Jenna', 'Abdul', 'Liam', 'Natalie', 'Ricky', 'Aaron',\n",
              "       'Steven', 'Valerie', 'Albert', 'Reece', 'Debra', 'Catherine',\n",
              "       'Paul', 'Irene', 'Nicole', 'Anna', 'Norman', 'Kathryn', 'Carl',\n",
              "       'Lindsey', 'Gregory', 'Jordan', 'Leslie', 'Sylvia', 'Harry',\n",
              "       'Yvonne', 'Barbara', 'Ann', 'Conor', 'Garry', 'Joseph', 'William',\n",
              "       'Lauren', 'Lucy', 'Joe', 'Aimee', 'Billy', 'Charles', 'Naomi',\n",
              "       'Alison', 'Kevin', 'Geraldine', 'Ronald', 'Hugh', 'Lynne', 'Barry',\n",
              "       'Shannon', 'Leon', 'Eric', 'Ellie', 'Stephen', 'Leah', 'Paige',\n",
              "       'Bryan', 'Francesca', 'Anthony', 'Shirley', 'Thomas', 'Kyle',\n",
              "       'Kenneth', 'Denise', 'Gemma', 'Margaret', 'Carolyn', 'Howard',\n",
              "       'Linda', 'Damian', 'Helen', 'Rachel', 'Frederick', 'Donald',\n",
              "       'Lynn', 'Joel', 'Elaine', 'Karen', 'Rachael', 'Antony', 'Jeremy',\n",
              "       'Ruth', 'Lawrence', 'Eleanor', 'Hollie', 'George', 'Chelsea',\n",
              "       'Richard', 'Edward', 'Neil', 'Beth', 'Dorothy', 'Patricia',\n",
              "       'Heather', 'Louis', 'Sam', 'Jade', 'Matthew', 'Michael', 'Julie',\n",
              "       'Shane', 'Daniel', 'Tracey', 'June', 'Bruce', 'Hannah', 'Connor',\n",
              "       'Andrea', 'Anne', 'Jemma', 'Lisa', 'Jayne', 'Gary', 'Brian',\n",
              "       'Scott', 'Gerald', 'Louise', 'Robin', 'Colin', 'Darren', 'Jean',\n",
              "       'Jonathan', 'Ian', 'Dylan', 'Nathan', 'Rosie', 'Christopher',\n",
              "       'Molly', 'Tony', 'Vanessa', 'Tina', 'Katy', 'Pamela', 'Jack',\n",
              "       'Katie', 'Kate', 'Nicholas', 'Iain', 'Clive', 'Chloe', 'Shaun',\n",
              "       'Sian', 'Michelle', 'Adrian', 'Melanie', 'Toby', 'Nigel', 'Holly',\n",
              "       'Ashley', 'Lewis', 'Bethan', 'Danny', 'Mark', 'Jacqueline',\n",
              "       'Julia', 'Douglas', 'Dawn', 'Abigail', 'Melissa', 'Frank',\n",
              "       'Marion', 'Amelia', 'Dale', 'Joyce', 'Victor', 'Frances',\n",
              "       'Dominic', 'Rebecca', 'Mandy', 'Tracy', 'Gillian', 'Elliot',\n",
              "       'Donna', 'Stephanie', 'Paula', 'Stanley', 'Dean', 'Maureen',\n",
              "       'Trevor', 'Julian', 'Gerard', 'Leanne', 'Kathleen', 'Natasha',\n",
              "       'Jane', 'Mohammed', 'Allan', 'Sophie', 'Glenn', 'Teresa', 'Clare',\n",
              "       'Jay', 'Luke', 'Emily', 'Callum', 'Robert', 'Joanna', 'Wayne',\n",
              "       'Grace', 'Sandra', 'Russell', 'Charlie', 'Andrew', 'Pauline',\n",
              "       'Ben', 'Judith', 'Benjamin', 'Kelly', 'Simon', 'Elliott', 'Sarah',\n",
              "       'Diana', 'Carole', 'Martin', 'Annette', 'Martyn', 'Christine',\n",
              "       'Marie', 'Sara', 'Susan', 'Owen', 'Sean', 'Josephine', 'Jodie',\n",
              "       'Oliver', 'Mohamed', 'Justin', nan, 'Gail', 'Hilary', 'Rosemary',\n",
              "       'Marilyn', 'Victoria', 'Kirsty', 'Charlene', 'Danielle', 'Jamie',\n",
              "       'Kimberley', 'Lynda', 'Kerry', 'Janice', 'Damien', 'Joan',\n",
              "       'Georgina', 'Francis', 'Patrick', 'Olivia', 'Graham', 'Malcolm',\n",
              "       'Jessica', 'Denis', 'Diane', 'Elizabeth', 'Terence', 'Alexander',\n",
              "       'Roger', 'Guy', 'Lydia', 'Wendy', 'Harriet', 'James', 'Amanda',\n",
              "       'Angela', 'Roy', 'Nicola', 'Philip', 'Jasmine', 'Marc', 'Joanne',\n",
              "       'Kim', 'Charlotte', 'Mathew', 'Timothy', 'Leonard', 'Marcus',\n",
              "       'Sharon', 'David', 'Carol', 'Keith', 'Josh', 'Eileen', 'Mohammad',\n",
              "       'Mary', 'Henry', 'Janet', 'Glen', 'Jill', 'Suzanne', 'Brett',\n",
              "       'Jake', 'Rita', 'John', 'Joshua', 'Katherine', 'Peter', 'Caroline',\n",
              "       'Jeffrey', 'Sally', 'Alexandra', 'Zoe', 'Ross', 'Jacob', 'Laura',\n",
              "       'Marian', 'Carly', 'Geoffrey', 'Max', 'Adam', 'Alan', 'Emma',\n",
              "       'Terry', 'Declan', 'Fiona', 'Samantha', 'Rhys', 'Lesley',\n",
              "       'Bradley', 'Stacey', 'Amber', 'Gordon', 'Hazel', 'Dennis',\n",
              "       'Phillip', 'Kayleigh', 'Gavin', 'Ashleigh', 'Karl', 'Maria',\n",
              "       'Derek', 'Graeme', 'Leigh', 'Bethany', 'Vincent', 'Hayley',\n",
              "       'Samuel', 'Cheryl', 'Clifford', 'Stuart', 'Maurice', 'Jennifer',\n",
              "       'Duncan', 'Brandon', 'Abbie', 'Jason', 'Deborah', 'Gareth',\n",
              "       'Georgia', 'Craig', 'Cameron', 'Louis David'], dtype=object)"
            ]
          },
          "metadata": {},
          "execution_count": 276
        }
      ],
      "source": [
        "#check unique values\n",
        "(df_census['First Name'].unique())"
      ]
    },
    {
      "cell_type": "code",
      "execution_count": null,
      "metadata": {
        "id": "rW1qppg65Szc"
      },
      "outputs": [],
      "source": [
        "#replacing missing values in first name to suffix\n",
        "#These are females age 3 and 23 which are single\n",
        "#df_census.iloc[[405, 3677],[3]] = 'Miss'\n",
        "\n",
        "#This a male age 58 and divorced\n",
        "#df_census.iloc[[4509],[3]] = 'Mr'\n",
        "\n",
        "#check unique values again if ' ' has been replaced with no_fname\n",
        "#(df_census['First Name'].unique())"
      ]
    },
    {
      "cell_type": "code",
      "execution_count": null,
      "metadata": {
        "id": "CIyUscaE5Szd",
        "colab": {
          "base_uri": "https://localhost:8080/"
        },
        "outputId": "e7048ebf-0acb-4f61-8190-18206465a888"
      },
      "outputs": [
        {
          "output_type": "execute_result",
          "data": {
            "text/plain": [
              "array(['Alice', 'Mitchell', 'Bernard', 'Kieran', 'Amy', 'Raymond',\n",
              "       'Beverley', 'Brenda', 'Ryan', 'Megan', 'Arthur', 'Lee',\n",
              "       'Christian', 'Lorraine', 'Stewart', 'Sheila', 'Claire', 'Tom',\n",
              "       'Alex', 'Jenna', 'Abdul', 'Liam', 'Natalie', 'Ricky', 'Aaron',\n",
              "       'Steven', 'Valerie', 'Albert', 'Reece', 'Debra', 'Catherine',\n",
              "       'Paul', 'Irene', 'Nicole', 'Anna', 'Norman', 'Kathryn', 'Carl',\n",
              "       'Lindsey', 'Gregory', 'Jordan', 'Leslie', 'Sylvia', 'Harry',\n",
              "       'Yvonne', 'Barbara', 'Ann', 'Conor', 'Garry', 'Joseph', 'William',\n",
              "       'Lauren', 'Lucy', 'Joe', 'Aimee', 'Billy', 'Charles', 'Naomi',\n",
              "       'Alison', 'Kevin', 'Geraldine', 'Ronald', 'Hugh', 'Lynne', 'Barry',\n",
              "       'Shannon', 'Leon', 'Eric', 'Ellie', 'Stephen', 'Leah', 'Paige',\n",
              "       'Bryan', 'Francesca', 'Anthony', 'Shirley', 'Thomas', 'Kyle',\n",
              "       'Kenneth', 'Denise', 'Gemma', 'Margaret', 'Carolyn', 'Howard',\n",
              "       'Linda', 'Damian', 'Helen', 'Rachel', 'Frederick', 'Donald',\n",
              "       'Lynn', 'Joel', 'Elaine', 'Karen', 'Rachael', 'Antony', 'Jeremy',\n",
              "       'Ruth', 'Lawrence', 'Eleanor', 'Hollie', 'George', 'Chelsea',\n",
              "       'Richard', 'Edward', 'Neil', 'Beth', 'Dorothy', 'Patricia',\n",
              "       'Heather', 'Louis', 'Sam', 'Jade', 'Matthew', 'Michael', 'Julie',\n",
              "       'Shane', 'Daniel', 'Tracey', 'June', 'Bruce', 'Hannah', 'Connor',\n",
              "       'Andrea', 'Anne', 'Jemma', 'Lisa', 'Jayne', 'Gary', 'Brian',\n",
              "       'Scott', 'Gerald', 'Louise', 'Robin', 'Colin', 'Darren', 'Jean',\n",
              "       'Jonathan', 'Ian', 'Dylan', 'Nathan', 'Rosie', 'Christopher',\n",
              "       'Molly', 'Tony', 'Vanessa', 'Tina', 'Katy', 'Pamela', 'Jack',\n",
              "       'Katie', 'Kate', 'Nicholas', 'Iain', 'Clive', 'Chloe', 'Shaun',\n",
              "       'Sian', 'Michelle', 'Adrian', 'Melanie', 'Toby', 'Nigel', 'Holly',\n",
              "       'Ashley', 'Lewis', 'Bethan', 'Danny', 'Mark', 'Jacqueline',\n",
              "       'Julia', 'Douglas', 'Dawn', 'Abigail', 'Melissa', 'Frank',\n",
              "       'Marion', 'Amelia', 'Dale', 'Joyce', 'Victor', 'Frances',\n",
              "       'Dominic', 'Rebecca', 'Mandy', 'Tracy', 'Gillian', 'Elliot',\n",
              "       'Donna', 'Stephanie', 'Paula', 'Stanley', 'Dean', 'Maureen',\n",
              "       'Trevor', 'Julian', 'Gerard', 'Leanne', 'Kathleen', 'Natasha',\n",
              "       'Jane', 'Mohammed', 'Allan', 'Sophie', 'Glenn', 'Teresa', 'Clare',\n",
              "       'Jay', 'Luke', 'Emily', 'Callum', 'Robert', 'Joanna', 'Wayne',\n",
              "       'Grace', 'Sandra', 'Russell', 'Charlie', 'Andrew', 'Pauline',\n",
              "       'Ben', 'Judith', 'Benjamin', 'Kelly', 'Simon', 'Elliott', 'Sarah',\n",
              "       'Diana', 'Carole', 'Martin', 'Annette', 'Martyn', 'Christine',\n",
              "       'Marie', 'Sara', 'Susan', 'Owen', 'Sean', 'Josephine', 'Jodie',\n",
              "       'Oliver', 'Mohamed', 'Justin', 'No_fname', 'Gail', 'Hilary',\n",
              "       'Rosemary', 'Marilyn', 'Victoria', 'Kirsty', 'Charlene',\n",
              "       'Danielle', 'Jamie', 'Kimberley', 'Lynda', 'Kerry', 'Janice',\n",
              "       'Damien', 'Joan', 'Georgina', 'Francis', 'Patrick', 'Olivia',\n",
              "       'Graham', 'Malcolm', 'Jessica', 'Denis', 'Diane', 'Elizabeth',\n",
              "       'Terence', 'Alexander', 'Roger', 'Guy', 'Lydia', 'Wendy',\n",
              "       'Harriet', 'James', 'Amanda', 'Angela', 'Roy', 'Nicola', 'Philip',\n",
              "       'Jasmine', 'Marc', 'Joanne', 'Kim', 'Charlotte', 'Mathew',\n",
              "       'Timothy', 'Leonard', 'Marcus', 'Sharon', 'David', 'Carol',\n",
              "       'Keith', 'Josh', 'Eileen', 'Mohammad', 'Mary', 'Henry', 'Janet',\n",
              "       'Glen', 'Jill', 'Suzanne', 'Brett', 'Jake', 'Rita', 'John',\n",
              "       'Joshua', 'Katherine', 'Peter', 'Caroline', 'Jeffrey', 'Sally',\n",
              "       'Alexandra', 'Zoe', 'Ross', 'Jacob', 'Laura', 'Marian', 'Carly',\n",
              "       'Geoffrey', 'Max', 'Adam', 'Alan', 'Emma', 'Terry', 'Declan',\n",
              "       'Fiona', 'Samantha', 'Rhys', 'Lesley', 'Bradley', 'Stacey',\n",
              "       'Amber', 'Gordon', 'Hazel', 'Dennis', 'Phillip', 'Kayleigh',\n",
              "       'Gavin', 'Ashleigh', 'Karl', 'Maria', 'Derek', 'Graeme', 'Leigh',\n",
              "       'Bethany', 'Vincent', 'Hayley', 'Samuel', 'Cheryl', 'Clifford',\n",
              "       'Stuart', 'Maurice', 'Jennifer', 'Duncan', 'Brandon', 'Abbie',\n",
              "       'Jason', 'Deborah', 'Gareth', 'Georgia', 'Craig', 'Cameron',\n",
              "       'Louis David'], dtype=object)"
            ]
          },
          "metadata": {},
          "execution_count": 278
        }
      ],
      "source": [
        "#replacing missing values in first name to No_fname\n",
        "\n",
        "df_census['First Name'] = df_census['First Name'].fillna('No_fname')\n",
        "\n",
        "#check unique values again if ' ' has been replaced with no_fname\n",
        "(df_census['First Name'].unique())"
      ]
    },
    {
      "cell_type": "markdown",
      "metadata": {
        "id": "qAWhqw8R5Szd"
      },
      "source": [
        "### Cleaning the Surname column"
      ]
    },
    {
      "cell_type": "code",
      "source": [
        "# Exploring the data of people with blank surname\n",
        "df_census[df_census[\"Surname\"].isnull()]"
      ],
      "metadata": {
        "colab": {
          "base_uri": "https://localhost:8080/"
        },
        "id": "npJvwPIC4ivq",
        "outputId": "1da49c4a-159e-4800-acd0-dc4f9c54227c"
      },
      "execution_count": null,
      "outputs": [
        {
          "output_type": "execute_result",
          "data": {
            "text/plain": [
              "     House Number           Street First Name Surname Age  \\\n",
              "975            31  Newrywalk Drive    Lindsey     NaN  52   \n",
              "8265           27    Pilgrim Drive      Ellie     NaN   2   \n",
              "\n",
              "     Relationship to Head of House Marital Status  Gender  \\\n",
              "975                           Head        Married  Female   \n",
              "8265                      Daughter            NaN  Female   \n",
              "\n",
              "                  Occupation Infirmity   Religion  \n",
              "975   Sales professional, IT      None  Christian  \n",
              "8265                   Child      None        NaN  "
            ],
            "text/html": [
              "\n",
              "  <div id=\"df-deb27984-2edf-4e8c-a34d-88bbbbf995e2\">\n",
              "    <div class=\"colab-df-container\">\n",
              "      <div>\n",
              "<style scoped>\n",
              "    .dataframe tbody tr th:only-of-type {\n",
              "        vertical-align: middle;\n",
              "    }\n",
              "\n",
              "    .dataframe tbody tr th {\n",
              "        vertical-align: top;\n",
              "    }\n",
              "\n",
              "    .dataframe thead th {\n",
              "        text-align: right;\n",
              "    }\n",
              "</style>\n",
              "<table border=\"1\" class=\"dataframe\">\n",
              "  <thead>\n",
              "    <tr style=\"text-align: right;\">\n",
              "      <th></th>\n",
              "      <th>House Number</th>\n",
              "      <th>Street</th>\n",
              "      <th>First Name</th>\n",
              "      <th>Surname</th>\n",
              "      <th>Age</th>\n",
              "      <th>Relationship to Head of House</th>\n",
              "      <th>Marital Status</th>\n",
              "      <th>Gender</th>\n",
              "      <th>Occupation</th>\n",
              "      <th>Infirmity</th>\n",
              "      <th>Religion</th>\n",
              "    </tr>\n",
              "  </thead>\n",
              "  <tbody>\n",
              "    <tr>\n",
              "      <th>975</th>\n",
              "      <td>31</td>\n",
              "      <td>Newrywalk Drive</td>\n",
              "      <td>Lindsey</td>\n",
              "      <td>NaN</td>\n",
              "      <td>52</td>\n",
              "      <td>Head</td>\n",
              "      <td>Married</td>\n",
              "      <td>Female</td>\n",
              "      <td>Sales professional, IT</td>\n",
              "      <td>None</td>\n",
              "      <td>Christian</td>\n",
              "    </tr>\n",
              "    <tr>\n",
              "      <th>8265</th>\n",
              "      <td>27</td>\n",
              "      <td>Pilgrim Drive</td>\n",
              "      <td>Ellie</td>\n",
              "      <td>NaN</td>\n",
              "      <td>2</td>\n",
              "      <td>Daughter</td>\n",
              "      <td>NaN</td>\n",
              "      <td>Female</td>\n",
              "      <td>Child</td>\n",
              "      <td>None</td>\n",
              "      <td>NaN</td>\n",
              "    </tr>\n",
              "  </tbody>\n",
              "</table>\n",
              "</div>\n",
              "      <button class=\"colab-df-convert\" onclick=\"convertToInteractive('df-deb27984-2edf-4e8c-a34d-88bbbbf995e2')\"\n",
              "              title=\"Convert this dataframe to an interactive table.\"\n",
              "              style=\"display:none;\">\n",
              "        \n",
              "  <svg xmlns=\"http://www.w3.org/2000/svg\" height=\"24px\"viewBox=\"0 0 24 24\"\n",
              "       width=\"24px\">\n",
              "    <path d=\"M0 0h24v24H0V0z\" fill=\"none\"/>\n",
              "    <path d=\"M18.56 5.44l.94 2.06.94-2.06 2.06-.94-2.06-.94-.94-2.06-.94 2.06-2.06.94zm-11 1L8.5 8.5l.94-2.06 2.06-.94-2.06-.94L8.5 2.5l-.94 2.06-2.06.94zm10 10l.94 2.06.94-2.06 2.06-.94-2.06-.94-.94-2.06-.94 2.06-2.06.94z\"/><path d=\"M17.41 7.96l-1.37-1.37c-.4-.4-.92-.59-1.43-.59-.52 0-1.04.2-1.43.59L10.3 9.45l-7.72 7.72c-.78.78-.78 2.05 0 2.83L4 21.41c.39.39.9.59 1.41.59.51 0 1.02-.2 1.41-.59l7.78-7.78 2.81-2.81c.8-.78.8-2.07 0-2.86zM5.41 20L4 18.59l7.72-7.72 1.47 1.35L5.41 20z\"/>\n",
              "  </svg>\n",
              "      </button>\n",
              "      \n",
              "  <style>\n",
              "    .colab-df-container {\n",
              "      display:flex;\n",
              "      flex-wrap:wrap;\n",
              "      gap: 12px;\n",
              "    }\n",
              "\n",
              "    .colab-df-convert {\n",
              "      background-color: #E8F0FE;\n",
              "      border: none;\n",
              "      border-radius: 50%;\n",
              "      cursor: pointer;\n",
              "      display: none;\n",
              "      fill: #1967D2;\n",
              "      height: 32px;\n",
              "      padding: 0 0 0 0;\n",
              "      width: 32px;\n",
              "    }\n",
              "\n",
              "    .colab-df-convert:hover {\n",
              "      background-color: #E2EBFA;\n",
              "      box-shadow: 0px 1px 2px rgba(60, 64, 67, 0.3), 0px 1px 3px 1px rgba(60, 64, 67, 0.15);\n",
              "      fill: #174EA6;\n",
              "    }\n",
              "\n",
              "    [theme=dark] .colab-df-convert {\n",
              "      background-color: #3B4455;\n",
              "      fill: #D2E3FC;\n",
              "    }\n",
              "\n",
              "    [theme=dark] .colab-df-convert:hover {\n",
              "      background-color: #434B5C;\n",
              "      box-shadow: 0px 1px 3px 1px rgba(0, 0, 0, 0.15);\n",
              "      filter: drop-shadow(0px 1px 2px rgba(0, 0, 0, 0.3));\n",
              "      fill: #FFFFFF;\n",
              "    }\n",
              "  </style>\n",
              "\n",
              "      <script>\n",
              "        const buttonEl =\n",
              "          document.querySelector('#df-deb27984-2edf-4e8c-a34d-88bbbbf995e2 button.colab-df-convert');\n",
              "        buttonEl.style.display =\n",
              "          google.colab.kernel.accessAllowed ? 'block' : 'none';\n",
              "\n",
              "        async function convertToInteractive(key) {\n",
              "          const element = document.querySelector('#df-deb27984-2edf-4e8c-a34d-88bbbbf995e2');\n",
              "          const dataTable =\n",
              "            await google.colab.kernel.invokeFunction('convertToInteractive',\n",
              "                                                     [key], {});\n",
              "          if (!dataTable) return;\n",
              "\n",
              "          const docLinkHtml = 'Like what you see? Visit the ' +\n",
              "            '<a target=\"_blank\" href=https://colab.research.google.com/notebooks/data_table.ipynb>data table notebook</a>'\n",
              "            + ' to learn more about interactive tables.';\n",
              "          element.innerHTML = '';\n",
              "          dataTable['output_type'] = 'display_data';\n",
              "          await google.colab.output.renderOutput(dataTable, element);\n",
              "          const docLink = document.createElement('div');\n",
              "          docLink.innerHTML = docLinkHtml;\n",
              "          element.appendChild(docLink);\n",
              "        }\n",
              "      </script>\n",
              "    </div>\n",
              "  </div>\n",
              "  "
            ]
          },
          "metadata": {},
          "execution_count": 279
        }
      ]
    },
    {
      "cell_type": "code",
      "source": [
        "#Expanding the dataframe to see the information of the other household members of the records with blanks\n",
        "df_census[973:8267]\n",
        "#using the information of other people in the household the surnames were replaced appropriately"
      ],
      "metadata": {
        "colab": {
          "base_uri": "https://localhost:8080/"
        },
        "id": "IqQPPxVO_DwZ",
        "outputId": "00c13d43-71e6-4183-e4f9-c066a4d3cae0"
      },
      "execution_count": null,
      "outputs": [
        {
          "output_type": "execute_result",
          "data": {
            "text/plain": [
              "     House Number           Street First Name   Surname Age  \\\n",
              "973            29  Newrywalk Drive     Pamela   Johnson   8   \n",
              "974            30  Newrywalk Drive      Brian    Hughes  56   \n",
              "975            31  Newrywalk Drive    Lindsey       NaN  52   \n",
              "976            31  Newrywalk Drive      Wayne  Williams  56   \n",
              "977            31  Newrywalk Drive       Anne  Williams  16   \n",
              "...           ...              ...        ...       ...  ..   \n",
              "8262           26    Pilgrim Drive      Colin   Webster   3   \n",
              "8263           27    Pilgrim Drive     Howard    Hughes  43   \n",
              "8264           27    Pilgrim Drive      Susan    Hughes  38   \n",
              "8265           27    Pilgrim Drive      Ellie       NaN   2   \n",
              "8266           27    Pilgrim Drive     Sharon    Hughes   0   \n",
              "\n",
              "     Relationship to Head of House Marital Status  Gender  \\\n",
              "973                       Daughter            NaN  Female   \n",
              "974                           Head         Single    Male   \n",
              "975                           Head        Married  Female   \n",
              "976                        Husband        Married    Male   \n",
              "977                       Daughter            NaN  Female   \n",
              "...                            ...            ...     ...   \n",
              "8262                           Son            NaN    Male   \n",
              "8263                          Head        Married    Male   \n",
              "8264                          Wife        Married  Female   \n",
              "8265                      Daughter            NaN  Female   \n",
              "8266                      Daughter            NaN       F   \n",
              "\n",
              "                                   Occupation Infirmity   Religion  \n",
              "973                                   Student      None        NaN  \n",
              "974   Diplomatic Services operational officer      None  Christian  \n",
              "975                    Sales professional, IT      None  Christian  \n",
              "976          Training and development officer      None  Christian  \n",
              "977                                   Student      None        NaN  \n",
              "...                                       ...       ...        ...  \n",
              "8262                                    Child      None        NaN  \n",
              "8263                Radio broadcast assistant      None  Christian  \n",
              "8264                             Bonds trader      None       None  \n",
              "8265                                    Child      None        NaN  \n",
              "8266                                    Child      None        NaN  \n",
              "\n",
              "[7294 rows x 11 columns]"
            ],
            "text/html": [
              "\n",
              "  <div id=\"df-fd962eee-e875-47a7-a2e3-f8ab693f0159\">\n",
              "    <div class=\"colab-df-container\">\n",
              "      <div>\n",
              "<style scoped>\n",
              "    .dataframe tbody tr th:only-of-type {\n",
              "        vertical-align: middle;\n",
              "    }\n",
              "\n",
              "    .dataframe tbody tr th {\n",
              "        vertical-align: top;\n",
              "    }\n",
              "\n",
              "    .dataframe thead th {\n",
              "        text-align: right;\n",
              "    }\n",
              "</style>\n",
              "<table border=\"1\" class=\"dataframe\">\n",
              "  <thead>\n",
              "    <tr style=\"text-align: right;\">\n",
              "      <th></th>\n",
              "      <th>House Number</th>\n",
              "      <th>Street</th>\n",
              "      <th>First Name</th>\n",
              "      <th>Surname</th>\n",
              "      <th>Age</th>\n",
              "      <th>Relationship to Head of House</th>\n",
              "      <th>Marital Status</th>\n",
              "      <th>Gender</th>\n",
              "      <th>Occupation</th>\n",
              "      <th>Infirmity</th>\n",
              "      <th>Religion</th>\n",
              "    </tr>\n",
              "  </thead>\n",
              "  <tbody>\n",
              "    <tr>\n",
              "      <th>973</th>\n",
              "      <td>29</td>\n",
              "      <td>Newrywalk Drive</td>\n",
              "      <td>Pamela</td>\n",
              "      <td>Johnson</td>\n",
              "      <td>8</td>\n",
              "      <td>Daughter</td>\n",
              "      <td>NaN</td>\n",
              "      <td>Female</td>\n",
              "      <td>Student</td>\n",
              "      <td>None</td>\n",
              "      <td>NaN</td>\n",
              "    </tr>\n",
              "    <tr>\n",
              "      <th>974</th>\n",
              "      <td>30</td>\n",
              "      <td>Newrywalk Drive</td>\n",
              "      <td>Brian</td>\n",
              "      <td>Hughes</td>\n",
              "      <td>56</td>\n",
              "      <td>Head</td>\n",
              "      <td>Single</td>\n",
              "      <td>Male</td>\n",
              "      <td>Diplomatic Services operational officer</td>\n",
              "      <td>None</td>\n",
              "      <td>Christian</td>\n",
              "    </tr>\n",
              "    <tr>\n",
              "      <th>975</th>\n",
              "      <td>31</td>\n",
              "      <td>Newrywalk Drive</td>\n",
              "      <td>Lindsey</td>\n",
              "      <td>NaN</td>\n",
              "      <td>52</td>\n",
              "      <td>Head</td>\n",
              "      <td>Married</td>\n",
              "      <td>Female</td>\n",
              "      <td>Sales professional, IT</td>\n",
              "      <td>None</td>\n",
              "      <td>Christian</td>\n",
              "    </tr>\n",
              "    <tr>\n",
              "      <th>976</th>\n",
              "      <td>31</td>\n",
              "      <td>Newrywalk Drive</td>\n",
              "      <td>Wayne</td>\n",
              "      <td>Williams</td>\n",
              "      <td>56</td>\n",
              "      <td>Husband</td>\n",
              "      <td>Married</td>\n",
              "      <td>Male</td>\n",
              "      <td>Training and development officer</td>\n",
              "      <td>None</td>\n",
              "      <td>Christian</td>\n",
              "    </tr>\n",
              "    <tr>\n",
              "      <th>977</th>\n",
              "      <td>31</td>\n",
              "      <td>Newrywalk Drive</td>\n",
              "      <td>Anne</td>\n",
              "      <td>Williams</td>\n",
              "      <td>16</td>\n",
              "      <td>Daughter</td>\n",
              "      <td>NaN</td>\n",
              "      <td>Female</td>\n",
              "      <td>Student</td>\n",
              "      <td>None</td>\n",
              "      <td>NaN</td>\n",
              "    </tr>\n",
              "    <tr>\n",
              "      <th>...</th>\n",
              "      <td>...</td>\n",
              "      <td>...</td>\n",
              "      <td>...</td>\n",
              "      <td>...</td>\n",
              "      <td>...</td>\n",
              "      <td>...</td>\n",
              "      <td>...</td>\n",
              "      <td>...</td>\n",
              "      <td>...</td>\n",
              "      <td>...</td>\n",
              "      <td>...</td>\n",
              "    </tr>\n",
              "    <tr>\n",
              "      <th>8262</th>\n",
              "      <td>26</td>\n",
              "      <td>Pilgrim Drive</td>\n",
              "      <td>Colin</td>\n",
              "      <td>Webster</td>\n",
              "      <td>3</td>\n",
              "      <td>Son</td>\n",
              "      <td>NaN</td>\n",
              "      <td>Male</td>\n",
              "      <td>Child</td>\n",
              "      <td>None</td>\n",
              "      <td>NaN</td>\n",
              "    </tr>\n",
              "    <tr>\n",
              "      <th>8263</th>\n",
              "      <td>27</td>\n",
              "      <td>Pilgrim Drive</td>\n",
              "      <td>Howard</td>\n",
              "      <td>Hughes</td>\n",
              "      <td>43</td>\n",
              "      <td>Head</td>\n",
              "      <td>Married</td>\n",
              "      <td>Male</td>\n",
              "      <td>Radio broadcast assistant</td>\n",
              "      <td>None</td>\n",
              "      <td>Christian</td>\n",
              "    </tr>\n",
              "    <tr>\n",
              "      <th>8264</th>\n",
              "      <td>27</td>\n",
              "      <td>Pilgrim Drive</td>\n",
              "      <td>Susan</td>\n",
              "      <td>Hughes</td>\n",
              "      <td>38</td>\n",
              "      <td>Wife</td>\n",
              "      <td>Married</td>\n",
              "      <td>Female</td>\n",
              "      <td>Bonds trader</td>\n",
              "      <td>None</td>\n",
              "      <td>None</td>\n",
              "    </tr>\n",
              "    <tr>\n",
              "      <th>8265</th>\n",
              "      <td>27</td>\n",
              "      <td>Pilgrim Drive</td>\n",
              "      <td>Ellie</td>\n",
              "      <td>NaN</td>\n",
              "      <td>2</td>\n",
              "      <td>Daughter</td>\n",
              "      <td>NaN</td>\n",
              "      <td>Female</td>\n",
              "      <td>Child</td>\n",
              "      <td>None</td>\n",
              "      <td>NaN</td>\n",
              "    </tr>\n",
              "    <tr>\n",
              "      <th>8266</th>\n",
              "      <td>27</td>\n",
              "      <td>Pilgrim Drive</td>\n",
              "      <td>Sharon</td>\n",
              "      <td>Hughes</td>\n",
              "      <td>0</td>\n",
              "      <td>Daughter</td>\n",
              "      <td>NaN</td>\n",
              "      <td>F</td>\n",
              "      <td>Child</td>\n",
              "      <td>None</td>\n",
              "      <td>NaN</td>\n",
              "    </tr>\n",
              "  </tbody>\n",
              "</table>\n",
              "<p>7294 rows × 11 columns</p>\n",
              "</div>\n",
              "      <button class=\"colab-df-convert\" onclick=\"convertToInteractive('df-fd962eee-e875-47a7-a2e3-f8ab693f0159')\"\n",
              "              title=\"Convert this dataframe to an interactive table.\"\n",
              "              style=\"display:none;\">\n",
              "        \n",
              "  <svg xmlns=\"http://www.w3.org/2000/svg\" height=\"24px\"viewBox=\"0 0 24 24\"\n",
              "       width=\"24px\">\n",
              "    <path d=\"M0 0h24v24H0V0z\" fill=\"none\"/>\n",
              "    <path d=\"M18.56 5.44l.94 2.06.94-2.06 2.06-.94-2.06-.94-.94-2.06-.94 2.06-2.06.94zm-11 1L8.5 8.5l.94-2.06 2.06-.94-2.06-.94L8.5 2.5l-.94 2.06-2.06.94zm10 10l.94 2.06.94-2.06 2.06-.94-2.06-.94-.94-2.06-.94 2.06-2.06.94z\"/><path d=\"M17.41 7.96l-1.37-1.37c-.4-.4-.92-.59-1.43-.59-.52 0-1.04.2-1.43.59L10.3 9.45l-7.72 7.72c-.78.78-.78 2.05 0 2.83L4 21.41c.39.39.9.59 1.41.59.51 0 1.02-.2 1.41-.59l7.78-7.78 2.81-2.81c.8-.78.8-2.07 0-2.86zM5.41 20L4 18.59l7.72-7.72 1.47 1.35L5.41 20z\"/>\n",
              "  </svg>\n",
              "      </button>\n",
              "      \n",
              "  <style>\n",
              "    .colab-df-container {\n",
              "      display:flex;\n",
              "      flex-wrap:wrap;\n",
              "      gap: 12px;\n",
              "    }\n",
              "\n",
              "    .colab-df-convert {\n",
              "      background-color: #E8F0FE;\n",
              "      border: none;\n",
              "      border-radius: 50%;\n",
              "      cursor: pointer;\n",
              "      display: none;\n",
              "      fill: #1967D2;\n",
              "      height: 32px;\n",
              "      padding: 0 0 0 0;\n",
              "      width: 32px;\n",
              "    }\n",
              "\n",
              "    .colab-df-convert:hover {\n",
              "      background-color: #E2EBFA;\n",
              "      box-shadow: 0px 1px 2px rgba(60, 64, 67, 0.3), 0px 1px 3px 1px rgba(60, 64, 67, 0.15);\n",
              "      fill: #174EA6;\n",
              "    }\n",
              "\n",
              "    [theme=dark] .colab-df-convert {\n",
              "      background-color: #3B4455;\n",
              "      fill: #D2E3FC;\n",
              "    }\n",
              "\n",
              "    [theme=dark] .colab-df-convert:hover {\n",
              "      background-color: #434B5C;\n",
              "      box-shadow: 0px 1px 3px 1px rgba(0, 0, 0, 0.15);\n",
              "      filter: drop-shadow(0px 1px 2px rgba(0, 0, 0, 0.3));\n",
              "      fill: #FFFFFF;\n",
              "    }\n",
              "  </style>\n",
              "\n",
              "      <script>\n",
              "        const buttonEl =\n",
              "          document.querySelector('#df-fd962eee-e875-47a7-a2e3-f8ab693f0159 button.colab-df-convert');\n",
              "        buttonEl.style.display =\n",
              "          google.colab.kernel.accessAllowed ? 'block' : 'none';\n",
              "\n",
              "        async function convertToInteractive(key) {\n",
              "          const element = document.querySelector('#df-fd962eee-e875-47a7-a2e3-f8ab693f0159');\n",
              "          const dataTable =\n",
              "            await google.colab.kernel.invokeFunction('convertToInteractive',\n",
              "                                                     [key], {});\n",
              "          if (!dataTable) return;\n",
              "\n",
              "          const docLinkHtml = 'Like what you see? Visit the ' +\n",
              "            '<a target=\"_blank\" href=https://colab.research.google.com/notebooks/data_table.ipynb>data table notebook</a>'\n",
              "            + ' to learn more about interactive tables.';\n",
              "          element.innerHTML = '';\n",
              "          dataTable['output_type'] = 'display_data';\n",
              "          await google.colab.output.renderOutput(dataTable, element);\n",
              "          const docLink = document.createElement('div');\n",
              "          docLink.innerHTML = docLinkHtml;\n",
              "          element.appendChild(docLink);\n",
              "        }\n",
              "      </script>\n",
              "    </div>\n",
              "  </div>\n",
              "  "
            ]
          },
          "metadata": {},
          "execution_count": 280
        }
      ]
    },
    {
      "cell_type": "code",
      "execution_count": null,
      "metadata": {
        "colab": {
          "base_uri": "https://localhost:8080/"
        },
        "id": "tTxw3IzYAZyi",
        "outputId": "20b84611-8f31-4254-8bde-9cdf3ca0ecbf"
      },
      "outputs": [
        {
          "output_type": "execute_result",
          "data": {
            "text/plain": [
              "     House Number           Street First Name   Surname Age  \\\n",
              "973            29  Newrywalk Drive     Pamela   Johnson   8   \n",
              "974            30  Newrywalk Drive      Brian    Hughes  56   \n",
              "975            31  Newrywalk Drive    Lindsey  Williams  52   \n",
              "976            31  Newrywalk Drive      Wayne  Williams  56   \n",
              "977            31  Newrywalk Drive       Anne  Williams  16   \n",
              "...           ...              ...        ...       ...  ..   \n",
              "8262           26    Pilgrim Drive      Colin   Webster   3   \n",
              "8263           27    Pilgrim Drive     Howard    Hughes  43   \n",
              "8264           27    Pilgrim Drive      Susan    Hughes  38   \n",
              "8265           27    Pilgrim Drive      Ellie    Hughes   2   \n",
              "8266           27    Pilgrim Drive     Sharon    Hughes   0   \n",
              "\n",
              "     Relationship to Head of House Marital Status  Gender  \\\n",
              "973                       Daughter            NaN  Female   \n",
              "974                           Head         Single    Male   \n",
              "975                           Head        Married  Female   \n",
              "976                        Husband        Married    Male   \n",
              "977                       Daughter            NaN  Female   \n",
              "...                            ...            ...     ...   \n",
              "8262                           Son            NaN    Male   \n",
              "8263                          Head        Married    Male   \n",
              "8264                          Wife        Married  Female   \n",
              "8265                      Daughter            NaN  Female   \n",
              "8266                      Daughter            NaN       F   \n",
              "\n",
              "                                   Occupation Infirmity   Religion  \n",
              "973                                   Student      None        NaN  \n",
              "974   Diplomatic Services operational officer      None  Christian  \n",
              "975                    Sales professional, IT      None  Christian  \n",
              "976          Training and development officer      None  Christian  \n",
              "977                                   Student      None        NaN  \n",
              "...                                       ...       ...        ...  \n",
              "8262                                    Child      None        NaN  \n",
              "8263                Radio broadcast assistant      None  Christian  \n",
              "8264                             Bonds trader      None       None  \n",
              "8265                                    Child      None        NaN  \n",
              "8266                                    Child      None        NaN  \n",
              "\n",
              "[7294 rows x 11 columns]"
            ],
            "text/html": [
              "\n",
              "  <div id=\"df-7f80209e-6991-4a1d-99fa-8b27d4a1f5c0\">\n",
              "    <div class=\"colab-df-container\">\n",
              "      <div>\n",
              "<style scoped>\n",
              "    .dataframe tbody tr th:only-of-type {\n",
              "        vertical-align: middle;\n",
              "    }\n",
              "\n",
              "    .dataframe tbody tr th {\n",
              "        vertical-align: top;\n",
              "    }\n",
              "\n",
              "    .dataframe thead th {\n",
              "        text-align: right;\n",
              "    }\n",
              "</style>\n",
              "<table border=\"1\" class=\"dataframe\">\n",
              "  <thead>\n",
              "    <tr style=\"text-align: right;\">\n",
              "      <th></th>\n",
              "      <th>House Number</th>\n",
              "      <th>Street</th>\n",
              "      <th>First Name</th>\n",
              "      <th>Surname</th>\n",
              "      <th>Age</th>\n",
              "      <th>Relationship to Head of House</th>\n",
              "      <th>Marital Status</th>\n",
              "      <th>Gender</th>\n",
              "      <th>Occupation</th>\n",
              "      <th>Infirmity</th>\n",
              "      <th>Religion</th>\n",
              "    </tr>\n",
              "  </thead>\n",
              "  <tbody>\n",
              "    <tr>\n",
              "      <th>973</th>\n",
              "      <td>29</td>\n",
              "      <td>Newrywalk Drive</td>\n",
              "      <td>Pamela</td>\n",
              "      <td>Johnson</td>\n",
              "      <td>8</td>\n",
              "      <td>Daughter</td>\n",
              "      <td>NaN</td>\n",
              "      <td>Female</td>\n",
              "      <td>Student</td>\n",
              "      <td>None</td>\n",
              "      <td>NaN</td>\n",
              "    </tr>\n",
              "    <tr>\n",
              "      <th>974</th>\n",
              "      <td>30</td>\n",
              "      <td>Newrywalk Drive</td>\n",
              "      <td>Brian</td>\n",
              "      <td>Hughes</td>\n",
              "      <td>56</td>\n",
              "      <td>Head</td>\n",
              "      <td>Single</td>\n",
              "      <td>Male</td>\n",
              "      <td>Diplomatic Services operational officer</td>\n",
              "      <td>None</td>\n",
              "      <td>Christian</td>\n",
              "    </tr>\n",
              "    <tr>\n",
              "      <th>975</th>\n",
              "      <td>31</td>\n",
              "      <td>Newrywalk Drive</td>\n",
              "      <td>Lindsey</td>\n",
              "      <td>Williams</td>\n",
              "      <td>52</td>\n",
              "      <td>Head</td>\n",
              "      <td>Married</td>\n",
              "      <td>Female</td>\n",
              "      <td>Sales professional, IT</td>\n",
              "      <td>None</td>\n",
              "      <td>Christian</td>\n",
              "    </tr>\n",
              "    <tr>\n",
              "      <th>976</th>\n",
              "      <td>31</td>\n",
              "      <td>Newrywalk Drive</td>\n",
              "      <td>Wayne</td>\n",
              "      <td>Williams</td>\n",
              "      <td>56</td>\n",
              "      <td>Husband</td>\n",
              "      <td>Married</td>\n",
              "      <td>Male</td>\n",
              "      <td>Training and development officer</td>\n",
              "      <td>None</td>\n",
              "      <td>Christian</td>\n",
              "    </tr>\n",
              "    <tr>\n",
              "      <th>977</th>\n",
              "      <td>31</td>\n",
              "      <td>Newrywalk Drive</td>\n",
              "      <td>Anne</td>\n",
              "      <td>Williams</td>\n",
              "      <td>16</td>\n",
              "      <td>Daughter</td>\n",
              "      <td>NaN</td>\n",
              "      <td>Female</td>\n",
              "      <td>Student</td>\n",
              "      <td>None</td>\n",
              "      <td>NaN</td>\n",
              "    </tr>\n",
              "    <tr>\n",
              "      <th>...</th>\n",
              "      <td>...</td>\n",
              "      <td>...</td>\n",
              "      <td>...</td>\n",
              "      <td>...</td>\n",
              "      <td>...</td>\n",
              "      <td>...</td>\n",
              "      <td>...</td>\n",
              "      <td>...</td>\n",
              "      <td>...</td>\n",
              "      <td>...</td>\n",
              "      <td>...</td>\n",
              "    </tr>\n",
              "    <tr>\n",
              "      <th>8262</th>\n",
              "      <td>26</td>\n",
              "      <td>Pilgrim Drive</td>\n",
              "      <td>Colin</td>\n",
              "      <td>Webster</td>\n",
              "      <td>3</td>\n",
              "      <td>Son</td>\n",
              "      <td>NaN</td>\n",
              "      <td>Male</td>\n",
              "      <td>Child</td>\n",
              "      <td>None</td>\n",
              "      <td>NaN</td>\n",
              "    </tr>\n",
              "    <tr>\n",
              "      <th>8263</th>\n",
              "      <td>27</td>\n",
              "      <td>Pilgrim Drive</td>\n",
              "      <td>Howard</td>\n",
              "      <td>Hughes</td>\n",
              "      <td>43</td>\n",
              "      <td>Head</td>\n",
              "      <td>Married</td>\n",
              "      <td>Male</td>\n",
              "      <td>Radio broadcast assistant</td>\n",
              "      <td>None</td>\n",
              "      <td>Christian</td>\n",
              "    </tr>\n",
              "    <tr>\n",
              "      <th>8264</th>\n",
              "      <td>27</td>\n",
              "      <td>Pilgrim Drive</td>\n",
              "      <td>Susan</td>\n",
              "      <td>Hughes</td>\n",
              "      <td>38</td>\n",
              "      <td>Wife</td>\n",
              "      <td>Married</td>\n",
              "      <td>Female</td>\n",
              "      <td>Bonds trader</td>\n",
              "      <td>None</td>\n",
              "      <td>None</td>\n",
              "    </tr>\n",
              "    <tr>\n",
              "      <th>8265</th>\n",
              "      <td>27</td>\n",
              "      <td>Pilgrim Drive</td>\n",
              "      <td>Ellie</td>\n",
              "      <td>Hughes</td>\n",
              "      <td>2</td>\n",
              "      <td>Daughter</td>\n",
              "      <td>NaN</td>\n",
              "      <td>Female</td>\n",
              "      <td>Child</td>\n",
              "      <td>None</td>\n",
              "      <td>NaN</td>\n",
              "    </tr>\n",
              "    <tr>\n",
              "      <th>8266</th>\n",
              "      <td>27</td>\n",
              "      <td>Pilgrim Drive</td>\n",
              "      <td>Sharon</td>\n",
              "      <td>Hughes</td>\n",
              "      <td>0</td>\n",
              "      <td>Daughter</td>\n",
              "      <td>NaN</td>\n",
              "      <td>F</td>\n",
              "      <td>Child</td>\n",
              "      <td>None</td>\n",
              "      <td>NaN</td>\n",
              "    </tr>\n",
              "  </tbody>\n",
              "</table>\n",
              "<p>7294 rows × 11 columns</p>\n",
              "</div>\n",
              "      <button class=\"colab-df-convert\" onclick=\"convertToInteractive('df-7f80209e-6991-4a1d-99fa-8b27d4a1f5c0')\"\n",
              "              title=\"Convert this dataframe to an interactive table.\"\n",
              "              style=\"display:none;\">\n",
              "        \n",
              "  <svg xmlns=\"http://www.w3.org/2000/svg\" height=\"24px\"viewBox=\"0 0 24 24\"\n",
              "       width=\"24px\">\n",
              "    <path d=\"M0 0h24v24H0V0z\" fill=\"none\"/>\n",
              "    <path d=\"M18.56 5.44l.94 2.06.94-2.06 2.06-.94-2.06-.94-.94-2.06-.94 2.06-2.06.94zm-11 1L8.5 8.5l.94-2.06 2.06-.94-2.06-.94L8.5 2.5l-.94 2.06-2.06.94zm10 10l.94 2.06.94-2.06 2.06-.94-2.06-.94-.94-2.06-.94 2.06-2.06.94z\"/><path d=\"M17.41 7.96l-1.37-1.37c-.4-.4-.92-.59-1.43-.59-.52 0-1.04.2-1.43.59L10.3 9.45l-7.72 7.72c-.78.78-.78 2.05 0 2.83L4 21.41c.39.39.9.59 1.41.59.51 0 1.02-.2 1.41-.59l7.78-7.78 2.81-2.81c.8-.78.8-2.07 0-2.86zM5.41 20L4 18.59l7.72-7.72 1.47 1.35L5.41 20z\"/>\n",
              "  </svg>\n",
              "      </button>\n",
              "      \n",
              "  <style>\n",
              "    .colab-df-container {\n",
              "      display:flex;\n",
              "      flex-wrap:wrap;\n",
              "      gap: 12px;\n",
              "    }\n",
              "\n",
              "    .colab-df-convert {\n",
              "      background-color: #E8F0FE;\n",
              "      border: none;\n",
              "      border-radius: 50%;\n",
              "      cursor: pointer;\n",
              "      display: none;\n",
              "      fill: #1967D2;\n",
              "      height: 32px;\n",
              "      padding: 0 0 0 0;\n",
              "      width: 32px;\n",
              "    }\n",
              "\n",
              "    .colab-df-convert:hover {\n",
              "      background-color: #E2EBFA;\n",
              "      box-shadow: 0px 1px 2px rgba(60, 64, 67, 0.3), 0px 1px 3px 1px rgba(60, 64, 67, 0.15);\n",
              "      fill: #174EA6;\n",
              "    }\n",
              "\n",
              "    [theme=dark] .colab-df-convert {\n",
              "      background-color: #3B4455;\n",
              "      fill: #D2E3FC;\n",
              "    }\n",
              "\n",
              "    [theme=dark] .colab-df-convert:hover {\n",
              "      background-color: #434B5C;\n",
              "      box-shadow: 0px 1px 3px 1px rgba(0, 0, 0, 0.15);\n",
              "      filter: drop-shadow(0px 1px 2px rgba(0, 0, 0, 0.3));\n",
              "      fill: #FFFFFF;\n",
              "    }\n",
              "  </style>\n",
              "\n",
              "      <script>\n",
              "        const buttonEl =\n",
              "          document.querySelector('#df-7f80209e-6991-4a1d-99fa-8b27d4a1f5c0 button.colab-df-convert');\n",
              "        buttonEl.style.display =\n",
              "          google.colab.kernel.accessAllowed ? 'block' : 'none';\n",
              "\n",
              "        async function convertToInteractive(key) {\n",
              "          const element = document.querySelector('#df-7f80209e-6991-4a1d-99fa-8b27d4a1f5c0');\n",
              "          const dataTable =\n",
              "            await google.colab.kernel.invokeFunction('convertToInteractive',\n",
              "                                                     [key], {});\n",
              "          if (!dataTable) return;\n",
              "\n",
              "          const docLinkHtml = 'Like what you see? Visit the ' +\n",
              "            '<a target=\"_blank\" href=https://colab.research.google.com/notebooks/data_table.ipynb>data table notebook</a>'\n",
              "            + ' to learn more about interactive tables.';\n",
              "          element.innerHTML = '';\n",
              "          dataTable['output_type'] = 'display_data';\n",
              "          await google.colab.output.renderOutput(dataTable, element);\n",
              "          const docLink = document.createElement('div');\n",
              "          docLink.innerHTML = docLinkHtml;\n",
              "          element.appendChild(docLink);\n",
              "        }\n",
              "      </script>\n",
              "    </div>\n",
              "  </div>\n",
              "  "
            ]
          },
          "metadata": {},
          "execution_count": 281
        }
      ],
      "source": [
        "# replacing the missing surnames using the information from others in the same household\n",
        "df_census.loc[[975, 8265],\"Surname\"] = [\"Williams\", \"Hughes\"]\n",
        "df_census[973:8267] #checking to confirm the blanks have been replaced"
      ]
    },
    {
      "cell_type": "markdown",
      "metadata": {
        "id": "zXMqIDNv5Sze"
      },
      "source": [
        "### Cleaning the Age column"
      ]
    },
    {
      "cell_type": "code",
      "execution_count": null,
      "metadata": {
        "id": "M832I9xl5Sze",
        "colab": {
          "base_uri": "https://localhost:8080/"
        },
        "outputId": "04d89996-032f-4b84-e65a-397c65b6575e"
      },
      "outputs": [
        {
          "output_type": "execute_result",
          "data": {
            "text/plain": [
              "array(['52', '59', '14', '13', '41', '43', '12', '76', '78', '48', '20',\n",
              "       '16', '8', '39', '6', '1', '65', '66', '29', '26', '73', '38',\n",
              "       '31', '34', '3', '0', '60', '62', '25', '22', '18', '56', '53',\n",
              "       '19', '75', '36', '42', '35', '23', '49', '27', '89', '86', '11',\n",
              "       '54', '24', '44', '45', '51', '55', '47', '21', '57', '68', '72',\n",
              "       '40', '33', '30', '63', '50', '4', '71', '85', '10', '67', '64',\n",
              "       '32', '2', '9', '5', '61', '15', '17', '7', '58', '81', '74', '77',\n",
              "       '46', '69', '80', '37', '28', '83', '79', '70', '92', '84', '93',\n",
              "       '82', '79.77226286', '82.77226286', '87', '103', '95', '106', '88',\n",
              "       '100', '91', '90.6967748', '96', '105', '94', '102', '104', '108',\n",
              "       '90', 'twenty eight', '107', '98', nan, '80.58881184', '97',\n",
              "       '62.70684789', '61.70684789', '71.43034858', '72.43034858'],\n",
              "      dtype=object)"
            ]
          },
          "metadata": {},
          "execution_count": 282
        }
      ],
      "source": [
        "(df_census['Age'].unique())"
      ]
    },
    {
      "cell_type": "code",
      "source": [
        "# Exploring the data of people with blank age\n",
        "df_census[df_census[\"Age\"].isnull()]"
      ],
      "metadata": {
        "colab": {
          "base_uri": "https://localhost:8080/",
          "height": 81
        },
        "outputId": "91fed803-9ff5-4d44-e194-2397df4bb201",
        "id": "ruMkLwygFHrT"
      },
      "execution_count": null,
      "outputs": [
        {
          "output_type": "execute_result",
          "data": {
            "text/plain": [
              "     House Number        Street First Name Surname  Age  \\\n",
              "6487          227  White Branch      Reece   Riley  NaN   \n",
              "\n",
              "     Relationship to Head of House Marital Status Gender Occupation Infirmity  \\\n",
              "6487                           Son            NaN   Male      Child      None   \n",
              "\n",
              "     Religion  \n",
              "6487      NaN  "
            ],
            "text/html": [
              "\n",
              "  <div id=\"df-8eaab21a-6d25-4112-b65e-ce19ea41c060\">\n",
              "    <div class=\"colab-df-container\">\n",
              "      <div>\n",
              "<style scoped>\n",
              "    .dataframe tbody tr th:only-of-type {\n",
              "        vertical-align: middle;\n",
              "    }\n",
              "\n",
              "    .dataframe tbody tr th {\n",
              "        vertical-align: top;\n",
              "    }\n",
              "\n",
              "    .dataframe thead th {\n",
              "        text-align: right;\n",
              "    }\n",
              "</style>\n",
              "<table border=\"1\" class=\"dataframe\">\n",
              "  <thead>\n",
              "    <tr style=\"text-align: right;\">\n",
              "      <th></th>\n",
              "      <th>House Number</th>\n",
              "      <th>Street</th>\n",
              "      <th>First Name</th>\n",
              "      <th>Surname</th>\n",
              "      <th>Age</th>\n",
              "      <th>Relationship to Head of House</th>\n",
              "      <th>Marital Status</th>\n",
              "      <th>Gender</th>\n",
              "      <th>Occupation</th>\n",
              "      <th>Infirmity</th>\n",
              "      <th>Religion</th>\n",
              "    </tr>\n",
              "  </thead>\n",
              "  <tbody>\n",
              "    <tr>\n",
              "      <th>6487</th>\n",
              "      <td>227</td>\n",
              "      <td>White Branch</td>\n",
              "      <td>Reece</td>\n",
              "      <td>Riley</td>\n",
              "      <td>NaN</td>\n",
              "      <td>Son</td>\n",
              "      <td>NaN</td>\n",
              "      <td>Male</td>\n",
              "      <td>Child</td>\n",
              "      <td>None</td>\n",
              "      <td>NaN</td>\n",
              "    </tr>\n",
              "  </tbody>\n",
              "</table>\n",
              "</div>\n",
              "      <button class=\"colab-df-convert\" onclick=\"convertToInteractive('df-8eaab21a-6d25-4112-b65e-ce19ea41c060')\"\n",
              "              title=\"Convert this dataframe to an interactive table.\"\n",
              "              style=\"display:none;\">\n",
              "        \n",
              "  <svg xmlns=\"http://www.w3.org/2000/svg\" height=\"24px\"viewBox=\"0 0 24 24\"\n",
              "       width=\"24px\">\n",
              "    <path d=\"M0 0h24v24H0V0z\" fill=\"none\"/>\n",
              "    <path d=\"M18.56 5.44l.94 2.06.94-2.06 2.06-.94-2.06-.94-.94-2.06-.94 2.06-2.06.94zm-11 1L8.5 8.5l.94-2.06 2.06-.94-2.06-.94L8.5 2.5l-.94 2.06-2.06.94zm10 10l.94 2.06.94-2.06 2.06-.94-2.06-.94-.94-2.06-.94 2.06-2.06.94z\"/><path d=\"M17.41 7.96l-1.37-1.37c-.4-.4-.92-.59-1.43-.59-.52 0-1.04.2-1.43.59L10.3 9.45l-7.72 7.72c-.78.78-.78 2.05 0 2.83L4 21.41c.39.39.9.59 1.41.59.51 0 1.02-.2 1.41-.59l7.78-7.78 2.81-2.81c.8-.78.8-2.07 0-2.86zM5.41 20L4 18.59l7.72-7.72 1.47 1.35L5.41 20z\"/>\n",
              "  </svg>\n",
              "      </button>\n",
              "      \n",
              "  <style>\n",
              "    .colab-df-container {\n",
              "      display:flex;\n",
              "      flex-wrap:wrap;\n",
              "      gap: 12px;\n",
              "    }\n",
              "\n",
              "    .colab-df-convert {\n",
              "      background-color: #E8F0FE;\n",
              "      border: none;\n",
              "      border-radius: 50%;\n",
              "      cursor: pointer;\n",
              "      display: none;\n",
              "      fill: #1967D2;\n",
              "      height: 32px;\n",
              "      padding: 0 0 0 0;\n",
              "      width: 32px;\n",
              "    }\n",
              "\n",
              "    .colab-df-convert:hover {\n",
              "      background-color: #E2EBFA;\n",
              "      box-shadow: 0px 1px 2px rgba(60, 64, 67, 0.3), 0px 1px 3px 1px rgba(60, 64, 67, 0.15);\n",
              "      fill: #174EA6;\n",
              "    }\n",
              "\n",
              "    [theme=dark] .colab-df-convert {\n",
              "      background-color: #3B4455;\n",
              "      fill: #D2E3FC;\n",
              "    }\n",
              "\n",
              "    [theme=dark] .colab-df-convert:hover {\n",
              "      background-color: #434B5C;\n",
              "      box-shadow: 0px 1px 3px 1px rgba(0, 0, 0, 0.15);\n",
              "      filter: drop-shadow(0px 1px 2px rgba(0, 0, 0, 0.3));\n",
              "      fill: #FFFFFF;\n",
              "    }\n",
              "  </style>\n",
              "\n",
              "      <script>\n",
              "        const buttonEl =\n",
              "          document.querySelector('#df-8eaab21a-6d25-4112-b65e-ce19ea41c060 button.colab-df-convert');\n",
              "        buttonEl.style.display =\n",
              "          google.colab.kernel.accessAllowed ? 'block' : 'none';\n",
              "\n",
              "        async function convertToInteractive(key) {\n",
              "          const element = document.querySelector('#df-8eaab21a-6d25-4112-b65e-ce19ea41c060');\n",
              "          const dataTable =\n",
              "            await google.colab.kernel.invokeFunction('convertToInteractive',\n",
              "                                                     [key], {});\n",
              "          if (!dataTable) return;\n",
              "\n",
              "          const docLinkHtml = 'Like what you see? Visit the ' +\n",
              "            '<a target=\"_blank\" href=https://colab.research.google.com/notebooks/data_table.ipynb>data table notebook</a>'\n",
              "            + ' to learn more about interactive tables.';\n",
              "          element.innerHTML = '';\n",
              "          dataTable['output_type'] = 'display_data';\n",
              "          await google.colab.output.renderOutput(dataTable, element);\n",
              "          const docLink = document.createElement('div');\n",
              "          docLink.innerHTML = docLinkHtml;\n",
              "          element.appendChild(docLink);\n",
              "        }\n",
              "      </script>\n",
              "    </div>\n",
              "  </div>\n",
              "  "
            ]
          },
          "metadata": {},
          "execution_count": 283
        }
      ]
    },
    {
      "cell_type": "code",
      "source": [
        "#Expanding the dataframe to see the information of the other household members of the records with blanks\n",
        "df_census[6485:6490]"
      ],
      "metadata": {
        "colab": {
          "base_uri": "https://localhost:8080/",
          "height": 206
        },
        "outputId": "785c2f7c-cce9-4b97-c76d-50ba2d206603",
        "id": "8pjeivJnFTMJ"
      },
      "execution_count": null,
      "outputs": [
        {
          "output_type": "execute_result",
          "data": {
            "text/plain": [
              "     House Number        Street First Name  Surname  Age  \\\n",
              "6485          227  White Branch     Olivia    Riley   36   \n",
              "6486          227  White Branch      Clive    Riley   33   \n",
              "6487          227  White Branch      Reece    Riley  NaN   \n",
              "6488          228  White Branch     Gerald    Craig   29   \n",
              "6489          229  White Branch      Frank  Edwards   62   \n",
              "\n",
              "     Relationship to Head of House Marital Status  Gender  \\\n",
              "6485                          Head        Married  Female   \n",
              "6486                       Husband        Married    Male   \n",
              "6487                           Son            NaN    Male   \n",
              "6488                          Head         Single    Male   \n",
              "6489                          Head         Single    Male   \n",
              "\n",
              "                                             Occupation Infirmity  Religion  \n",
              "6485                                       Statistician      None      None  \n",
              "6486  Historic buildings inspector/conservation officer      None      None  \n",
              "6487                                              Child      None       NaN  \n",
              "6488                               Chartered accountant      None      None  \n",
              "6489                           Print production planner      None  Catholic  "
            ],
            "text/html": [
              "\n",
              "  <div id=\"df-09caf36b-37a8-4d92-a185-2577f8f3da38\">\n",
              "    <div class=\"colab-df-container\">\n",
              "      <div>\n",
              "<style scoped>\n",
              "    .dataframe tbody tr th:only-of-type {\n",
              "        vertical-align: middle;\n",
              "    }\n",
              "\n",
              "    .dataframe tbody tr th {\n",
              "        vertical-align: top;\n",
              "    }\n",
              "\n",
              "    .dataframe thead th {\n",
              "        text-align: right;\n",
              "    }\n",
              "</style>\n",
              "<table border=\"1\" class=\"dataframe\">\n",
              "  <thead>\n",
              "    <tr style=\"text-align: right;\">\n",
              "      <th></th>\n",
              "      <th>House Number</th>\n",
              "      <th>Street</th>\n",
              "      <th>First Name</th>\n",
              "      <th>Surname</th>\n",
              "      <th>Age</th>\n",
              "      <th>Relationship to Head of House</th>\n",
              "      <th>Marital Status</th>\n",
              "      <th>Gender</th>\n",
              "      <th>Occupation</th>\n",
              "      <th>Infirmity</th>\n",
              "      <th>Religion</th>\n",
              "    </tr>\n",
              "  </thead>\n",
              "  <tbody>\n",
              "    <tr>\n",
              "      <th>6485</th>\n",
              "      <td>227</td>\n",
              "      <td>White Branch</td>\n",
              "      <td>Olivia</td>\n",
              "      <td>Riley</td>\n",
              "      <td>36</td>\n",
              "      <td>Head</td>\n",
              "      <td>Married</td>\n",
              "      <td>Female</td>\n",
              "      <td>Statistician</td>\n",
              "      <td>None</td>\n",
              "      <td>None</td>\n",
              "    </tr>\n",
              "    <tr>\n",
              "      <th>6486</th>\n",
              "      <td>227</td>\n",
              "      <td>White Branch</td>\n",
              "      <td>Clive</td>\n",
              "      <td>Riley</td>\n",
              "      <td>33</td>\n",
              "      <td>Husband</td>\n",
              "      <td>Married</td>\n",
              "      <td>Male</td>\n",
              "      <td>Historic buildings inspector/conservation officer</td>\n",
              "      <td>None</td>\n",
              "      <td>None</td>\n",
              "    </tr>\n",
              "    <tr>\n",
              "      <th>6487</th>\n",
              "      <td>227</td>\n",
              "      <td>White Branch</td>\n",
              "      <td>Reece</td>\n",
              "      <td>Riley</td>\n",
              "      <td>NaN</td>\n",
              "      <td>Son</td>\n",
              "      <td>NaN</td>\n",
              "      <td>Male</td>\n",
              "      <td>Child</td>\n",
              "      <td>None</td>\n",
              "      <td>NaN</td>\n",
              "    </tr>\n",
              "    <tr>\n",
              "      <th>6488</th>\n",
              "      <td>228</td>\n",
              "      <td>White Branch</td>\n",
              "      <td>Gerald</td>\n",
              "      <td>Craig</td>\n",
              "      <td>29</td>\n",
              "      <td>Head</td>\n",
              "      <td>Single</td>\n",
              "      <td>Male</td>\n",
              "      <td>Chartered accountant</td>\n",
              "      <td>None</td>\n",
              "      <td>None</td>\n",
              "    </tr>\n",
              "    <tr>\n",
              "      <th>6489</th>\n",
              "      <td>229</td>\n",
              "      <td>White Branch</td>\n",
              "      <td>Frank</td>\n",
              "      <td>Edwards</td>\n",
              "      <td>62</td>\n",
              "      <td>Head</td>\n",
              "      <td>Single</td>\n",
              "      <td>Male</td>\n",
              "      <td>Print production planner</td>\n",
              "      <td>None</td>\n",
              "      <td>Catholic</td>\n",
              "    </tr>\n",
              "  </tbody>\n",
              "</table>\n",
              "</div>\n",
              "      <button class=\"colab-df-convert\" onclick=\"convertToInteractive('df-09caf36b-37a8-4d92-a185-2577f8f3da38')\"\n",
              "              title=\"Convert this dataframe to an interactive table.\"\n",
              "              style=\"display:none;\">\n",
              "        \n",
              "  <svg xmlns=\"http://www.w3.org/2000/svg\" height=\"24px\"viewBox=\"0 0 24 24\"\n",
              "       width=\"24px\">\n",
              "    <path d=\"M0 0h24v24H0V0z\" fill=\"none\"/>\n",
              "    <path d=\"M18.56 5.44l.94 2.06.94-2.06 2.06-.94-2.06-.94-.94-2.06-.94 2.06-2.06.94zm-11 1L8.5 8.5l.94-2.06 2.06-.94-2.06-.94L8.5 2.5l-.94 2.06-2.06.94zm10 10l.94 2.06.94-2.06 2.06-.94-2.06-.94-.94-2.06-.94 2.06-2.06.94z\"/><path d=\"M17.41 7.96l-1.37-1.37c-.4-.4-.92-.59-1.43-.59-.52 0-1.04.2-1.43.59L10.3 9.45l-7.72 7.72c-.78.78-.78 2.05 0 2.83L4 21.41c.39.39.9.59 1.41.59.51 0 1.02-.2 1.41-.59l7.78-7.78 2.81-2.81c.8-.78.8-2.07 0-2.86zM5.41 20L4 18.59l7.72-7.72 1.47 1.35L5.41 20z\"/>\n",
              "  </svg>\n",
              "      </button>\n",
              "      \n",
              "  <style>\n",
              "    .colab-df-container {\n",
              "      display:flex;\n",
              "      flex-wrap:wrap;\n",
              "      gap: 12px;\n",
              "    }\n",
              "\n",
              "    .colab-df-convert {\n",
              "      background-color: #E8F0FE;\n",
              "      border: none;\n",
              "      border-radius: 50%;\n",
              "      cursor: pointer;\n",
              "      display: none;\n",
              "      fill: #1967D2;\n",
              "      height: 32px;\n",
              "      padding: 0 0 0 0;\n",
              "      width: 32px;\n",
              "    }\n",
              "\n",
              "    .colab-df-convert:hover {\n",
              "      background-color: #E2EBFA;\n",
              "      box-shadow: 0px 1px 2px rgba(60, 64, 67, 0.3), 0px 1px 3px 1px rgba(60, 64, 67, 0.15);\n",
              "      fill: #174EA6;\n",
              "    }\n",
              "\n",
              "    [theme=dark] .colab-df-convert {\n",
              "      background-color: #3B4455;\n",
              "      fill: #D2E3FC;\n",
              "    }\n",
              "\n",
              "    [theme=dark] .colab-df-convert:hover {\n",
              "      background-color: #434B5C;\n",
              "      box-shadow: 0px 1px 3px 1px rgba(0, 0, 0, 0.15);\n",
              "      filter: drop-shadow(0px 1px 2px rgba(0, 0, 0, 0.3));\n",
              "      fill: #FFFFFF;\n",
              "    }\n",
              "  </style>\n",
              "\n",
              "      <script>\n",
              "        const buttonEl =\n",
              "          document.querySelector('#df-09caf36b-37a8-4d92-a185-2577f8f3da38 button.colab-df-convert');\n",
              "        buttonEl.style.display =\n",
              "          google.colab.kernel.accessAllowed ? 'block' : 'none';\n",
              "\n",
              "        async function convertToInteractive(key) {\n",
              "          const element = document.querySelector('#df-09caf36b-37a8-4d92-a185-2577f8f3da38');\n",
              "          const dataTable =\n",
              "            await google.colab.kernel.invokeFunction('convertToInteractive',\n",
              "                                                     [key], {});\n",
              "          if (!dataTable) return;\n",
              "\n",
              "          const docLinkHtml = 'Like what you see? Visit the ' +\n",
              "            '<a target=\"_blank\" href=https://colab.research.google.com/notebooks/data_table.ipynb>data table notebook</a>'\n",
              "            + ' to learn more about interactive tables.';\n",
              "          element.innerHTML = '';\n",
              "          dataTable['output_type'] = 'display_data';\n",
              "          await google.colab.output.renderOutput(dataTable, element);\n",
              "          const docLink = document.createElement('div');\n",
              "          docLink.innerHTML = docLinkHtml;\n",
              "          element.appendChild(docLink);\n",
              "        }\n",
              "      </script>\n",
              "    </div>\n",
              "  </div>\n",
              "  "
            ]
          },
          "metadata": {},
          "execution_count": 284
        }
      ]
    },
    {
      "cell_type": "code",
      "execution_count": null,
      "metadata": {
        "id": "WfBlJgTtKKuB",
        "colab": {
          "base_uri": "https://localhost:8080/"
        },
        "outputId": "0f142445-2a7f-473a-865a-c3e6dbe31f52"
      },
      "outputs": [
        {
          "output_type": "execute_result",
          "data": {
            "text/plain": [
              "array(['52', '59', '14', '13', '41', '43', '12', '76', '78', '48', '20',\n",
              "       '16', '8', '39', '6', '1', '65', '66', '29', '26', '73', '38',\n",
              "       '31', '34', '3', '0', '60', '62', '25', '22', '18', '56', '53',\n",
              "       '19', '75', '36', '42', '35', '23', '49', '27', '89', '86', '11',\n",
              "       '54', '24', '44', '45', '51', '55', '47', '21', '57', '68', '72',\n",
              "       '40', '33', '30', '63', '50', '4', '71', '85', '10', '67', '64',\n",
              "       '32', '2', '9', '5', '61', '15', '17', '7', '58', '81', '74', '77',\n",
              "       '46', '69', '80', '37', '28', '83', '79', '70', '92', '84', '93',\n",
              "       '82', '79.77226286', '82.77226286', '87', '103', '95', '106', '88',\n",
              "       '100', '91', '90.6967748', '96', '105', '94', '102', '104', '108',\n",
              "       '90', '107', '98', nan, '80.58881184', '97', '62.70684789',\n",
              "       '61.70684789', '71.43034858', '72.43034858'], dtype=object)"
            ]
          },
          "metadata": {},
          "execution_count": 285
        }
      ],
      "source": [
        "#change str 'twenty-eight' to 28\n",
        "df_census['Age'] = df_census['Age'].replace(['twenty eight'], '28')\n",
        "df_census['Age'].unique()"
      ]
    },
    {
      "cell_type": "code",
      "source": [
        "# converting 'Age' from str to float\n",
        "df_census['Age'] = df_census['Age'].astype(float)"
      ],
      "metadata": {
        "id": "5A1zIqBbU-_1"
      },
      "execution_count": null,
      "outputs": []
    },
    {
      "cell_type": "code",
      "source": [
        "#checking for the age mode of those who are declared as a child\n",
        "df_census[(df_census['Age'] <= 17)]['Age'].value_counts().sort_index() #the mode of this age group will be used to replace the missing value"
      ],
      "metadata": {
        "colab": {
          "base_uri": "https://localhost:8080/"
        },
        "id": "Y6lBvU4HHI12",
        "outputId": "5cb532f6-f3e1-4715-b071-95ac60a415bf"
      },
      "execution_count": null,
      "outputs": [
        {
          "output_type": "execute_result",
          "data": {
            "text/plain": [
              "0.0      85\n",
              "1.0      91\n",
              "2.0     102\n",
              "3.0     111\n",
              "4.0     127\n",
              "5.0     126\n",
              "6.0     137\n",
              "7.0     132\n",
              "8.0     119\n",
              "9.0     116\n",
              "10.0    105\n",
              "11.0    142\n",
              "12.0    126\n",
              "13.0    118\n",
              "14.0    132\n",
              "15.0    134\n",
              "16.0    145\n",
              "17.0    146\n",
              "Name: Age, dtype: int64"
            ]
          },
          "metadata": {},
          "execution_count": 287
        }
      ]
    },
    {
      "cell_type": "code",
      "source": [
        "#replace missing value with mode of those with age <=17\n",
        "\n",
        "#why?: Marital status is NA(NA's has been declared as minors in the relationship column)\n",
        "#why?: Occupation is declared as child and those below age 17\n",
        "df_census.iloc[[6487],[4]] = 17"
      ],
      "metadata": {
        "id": "tmE3VSHwNH8P"
      },
      "execution_count": null,
      "outputs": []
    },
    {
      "cell_type": "code",
      "execution_count": null,
      "metadata": {
        "id": "9KaGC2Y45Sze",
        "colab": {
          "base_uri": "https://localhost:8080/"
        },
        "outputId": "acd96ab6-2cfc-4b63-9a52-2ff3cd1f0685"
      },
      "outputs": [
        {
          "output_type": "execute_result",
          "data": {
            "text/plain": [
              "array([ 52,  59,  14,  13,  41,  43,  12,  76,  78,  48,  20,  16,   8,\n",
              "        39,   6,   1,  65,  66,  29,  26,  73,  38,  31,  34,   3,   0,\n",
              "        60,  62,  25,  22,  18,  56,  53,  19,  75,  36,  42,  35,  23,\n",
              "        49,  27,  89,  86,  11,  54,  24,  44,  45,  51,  55,  47,  21,\n",
              "        57,  68,  72,  40,  33,  30,  63,  50,   4,  71,  85,  10,  67,\n",
              "        64,  32,   2,   9,   5,  61,  15,  17,   7,  58,  81,  74,  77,\n",
              "        46,  69,  80,  37,  28,  83,  79,  70,  92,  84,  93,  82,  87,\n",
              "       103,  95, 106,  88, 100,  91,  90,  96, 105,  94, 102, 104, 108,\n",
              "       107,  98,  97])"
            ]
          },
          "metadata": {},
          "execution_count": 289
        }
      ],
      "source": [
        "# converting 'Age' from float to int\n",
        "df_census['Age'] = df_census['Age'].astype(int)\n",
        "\n",
        "#check unique values again\n",
        "(df_census['Age'].unique())"
      ]
    },
    {
      "cell_type": "code",
      "source": [
        "age_mode = df_census[\"Age\"].mode()\n",
        "age_mean = df_census[\"Age\"].mean()\n",
        "age_median = df_census[\"Age\"].median()\n",
        "age_sd = df_census[\"Age\"].std()\n",
        "print(f\" The mode of the age data is : {age_mode[0]} years \\n median of age data series: {int(round(age_median,0))} years \\n mean of age data series: {int(round(age_mean,0))} years \\n The standard deviation of the age data series is: {int(round(age_sd,0))}\")"
      ],
      "metadata": {
        "colab": {
          "base_uri": "https://localhost:8080/"
        },
        "id": "5hfMBYK0guCo",
        "outputId": "eedf3c97-cd89-4ede-8367-740161c8f29f"
      },
      "execution_count": null,
      "outputs": [
        {
          "output_type": "stream",
          "name": "stdout",
          "text": [
            " The mode of the age data is : 19 years \n",
            " median of age data series: 35 years \n",
            " mean of age data series: 36 years \n",
            " The standard deviation of the age data series is: 22\n"
          ]
        }
      ]
    },
    {
      "cell_type": "code",
      "execution_count": null,
      "metadata": {
        "id": "oH6Ksfj55Szf",
        "colab": {
          "base_uri": "https://localhost:8080/"
        },
        "outputId": "c4e554a1-db90-4771-9717-c21a7e3cc939"
      },
      "outputs": [
        {
          "output_type": "execute_result",
          "data": {
            "text/plain": [
              "Adult     6356\n",
              "Child     2195\n",
              "Senior     992\n",
              "Name: Age group, dtype: int64"
            ]
          },
          "metadata": {},
          "execution_count": 291
        }
      ],
      "source": [
        "#age reclassifcation\n",
        "df_census['Age group'] = df_census['Age']\n",
        "df_census.loc[df_census['Age'] <=17, 'Age group'] = 'Child'\n",
        "df_census.loc[(df_census['Age'] >=18) & (df_census['Age'] <65), 'Age group'] = 'Adult'\n",
        "df_census.loc[df_census['Age'] >=65, 'Age group'] = 'Senior'\n",
        "(df_census['Age group'].value_counts())"
      ]
    },
    {
      "cell_type": "code",
      "execution_count": null,
      "metadata": {
        "id": "MyuFiQPv5Szf"
      },
      "outputs": [],
      "source": [
        "#0<=5<=10print(df_census['Gender'].unique())print(df_census['Gender'].unique())print(df_census['Gender'].unique())"
      ]
    },
    {
      "cell_type": "markdown",
      "metadata": {
        "id": "6gCrh4zw5Szf"
      },
      "source": [
        "### Relationship to HOH"
      ]
    },
    {
      "cell_type": "code",
      "execution_count": null,
      "metadata": {
        "id": "jZcgtBnj5Szf",
        "colab": {
          "base_uri": "https://localhost:8080/"
        },
        "outputId": "0f3f20fd-5033-42c9-d152-dc1e96e9d7a6"
      },
      "outputs": [
        {
          "output_type": "execute_result",
          "data": {
            "text/plain": [
              "array(['Head', 'Husband', 'Son', 'Daughter', 'Visitor', 'Wife', 'Cousin',\n",
              "       'None', 'Partner', 'Granddaughter', 'Lodger', 'Nephew', 'Sibling',\n",
              "       'Neice', 'Grandson', 'Adopted Son', 'Adopted Daughter', 'Step-Son',\n",
              "       'Step-Daughter', 'Adopted Grandson', 'Adopted Granddaughter'],\n",
              "      dtype=object)"
            ]
          },
          "metadata": {},
          "execution_count": 293
        }
      ],
      "source": [
        "(df_census['Relationship to Head of House'].unique())"
      ]
    },
    {
      "cell_type": "code",
      "source": [
        "df_census[1266:8352]"
      ],
      "metadata": {
        "colab": {
          "base_uri": "https://localhost:8080/",
          "height": 423
        },
        "id": "VYRnJnAwVKRk",
        "outputId": "bf967f99-eb37-4817-9559-98208b551170"
      },
      "execution_count": null,
      "outputs": [
        {
          "output_type": "execute_result",
          "data": {
            "text/plain": [
              "     House Number        Street First Name   Surname  Age  \\\n",
              "1266           11  Outer Avenue      Karen     Jones   25   \n",
              "1267           12  Outer Avenue      Laura  Thompson   17   \n",
              "1268           12  Outer Avenue     Julian  Thompson    0   \n",
              "1269           12  Outer Avenue     Graham     Dixon   31   \n",
              "1270           13  Outer Avenue      Glenn   Thomson   54   \n",
              "...           ...           ...        ...       ...  ...   \n",
              "8347           36  Badger Shoal     Leanne      Hall   57   \n",
              "8348           36  Badger Shoal     Howard      Hall   23   \n",
              "8349           37  Badger Shoal      Amber      Ball   17   \n",
              "8350           37  Badger Shoal    Shannon      Ball    1   \n",
              "8351           38  Badger Shoal   Kayleigh    Oliver   31   \n",
              "\n",
              "     Relationship to Head of House Marital Status  Gender         Occupation  \\\n",
              "1266                          None         Single  Female        PhD Student   \n",
              "1267                          Head       Divorced  female            Student   \n",
              "1268                           Son            NaN       m              Child   \n",
              "1269                        Lodger         Single    Male    Event organiser   \n",
              "1270                          Head         Single    Male         Bookseller   \n",
              "...                            ...            ...     ...                ...   \n",
              "8347                          Head         Single  Female         Unemployed   \n",
              "8348                           Son         Single    Male    Mining engineer   \n",
              "8349                          Head         Single  Female            Student   \n",
              "8350                      Daughter            NaN  Female              Child   \n",
              "8351                          Head       Divorced  Female  Quantity surveyor   \n",
              "\n",
              "     Infirmity   Religion Age group  \n",
              "1266      None       None     Adult  \n",
              "1267      None        NaN     Child  \n",
              "1268      None        NaN     Child  \n",
              "1269      None       None     Adult  \n",
              "1270      None  Christian     Adult  \n",
              "...        ...        ...       ...  \n",
              "8347      None  Christian     Adult  \n",
              "8348      None  Christian     Adult  \n",
              "8349      None        NaN     Child  \n",
              "8350      None        NaN     Child  \n",
              "8351      None       None     Adult  \n",
              "\n",
              "[7086 rows x 12 columns]"
            ],
            "text/html": [
              "\n",
              "  <div id=\"df-cd4e2d8d-54e2-40bf-bd3b-dc1120cc482e\">\n",
              "    <div class=\"colab-df-container\">\n",
              "      <div>\n",
              "<style scoped>\n",
              "    .dataframe tbody tr th:only-of-type {\n",
              "        vertical-align: middle;\n",
              "    }\n",
              "\n",
              "    .dataframe tbody tr th {\n",
              "        vertical-align: top;\n",
              "    }\n",
              "\n",
              "    .dataframe thead th {\n",
              "        text-align: right;\n",
              "    }\n",
              "</style>\n",
              "<table border=\"1\" class=\"dataframe\">\n",
              "  <thead>\n",
              "    <tr style=\"text-align: right;\">\n",
              "      <th></th>\n",
              "      <th>House Number</th>\n",
              "      <th>Street</th>\n",
              "      <th>First Name</th>\n",
              "      <th>Surname</th>\n",
              "      <th>Age</th>\n",
              "      <th>Relationship to Head of House</th>\n",
              "      <th>Marital Status</th>\n",
              "      <th>Gender</th>\n",
              "      <th>Occupation</th>\n",
              "      <th>Infirmity</th>\n",
              "      <th>Religion</th>\n",
              "      <th>Age group</th>\n",
              "    </tr>\n",
              "  </thead>\n",
              "  <tbody>\n",
              "    <tr>\n",
              "      <th>1266</th>\n",
              "      <td>11</td>\n",
              "      <td>Outer Avenue</td>\n",
              "      <td>Karen</td>\n",
              "      <td>Jones</td>\n",
              "      <td>25</td>\n",
              "      <td>None</td>\n",
              "      <td>Single</td>\n",
              "      <td>Female</td>\n",
              "      <td>PhD Student</td>\n",
              "      <td>None</td>\n",
              "      <td>None</td>\n",
              "      <td>Adult</td>\n",
              "    </tr>\n",
              "    <tr>\n",
              "      <th>1267</th>\n",
              "      <td>12</td>\n",
              "      <td>Outer Avenue</td>\n",
              "      <td>Laura</td>\n",
              "      <td>Thompson</td>\n",
              "      <td>17</td>\n",
              "      <td>Head</td>\n",
              "      <td>Divorced</td>\n",
              "      <td>female</td>\n",
              "      <td>Student</td>\n",
              "      <td>None</td>\n",
              "      <td>NaN</td>\n",
              "      <td>Child</td>\n",
              "    </tr>\n",
              "    <tr>\n",
              "      <th>1268</th>\n",
              "      <td>12</td>\n",
              "      <td>Outer Avenue</td>\n",
              "      <td>Julian</td>\n",
              "      <td>Thompson</td>\n",
              "      <td>0</td>\n",
              "      <td>Son</td>\n",
              "      <td>NaN</td>\n",
              "      <td>m</td>\n",
              "      <td>Child</td>\n",
              "      <td>None</td>\n",
              "      <td>NaN</td>\n",
              "      <td>Child</td>\n",
              "    </tr>\n",
              "    <tr>\n",
              "      <th>1269</th>\n",
              "      <td>12</td>\n",
              "      <td>Outer Avenue</td>\n",
              "      <td>Graham</td>\n",
              "      <td>Dixon</td>\n",
              "      <td>31</td>\n",
              "      <td>Lodger</td>\n",
              "      <td>Single</td>\n",
              "      <td>Male</td>\n",
              "      <td>Event organiser</td>\n",
              "      <td>None</td>\n",
              "      <td>None</td>\n",
              "      <td>Adult</td>\n",
              "    </tr>\n",
              "    <tr>\n",
              "      <th>1270</th>\n",
              "      <td>13</td>\n",
              "      <td>Outer Avenue</td>\n",
              "      <td>Glenn</td>\n",
              "      <td>Thomson</td>\n",
              "      <td>54</td>\n",
              "      <td>Head</td>\n",
              "      <td>Single</td>\n",
              "      <td>Male</td>\n",
              "      <td>Bookseller</td>\n",
              "      <td>None</td>\n",
              "      <td>Christian</td>\n",
              "      <td>Adult</td>\n",
              "    </tr>\n",
              "    <tr>\n",
              "      <th>...</th>\n",
              "      <td>...</td>\n",
              "      <td>...</td>\n",
              "      <td>...</td>\n",
              "      <td>...</td>\n",
              "      <td>...</td>\n",
              "      <td>...</td>\n",
              "      <td>...</td>\n",
              "      <td>...</td>\n",
              "      <td>...</td>\n",
              "      <td>...</td>\n",
              "      <td>...</td>\n",
              "      <td>...</td>\n",
              "    </tr>\n",
              "    <tr>\n",
              "      <th>8347</th>\n",
              "      <td>36</td>\n",
              "      <td>Badger Shoal</td>\n",
              "      <td>Leanne</td>\n",
              "      <td>Hall</td>\n",
              "      <td>57</td>\n",
              "      <td>Head</td>\n",
              "      <td>Single</td>\n",
              "      <td>Female</td>\n",
              "      <td>Unemployed</td>\n",
              "      <td>None</td>\n",
              "      <td>Christian</td>\n",
              "      <td>Adult</td>\n",
              "    </tr>\n",
              "    <tr>\n",
              "      <th>8348</th>\n",
              "      <td>36</td>\n",
              "      <td>Badger Shoal</td>\n",
              "      <td>Howard</td>\n",
              "      <td>Hall</td>\n",
              "      <td>23</td>\n",
              "      <td>Son</td>\n",
              "      <td>Single</td>\n",
              "      <td>Male</td>\n",
              "      <td>Mining engineer</td>\n",
              "      <td>None</td>\n",
              "      <td>Christian</td>\n",
              "      <td>Adult</td>\n",
              "    </tr>\n",
              "    <tr>\n",
              "      <th>8349</th>\n",
              "      <td>37</td>\n",
              "      <td>Badger Shoal</td>\n",
              "      <td>Amber</td>\n",
              "      <td>Ball</td>\n",
              "      <td>17</td>\n",
              "      <td>Head</td>\n",
              "      <td>Single</td>\n",
              "      <td>Female</td>\n",
              "      <td>Student</td>\n",
              "      <td>None</td>\n",
              "      <td>NaN</td>\n",
              "      <td>Child</td>\n",
              "    </tr>\n",
              "    <tr>\n",
              "      <th>8350</th>\n",
              "      <td>37</td>\n",
              "      <td>Badger Shoal</td>\n",
              "      <td>Shannon</td>\n",
              "      <td>Ball</td>\n",
              "      <td>1</td>\n",
              "      <td>Daughter</td>\n",
              "      <td>NaN</td>\n",
              "      <td>Female</td>\n",
              "      <td>Child</td>\n",
              "      <td>None</td>\n",
              "      <td>NaN</td>\n",
              "      <td>Child</td>\n",
              "    </tr>\n",
              "    <tr>\n",
              "      <th>8351</th>\n",
              "      <td>38</td>\n",
              "      <td>Badger Shoal</td>\n",
              "      <td>Kayleigh</td>\n",
              "      <td>Oliver</td>\n",
              "      <td>31</td>\n",
              "      <td>Head</td>\n",
              "      <td>Divorced</td>\n",
              "      <td>Female</td>\n",
              "      <td>Quantity surveyor</td>\n",
              "      <td>None</td>\n",
              "      <td>None</td>\n",
              "      <td>Adult</td>\n",
              "    </tr>\n",
              "  </tbody>\n",
              "</table>\n",
              "<p>7086 rows × 12 columns</p>\n",
              "</div>\n",
              "      <button class=\"colab-df-convert\" onclick=\"convertToInteractive('df-cd4e2d8d-54e2-40bf-bd3b-dc1120cc482e')\"\n",
              "              title=\"Convert this dataframe to an interactive table.\"\n",
              "              style=\"display:none;\">\n",
              "        \n",
              "  <svg xmlns=\"http://www.w3.org/2000/svg\" height=\"24px\"viewBox=\"0 0 24 24\"\n",
              "       width=\"24px\">\n",
              "    <path d=\"M0 0h24v24H0V0z\" fill=\"none\"/>\n",
              "    <path d=\"M18.56 5.44l.94 2.06.94-2.06 2.06-.94-2.06-.94-.94-2.06-.94 2.06-2.06.94zm-11 1L8.5 8.5l.94-2.06 2.06-.94-2.06-.94L8.5 2.5l-.94 2.06-2.06.94zm10 10l.94 2.06.94-2.06 2.06-.94-2.06-.94-.94-2.06-.94 2.06-2.06.94z\"/><path d=\"M17.41 7.96l-1.37-1.37c-.4-.4-.92-.59-1.43-.59-.52 0-1.04.2-1.43.59L10.3 9.45l-7.72 7.72c-.78.78-.78 2.05 0 2.83L4 21.41c.39.39.9.59 1.41.59.51 0 1.02-.2 1.41-.59l7.78-7.78 2.81-2.81c.8-.78.8-2.07 0-2.86zM5.41 20L4 18.59l7.72-7.72 1.47 1.35L5.41 20z\"/>\n",
              "  </svg>\n",
              "      </button>\n",
              "      \n",
              "  <style>\n",
              "    .colab-df-container {\n",
              "      display:flex;\n",
              "      flex-wrap:wrap;\n",
              "      gap: 12px;\n",
              "    }\n",
              "\n",
              "    .colab-df-convert {\n",
              "      background-color: #E8F0FE;\n",
              "      border: none;\n",
              "      border-radius: 50%;\n",
              "      cursor: pointer;\n",
              "      display: none;\n",
              "      fill: #1967D2;\n",
              "      height: 32px;\n",
              "      padding: 0 0 0 0;\n",
              "      width: 32px;\n",
              "    }\n",
              "\n",
              "    .colab-df-convert:hover {\n",
              "      background-color: #E2EBFA;\n",
              "      box-shadow: 0px 1px 2px rgba(60, 64, 67, 0.3), 0px 1px 3px 1px rgba(60, 64, 67, 0.15);\n",
              "      fill: #174EA6;\n",
              "    }\n",
              "\n",
              "    [theme=dark] .colab-df-convert {\n",
              "      background-color: #3B4455;\n",
              "      fill: #D2E3FC;\n",
              "    }\n",
              "\n",
              "    [theme=dark] .colab-df-convert:hover {\n",
              "      background-color: #434B5C;\n",
              "      box-shadow: 0px 1px 3px 1px rgba(0, 0, 0, 0.15);\n",
              "      filter: drop-shadow(0px 1px 2px rgba(0, 0, 0, 0.3));\n",
              "      fill: #FFFFFF;\n",
              "    }\n",
              "  </style>\n",
              "\n",
              "      <script>\n",
              "        const buttonEl =\n",
              "          document.querySelector('#df-cd4e2d8d-54e2-40bf-bd3b-dc1120cc482e button.colab-df-convert');\n",
              "        buttonEl.style.display =\n",
              "          google.colab.kernel.accessAllowed ? 'block' : 'none';\n",
              "\n",
              "        async function convertToInteractive(key) {\n",
              "          const element = document.querySelector('#df-cd4e2d8d-54e2-40bf-bd3b-dc1120cc482e');\n",
              "          const dataTable =\n",
              "            await google.colab.kernel.invokeFunction('convertToInteractive',\n",
              "                                                     [key], {});\n",
              "          if (!dataTable) return;\n",
              "\n",
              "          const docLinkHtml = 'Like what you see? Visit the ' +\n",
              "            '<a target=\"_blank\" href=https://colab.research.google.com/notebooks/data_table.ipynb>data table notebook</a>'\n",
              "            + ' to learn more about interactive tables.';\n",
              "          element.innerHTML = '';\n",
              "          dataTable['output_type'] = 'display_data';\n",
              "          await google.colab.output.renderOutput(dataTable, element);\n",
              "          const docLink = document.createElement('div');\n",
              "          docLink.innerHTML = docLinkHtml;\n",
              "          element.appendChild(docLink);\n",
              "        }\n",
              "      </script>\n",
              "    </div>\n",
              "  </div>\n",
              "  "
            ]
          },
          "metadata": {},
          "execution_count": 294
        }
      ]
    },
    {
      "cell_type": "code",
      "execution_count": null,
      "metadata": {
        "colab": {
          "base_uri": "https://localhost:8080/"
        },
        "id": "GYr00FMAWyHA",
        "outputId": "d4db9c04-dd48-4925-e1a9-efabc1f441cc"
      },
      "outputs": [
        {
          "output_type": "stream",
          "name": "stdout",
          "text": [
            "0    19\n",
            "dtype: int64\n"
          ]
        }
      ],
      "source": [
        "hoh_relationship = df_census['Age'].mode()\n",
        "print(hoh_relationship)"
      ]
    },
    {
      "cell_type": "code",
      "execution_count": null,
      "metadata": {
        "id": "ZpIjRbV95Szg",
        "colab": {
          "base_uri": "https://localhost:8080/"
        },
        "outputId": "3eae4c95-036c-4637-f216-eae2370eb033"
      },
      "outputs": [
        {
          "output_type": "stream",
          "name": "stdout",
          "text": [
            "['Head' 'Husband' 'Son' 'Daughter' 'Visitor' 'Wife' 'Cousin' 'None'\n",
            " 'Partner' 'Granddaughter' 'Lodger' 'Nephew' 'Sibling' 'Niece' 'Grandson'\n",
            " 'Adopted Son' 'Adopted Daughter' 'Step-Son' 'Step-Daughter'\n",
            " 'Adopted Grandson' 'Adopted Granddaughter']\n"
          ]
        }
      ],
      "source": [
        "#change str 'Neice' to 'Niece'\n",
        "df_census['Relationship to Head of House'] = df_census['Relationship to Head of House'].replace(['Neice'], 'Niece')\n",
        "\n",
        "#hoh_relationship = df_census['Relationship to Head of House'].mode()\n",
        "#print(hoh_relationship)\n",
        "\n",
        "#HOH with ages <18, adjusting their age using age mode\n",
        "#Divorced female living in outer avenue with a son age 0\n",
        "df_census.iloc[[1267],[4]] = age_mode\n",
        "\n",
        "#Single female living in Bage Shaol Amber with a daughter age 1\n",
        "df_census.iloc[[8349],[4]] = age_mode\n",
        "\n",
        "#check unique values again\n",
        "print(df_census['Relationship to Head of House'].unique())"
      ]
    },
    {
      "cell_type": "code",
      "source": [
        "composition(df_census, \"Relationship to Head of House\")"
      ],
      "metadata": {
        "id": "i9ND6pvNwkEm",
        "colab": {
          "base_uri": "https://localhost:8080/"
        },
        "outputId": "18c31f70-888b-470a-9983-f06f3d17e2cc"
      },
      "execution_count": null,
      "outputs": [
        {
          "output_type": "stream",
          "name": "stdout",
          "text": [
            "Head : 35.02%\n",
            "Husband : 9.94%\n",
            "Son : 16.95%\n",
            "Daughter : 16.46%\n",
            "Visitor : 0.29%\n",
            "Wife : 3.49%\n",
            "Cousin : 0.34%\n",
            "None : 7.48%\n",
            "Partner : 2.54%\n",
            "Granddaughter : 0.88%\n",
            "Lodger : 4.41%\n",
            "Nephew : 0.09%\n",
            "Sibling : 0.53%\n",
            "Niece : 0.07%\n",
            "Grandson : 0.83%\n",
            "Adopted Son : 0.15%\n",
            "Adopted Daughter : 0.14%\n",
            "Step-Son : 0.16%\n",
            "Step-Daughter : 0.19%\n",
            "Adopted Grandson : 0.02%\n",
            "Adopted Granddaughter : 0.01%\n"
          ]
        }
      ]
    },
    {
      "cell_type": "markdown",
      "metadata": {
        "id": "utdJY6Wd5Szg"
      },
      "source": [
        "### Marital Status"
      ]
    },
    {
      "cell_type": "code",
      "execution_count": null,
      "metadata": {
        "id": "5PlrrCdT5Szg",
        "colab": {
          "base_uri": "https://localhost:8080/"
        },
        "outputId": "d1cef109-9c66-4760-ae7d-771341ce6887"
      },
      "outputs": [
        {
          "output_type": "execute_result",
          "data": {
            "text/plain": [
              "array(['Married', nan, 'Widowed', 'Single', 'Divorced', 'S', 'D', 'M',\n",
              "       'W'], dtype=object)"
            ]
          },
          "metadata": {},
          "execution_count": 298
        }
      ],
      "source": [
        "#check for unique values for marital status\n",
        "(df_census['Marital Status'].unique())"
      ]
    },
    {
      "cell_type": "code",
      "source": [
        "# Exploring the data of people with blank marital status for\n",
        "df_census[8711:8715]"
      ],
      "metadata": {
        "colab": {
          "base_uri": "https://localhost:8080/"
        },
        "id": "YIIDy7dAX57l",
        "outputId": "dca70310-a395-4c0e-81b2-320137a89720"
      },
      "execution_count": null,
      "outputs": [
        {
          "output_type": "execute_result",
          "data": {
            "text/plain": [
              "     House Number          Street First Name   Surname  Age  \\\n",
              "8711           14  Spencer Avenue    Stephen  Jennings   23   \n",
              "8712           14  Spencer Avenue       Leon  Jennings   17   \n",
              "8713           15  Spencer Avenue       Mary    Brooks   58   \n",
              "8714           15  Spencer Avenue       Tony    Brooks   41   \n",
              "\n",
              "     Relationship to Head of House Marital Status Gender  \\\n",
              "8711                           Son         Single   Male   \n",
              "8712                           Son            NaN   Male   \n",
              "8713                          Head         Single    NaN   \n",
              "8714                           Son         Single   Male   \n",
              "\n",
              "                   Occupation Infirmity   Religion Age group  \n",
              "8711  Chief Marketing Officer      None   Catholic     Adult  \n",
              "8712                  Student      None        NaN     Child  \n",
              "8713               Unemployed      None  Christian     Adult  \n",
              "8714  Rural practice surveyor      None  Christian     Adult  "
            ],
            "text/html": [
              "\n",
              "  <div id=\"df-8bb902e6-0894-47e4-84fb-c0dac346322e\">\n",
              "    <div class=\"colab-df-container\">\n",
              "      <div>\n",
              "<style scoped>\n",
              "    .dataframe tbody tr th:only-of-type {\n",
              "        vertical-align: middle;\n",
              "    }\n",
              "\n",
              "    .dataframe tbody tr th {\n",
              "        vertical-align: top;\n",
              "    }\n",
              "\n",
              "    .dataframe thead th {\n",
              "        text-align: right;\n",
              "    }\n",
              "</style>\n",
              "<table border=\"1\" class=\"dataframe\">\n",
              "  <thead>\n",
              "    <tr style=\"text-align: right;\">\n",
              "      <th></th>\n",
              "      <th>House Number</th>\n",
              "      <th>Street</th>\n",
              "      <th>First Name</th>\n",
              "      <th>Surname</th>\n",
              "      <th>Age</th>\n",
              "      <th>Relationship to Head of House</th>\n",
              "      <th>Marital Status</th>\n",
              "      <th>Gender</th>\n",
              "      <th>Occupation</th>\n",
              "      <th>Infirmity</th>\n",
              "      <th>Religion</th>\n",
              "      <th>Age group</th>\n",
              "    </tr>\n",
              "  </thead>\n",
              "  <tbody>\n",
              "    <tr>\n",
              "      <th>8711</th>\n",
              "      <td>14</td>\n",
              "      <td>Spencer Avenue</td>\n",
              "      <td>Stephen</td>\n",
              "      <td>Jennings</td>\n",
              "      <td>23</td>\n",
              "      <td>Son</td>\n",
              "      <td>Single</td>\n",
              "      <td>Male</td>\n",
              "      <td>Chief Marketing Officer</td>\n",
              "      <td>None</td>\n",
              "      <td>Catholic</td>\n",
              "      <td>Adult</td>\n",
              "    </tr>\n",
              "    <tr>\n",
              "      <th>8712</th>\n",
              "      <td>14</td>\n",
              "      <td>Spencer Avenue</td>\n",
              "      <td>Leon</td>\n",
              "      <td>Jennings</td>\n",
              "      <td>17</td>\n",
              "      <td>Son</td>\n",
              "      <td>NaN</td>\n",
              "      <td>Male</td>\n",
              "      <td>Student</td>\n",
              "      <td>None</td>\n",
              "      <td>NaN</td>\n",
              "      <td>Child</td>\n",
              "    </tr>\n",
              "    <tr>\n",
              "      <th>8713</th>\n",
              "      <td>15</td>\n",
              "      <td>Spencer Avenue</td>\n",
              "      <td>Mary</td>\n",
              "      <td>Brooks</td>\n",
              "      <td>58</td>\n",
              "      <td>Head</td>\n",
              "      <td>Single</td>\n",
              "      <td>NaN</td>\n",
              "      <td>Unemployed</td>\n",
              "      <td>None</td>\n",
              "      <td>Christian</td>\n",
              "      <td>Adult</td>\n",
              "    </tr>\n",
              "    <tr>\n",
              "      <th>8714</th>\n",
              "      <td>15</td>\n",
              "      <td>Spencer Avenue</td>\n",
              "      <td>Tony</td>\n",
              "      <td>Brooks</td>\n",
              "      <td>41</td>\n",
              "      <td>Son</td>\n",
              "      <td>Single</td>\n",
              "      <td>Male</td>\n",
              "      <td>Rural practice surveyor</td>\n",
              "      <td>None</td>\n",
              "      <td>Christian</td>\n",
              "      <td>Adult</td>\n",
              "    </tr>\n",
              "  </tbody>\n",
              "</table>\n",
              "</div>\n",
              "      <button class=\"colab-df-convert\" onclick=\"convertToInteractive('df-8bb902e6-0894-47e4-84fb-c0dac346322e')\"\n",
              "              title=\"Convert this dataframe to an interactive table.\"\n",
              "              style=\"display:none;\">\n",
              "        \n",
              "  <svg xmlns=\"http://www.w3.org/2000/svg\" height=\"24px\"viewBox=\"0 0 24 24\"\n",
              "       width=\"24px\">\n",
              "    <path d=\"M0 0h24v24H0V0z\" fill=\"none\"/>\n",
              "    <path d=\"M18.56 5.44l.94 2.06.94-2.06 2.06-.94-2.06-.94-.94-2.06-.94 2.06-2.06.94zm-11 1L8.5 8.5l.94-2.06 2.06-.94-2.06-.94L8.5 2.5l-.94 2.06-2.06.94zm10 10l.94 2.06.94-2.06 2.06-.94-2.06-.94-.94-2.06-.94 2.06-2.06.94z\"/><path d=\"M17.41 7.96l-1.37-1.37c-.4-.4-.92-.59-1.43-.59-.52 0-1.04.2-1.43.59L10.3 9.45l-7.72 7.72c-.78.78-.78 2.05 0 2.83L4 21.41c.39.39.9.59 1.41.59.51 0 1.02-.2 1.41-.59l7.78-7.78 2.81-2.81c.8-.78.8-2.07 0-2.86zM5.41 20L4 18.59l7.72-7.72 1.47 1.35L5.41 20z\"/>\n",
              "  </svg>\n",
              "      </button>\n",
              "      \n",
              "  <style>\n",
              "    .colab-df-container {\n",
              "      display:flex;\n",
              "      flex-wrap:wrap;\n",
              "      gap: 12px;\n",
              "    }\n",
              "\n",
              "    .colab-df-convert {\n",
              "      background-color: #E8F0FE;\n",
              "      border: none;\n",
              "      border-radius: 50%;\n",
              "      cursor: pointer;\n",
              "      display: none;\n",
              "      fill: #1967D2;\n",
              "      height: 32px;\n",
              "      padding: 0 0 0 0;\n",
              "      width: 32px;\n",
              "    }\n",
              "\n",
              "    .colab-df-convert:hover {\n",
              "      background-color: #E2EBFA;\n",
              "      box-shadow: 0px 1px 2px rgba(60, 64, 67, 0.3), 0px 1px 3px 1px rgba(60, 64, 67, 0.15);\n",
              "      fill: #174EA6;\n",
              "    }\n",
              "\n",
              "    [theme=dark] .colab-df-convert {\n",
              "      background-color: #3B4455;\n",
              "      fill: #D2E3FC;\n",
              "    }\n",
              "\n",
              "    [theme=dark] .colab-df-convert:hover {\n",
              "      background-color: #434B5C;\n",
              "      box-shadow: 0px 1px 3px 1px rgba(0, 0, 0, 0.15);\n",
              "      filter: drop-shadow(0px 1px 2px rgba(0, 0, 0, 0.3));\n",
              "      fill: #FFFFFF;\n",
              "    }\n",
              "  </style>\n",
              "\n",
              "      <script>\n",
              "        const buttonEl =\n",
              "          document.querySelector('#df-8bb902e6-0894-47e4-84fb-c0dac346322e button.colab-df-convert');\n",
              "        buttonEl.style.display =\n",
              "          google.colab.kernel.accessAllowed ? 'block' : 'none';\n",
              "\n",
              "        async function convertToInteractive(key) {\n",
              "          const element = document.querySelector('#df-8bb902e6-0894-47e4-84fb-c0dac346322e');\n",
              "          const dataTable =\n",
              "            await google.colab.kernel.invokeFunction('convertToInteractive',\n",
              "                                                     [key], {});\n",
              "          if (!dataTable) return;\n",
              "\n",
              "          const docLinkHtml = 'Like what you see? Visit the ' +\n",
              "            '<a target=\"_blank\" href=https://colab.research.google.com/notebooks/data_table.ipynb>data table notebook</a>'\n",
              "            + ' to learn more about interactive tables.';\n",
              "          element.innerHTML = '';\n",
              "          dataTable['output_type'] = 'display_data';\n",
              "          await google.colab.output.renderOutput(dataTable, element);\n",
              "          const docLink = document.createElement('div');\n",
              "          docLink.innerHTML = docLinkHtml;\n",
              "          element.appendChild(docLink);\n",
              "        }\n",
              "      </script>\n",
              "    </div>\n",
              "  </div>\n",
              "  "
            ]
          },
          "metadata": {},
          "execution_count": 299
        }
      ]
    },
    {
      "cell_type": "code",
      "execution_count": null,
      "metadata": {
        "id": "KnrDc-1u5Szg",
        "colab": {
          "base_uri": "https://localhost:8080/"
        },
        "outputId": "ad8b706d-f57f-41f8-dc5c-4fd1a93cac9a"
      },
      "outputs": [
        {
          "output_type": "execute_result",
          "data": {
            "text/plain": [
              "array(['Married', 'None', 'Widowed', 'Single', 'Divorced'], dtype=object)"
            ]
          },
          "metadata": {},
          "execution_count": 300
        }
      ],
      "source": [
        "#replace 'S','D','M' and 'W' with the right values\n",
        "df_census['Marital Status'] = df_census['Marital Status'].replace(['S'], 'Single')\n",
        "df_census['Marital Status'] = df_census['Marital Status'].replace(['D'], 'Divorced')\n",
        "df_census['Marital Status'] = df_census['Marital Status'].replace(['M'], 'Married')\n",
        "df_census['Marital Status'] = df_census['Marital Status'].replace(['W'], 'Widowed')\n",
        "\n",
        "#replacing nan in marital status with mode value of MS\n",
        "#ms_mode = df_census['Marital Status'].mode()\n",
        "#ms_mode\n",
        "df_census[['Marital Status']] = df_census[['Marital Status']].fillna('None')\n",
        "#all the records in MS with NA have their ages below age 18, makes sense to fill the blanks with none as provided in the question \n",
        "\n",
        "#check for unique values again in marital status after replacing\n",
        "(df_census['Marital Status'].unique())"
      ]
    },
    {
      "cell_type": "markdown",
      "metadata": {
        "id": "uKJqnzvM5Szh"
      },
      "source": [
        "### Cleaning the Gender column"
      ]
    },
    {
      "cell_type": "code",
      "execution_count": null,
      "metadata": {
        "id": "pDFtbElw5Szh"
      },
      "outputs": [],
      "source": [
        "##df_census[(df_census['Occu']<18)]['Age'].value_counts() #.sort_index()"
      ]
    },
    {
      "cell_type": "code",
      "source": [
        "# Exploring the data of people with blank gender\n",
        "df_census[df_census[\"Gender\"].isnull()]"
      ],
      "metadata": {
        "colab": {
          "base_uri": "https://localhost:8080/"
        },
        "id": "mwq48y2YdvAD",
        "outputId": "af722521-e6eb-4f7c-c253-5765e5cd9d95"
      },
      "execution_count": null,
      "outputs": [
        {
          "output_type": "execute_result",
          "data": {
            "text/plain": [
              "     House Number          Street First Name Surname  Age  \\\n",
              "8713           15  Spencer Avenue       Mary  Brooks   58   \n",
              "\n",
              "     Relationship to Head of House Marital Status Gender  Occupation  \\\n",
              "8713                          Head         Single    NaN  Unemployed   \n",
              "\n",
              "     Infirmity   Religion Age group  \n",
              "8713      None  Christian     Adult  "
            ],
            "text/html": [
              "\n",
              "  <div id=\"df-dec15842-1315-45ad-ac70-5c5ab5b300af\">\n",
              "    <div class=\"colab-df-container\">\n",
              "      <div>\n",
              "<style scoped>\n",
              "    .dataframe tbody tr th:only-of-type {\n",
              "        vertical-align: middle;\n",
              "    }\n",
              "\n",
              "    .dataframe tbody tr th {\n",
              "        vertical-align: top;\n",
              "    }\n",
              "\n",
              "    .dataframe thead th {\n",
              "        text-align: right;\n",
              "    }\n",
              "</style>\n",
              "<table border=\"1\" class=\"dataframe\">\n",
              "  <thead>\n",
              "    <tr style=\"text-align: right;\">\n",
              "      <th></th>\n",
              "      <th>House Number</th>\n",
              "      <th>Street</th>\n",
              "      <th>First Name</th>\n",
              "      <th>Surname</th>\n",
              "      <th>Age</th>\n",
              "      <th>Relationship to Head of House</th>\n",
              "      <th>Marital Status</th>\n",
              "      <th>Gender</th>\n",
              "      <th>Occupation</th>\n",
              "      <th>Infirmity</th>\n",
              "      <th>Religion</th>\n",
              "      <th>Age group</th>\n",
              "    </tr>\n",
              "  </thead>\n",
              "  <tbody>\n",
              "    <tr>\n",
              "      <th>8713</th>\n",
              "      <td>15</td>\n",
              "      <td>Spencer Avenue</td>\n",
              "      <td>Mary</td>\n",
              "      <td>Brooks</td>\n",
              "      <td>58</td>\n",
              "      <td>Head</td>\n",
              "      <td>Single</td>\n",
              "      <td>NaN</td>\n",
              "      <td>Unemployed</td>\n",
              "      <td>None</td>\n",
              "      <td>Christian</td>\n",
              "      <td>Adult</td>\n",
              "    </tr>\n",
              "  </tbody>\n",
              "</table>\n",
              "</div>\n",
              "      <button class=\"colab-df-convert\" onclick=\"convertToInteractive('df-dec15842-1315-45ad-ac70-5c5ab5b300af')\"\n",
              "              title=\"Convert this dataframe to an interactive table.\"\n",
              "              style=\"display:none;\">\n",
              "        \n",
              "  <svg xmlns=\"http://www.w3.org/2000/svg\" height=\"24px\"viewBox=\"0 0 24 24\"\n",
              "       width=\"24px\">\n",
              "    <path d=\"M0 0h24v24H0V0z\" fill=\"none\"/>\n",
              "    <path d=\"M18.56 5.44l.94 2.06.94-2.06 2.06-.94-2.06-.94-.94-2.06-.94 2.06-2.06.94zm-11 1L8.5 8.5l.94-2.06 2.06-.94-2.06-.94L8.5 2.5l-.94 2.06-2.06.94zm10 10l.94 2.06.94-2.06 2.06-.94-2.06-.94-.94-2.06-.94 2.06-2.06.94z\"/><path d=\"M17.41 7.96l-1.37-1.37c-.4-.4-.92-.59-1.43-.59-.52 0-1.04.2-1.43.59L10.3 9.45l-7.72 7.72c-.78.78-.78 2.05 0 2.83L4 21.41c.39.39.9.59 1.41.59.51 0 1.02-.2 1.41-.59l7.78-7.78 2.81-2.81c.8-.78.8-2.07 0-2.86zM5.41 20L4 18.59l7.72-7.72 1.47 1.35L5.41 20z\"/>\n",
              "  </svg>\n",
              "      </button>\n",
              "      \n",
              "  <style>\n",
              "    .colab-df-container {\n",
              "      display:flex;\n",
              "      flex-wrap:wrap;\n",
              "      gap: 12px;\n",
              "    }\n",
              "\n",
              "    .colab-df-convert {\n",
              "      background-color: #E8F0FE;\n",
              "      border: none;\n",
              "      border-radius: 50%;\n",
              "      cursor: pointer;\n",
              "      display: none;\n",
              "      fill: #1967D2;\n",
              "      height: 32px;\n",
              "      padding: 0 0 0 0;\n",
              "      width: 32px;\n",
              "    }\n",
              "\n",
              "    .colab-df-convert:hover {\n",
              "      background-color: #E2EBFA;\n",
              "      box-shadow: 0px 1px 2px rgba(60, 64, 67, 0.3), 0px 1px 3px 1px rgba(60, 64, 67, 0.15);\n",
              "      fill: #174EA6;\n",
              "    }\n",
              "\n",
              "    [theme=dark] .colab-df-convert {\n",
              "      background-color: #3B4455;\n",
              "      fill: #D2E3FC;\n",
              "    }\n",
              "\n",
              "    [theme=dark] .colab-df-convert:hover {\n",
              "      background-color: #434B5C;\n",
              "      box-shadow: 0px 1px 3px 1px rgba(0, 0, 0, 0.15);\n",
              "      filter: drop-shadow(0px 1px 2px rgba(0, 0, 0, 0.3));\n",
              "      fill: #FFFFFF;\n",
              "    }\n",
              "  </style>\n",
              "\n",
              "      <script>\n",
              "        const buttonEl =\n",
              "          document.querySelector('#df-dec15842-1315-45ad-ac70-5c5ab5b300af button.colab-df-convert');\n",
              "        buttonEl.style.display =\n",
              "          google.colab.kernel.accessAllowed ? 'block' : 'none';\n",
              "\n",
              "        async function convertToInteractive(key) {\n",
              "          const element = document.querySelector('#df-dec15842-1315-45ad-ac70-5c5ab5b300af');\n",
              "          const dataTable =\n",
              "            await google.colab.kernel.invokeFunction('convertToInteractive',\n",
              "                                                     [key], {});\n",
              "          if (!dataTable) return;\n",
              "\n",
              "          const docLinkHtml = 'Like what you see? Visit the ' +\n",
              "            '<a target=\"_blank\" href=https://colab.research.google.com/notebooks/data_table.ipynb>data table notebook</a>'\n",
              "            + ' to learn more about interactive tables.';\n",
              "          element.innerHTML = '';\n",
              "          dataTable['output_type'] = 'display_data';\n",
              "          await google.colab.output.renderOutput(dataTable, element);\n",
              "          const docLink = document.createElement('div');\n",
              "          docLink.innerHTML = docLinkHtml;\n",
              "          element.appendChild(docLink);\n",
              "        }\n",
              "      </script>\n",
              "    </div>\n",
              "  </div>\n",
              "  "
            ]
          },
          "metadata": {},
          "execution_count": 302
        }
      ]
    },
    {
      "cell_type": "code",
      "source": [
        "df_census[8712:8716]"
      ],
      "metadata": {
        "colab": {
          "base_uri": "https://localhost:8080/"
        },
        "id": "PE_YGgyzd014",
        "outputId": "e272a610-e164-4c91-e459-57584b685980"
      },
      "execution_count": null,
      "outputs": [
        {
          "output_type": "execute_result",
          "data": {
            "text/plain": [
              "     House Number          Street First Name   Surname  Age  \\\n",
              "8712           14  Spencer Avenue       Leon  Jennings   17   \n",
              "8713           15  Spencer Avenue       Mary    Brooks   58   \n",
              "8714           15  Spencer Avenue       Tony    Brooks   41   \n",
              "8715           16  Spencer Avenue      Jemma  Crawford   61   \n",
              "\n",
              "     Relationship to Head of House Marital Status  Gender  \\\n",
              "8712                           Son           None    Male   \n",
              "8713                          Head         Single     NaN   \n",
              "8714                           Son         Single    Male   \n",
              "8715                          Head        Married  Female   \n",
              "\n",
              "                   Occupation Infirmity   Religion Age group  \n",
              "8712                  Student      None        NaN     Child  \n",
              "8713               Unemployed      None  Christian     Adult  \n",
              "8714  Rural practice surveyor      None  Christian     Adult  \n",
              "8715         Financial trader      None       None     Adult  "
            ],
            "text/html": [
              "\n",
              "  <div id=\"df-390ea2ab-cf73-4871-ac62-e3ac1c1c790c\">\n",
              "    <div class=\"colab-df-container\">\n",
              "      <div>\n",
              "<style scoped>\n",
              "    .dataframe tbody tr th:only-of-type {\n",
              "        vertical-align: middle;\n",
              "    }\n",
              "\n",
              "    .dataframe tbody tr th {\n",
              "        vertical-align: top;\n",
              "    }\n",
              "\n",
              "    .dataframe thead th {\n",
              "        text-align: right;\n",
              "    }\n",
              "</style>\n",
              "<table border=\"1\" class=\"dataframe\">\n",
              "  <thead>\n",
              "    <tr style=\"text-align: right;\">\n",
              "      <th></th>\n",
              "      <th>House Number</th>\n",
              "      <th>Street</th>\n",
              "      <th>First Name</th>\n",
              "      <th>Surname</th>\n",
              "      <th>Age</th>\n",
              "      <th>Relationship to Head of House</th>\n",
              "      <th>Marital Status</th>\n",
              "      <th>Gender</th>\n",
              "      <th>Occupation</th>\n",
              "      <th>Infirmity</th>\n",
              "      <th>Religion</th>\n",
              "      <th>Age group</th>\n",
              "    </tr>\n",
              "  </thead>\n",
              "  <tbody>\n",
              "    <tr>\n",
              "      <th>8712</th>\n",
              "      <td>14</td>\n",
              "      <td>Spencer Avenue</td>\n",
              "      <td>Leon</td>\n",
              "      <td>Jennings</td>\n",
              "      <td>17</td>\n",
              "      <td>Son</td>\n",
              "      <td>None</td>\n",
              "      <td>Male</td>\n",
              "      <td>Student</td>\n",
              "      <td>None</td>\n",
              "      <td>NaN</td>\n",
              "      <td>Child</td>\n",
              "    </tr>\n",
              "    <tr>\n",
              "      <th>8713</th>\n",
              "      <td>15</td>\n",
              "      <td>Spencer Avenue</td>\n",
              "      <td>Mary</td>\n",
              "      <td>Brooks</td>\n",
              "      <td>58</td>\n",
              "      <td>Head</td>\n",
              "      <td>Single</td>\n",
              "      <td>NaN</td>\n",
              "      <td>Unemployed</td>\n",
              "      <td>None</td>\n",
              "      <td>Christian</td>\n",
              "      <td>Adult</td>\n",
              "    </tr>\n",
              "    <tr>\n",
              "      <th>8714</th>\n",
              "      <td>15</td>\n",
              "      <td>Spencer Avenue</td>\n",
              "      <td>Tony</td>\n",
              "      <td>Brooks</td>\n",
              "      <td>41</td>\n",
              "      <td>Son</td>\n",
              "      <td>Single</td>\n",
              "      <td>Male</td>\n",
              "      <td>Rural practice surveyor</td>\n",
              "      <td>None</td>\n",
              "      <td>Christian</td>\n",
              "      <td>Adult</td>\n",
              "    </tr>\n",
              "    <tr>\n",
              "      <th>8715</th>\n",
              "      <td>16</td>\n",
              "      <td>Spencer Avenue</td>\n",
              "      <td>Jemma</td>\n",
              "      <td>Crawford</td>\n",
              "      <td>61</td>\n",
              "      <td>Head</td>\n",
              "      <td>Married</td>\n",
              "      <td>Female</td>\n",
              "      <td>Financial trader</td>\n",
              "      <td>None</td>\n",
              "      <td>None</td>\n",
              "      <td>Adult</td>\n",
              "    </tr>\n",
              "  </tbody>\n",
              "</table>\n",
              "</div>\n",
              "      <button class=\"colab-df-convert\" onclick=\"convertToInteractive('df-390ea2ab-cf73-4871-ac62-e3ac1c1c790c')\"\n",
              "              title=\"Convert this dataframe to an interactive table.\"\n",
              "              style=\"display:none;\">\n",
              "        \n",
              "  <svg xmlns=\"http://www.w3.org/2000/svg\" height=\"24px\"viewBox=\"0 0 24 24\"\n",
              "       width=\"24px\">\n",
              "    <path d=\"M0 0h24v24H0V0z\" fill=\"none\"/>\n",
              "    <path d=\"M18.56 5.44l.94 2.06.94-2.06 2.06-.94-2.06-.94-.94-2.06-.94 2.06-2.06.94zm-11 1L8.5 8.5l.94-2.06 2.06-.94-2.06-.94L8.5 2.5l-.94 2.06-2.06.94zm10 10l.94 2.06.94-2.06 2.06-.94-2.06-.94-.94-2.06-.94 2.06-2.06.94z\"/><path d=\"M17.41 7.96l-1.37-1.37c-.4-.4-.92-.59-1.43-.59-.52 0-1.04.2-1.43.59L10.3 9.45l-7.72 7.72c-.78.78-.78 2.05 0 2.83L4 21.41c.39.39.9.59 1.41.59.51 0 1.02-.2 1.41-.59l7.78-7.78 2.81-2.81c.8-.78.8-2.07 0-2.86zM5.41 20L4 18.59l7.72-7.72 1.47 1.35L5.41 20z\"/>\n",
              "  </svg>\n",
              "      </button>\n",
              "      \n",
              "  <style>\n",
              "    .colab-df-container {\n",
              "      display:flex;\n",
              "      flex-wrap:wrap;\n",
              "      gap: 12px;\n",
              "    }\n",
              "\n",
              "    .colab-df-convert {\n",
              "      background-color: #E8F0FE;\n",
              "      border: none;\n",
              "      border-radius: 50%;\n",
              "      cursor: pointer;\n",
              "      display: none;\n",
              "      fill: #1967D2;\n",
              "      height: 32px;\n",
              "      padding: 0 0 0 0;\n",
              "      width: 32px;\n",
              "    }\n",
              "\n",
              "    .colab-df-convert:hover {\n",
              "      background-color: #E2EBFA;\n",
              "      box-shadow: 0px 1px 2px rgba(60, 64, 67, 0.3), 0px 1px 3px 1px rgba(60, 64, 67, 0.15);\n",
              "      fill: #174EA6;\n",
              "    }\n",
              "\n",
              "    [theme=dark] .colab-df-convert {\n",
              "      background-color: #3B4455;\n",
              "      fill: #D2E3FC;\n",
              "    }\n",
              "\n",
              "    [theme=dark] .colab-df-convert:hover {\n",
              "      background-color: #434B5C;\n",
              "      box-shadow: 0px 1px 3px 1px rgba(0, 0, 0, 0.15);\n",
              "      filter: drop-shadow(0px 1px 2px rgba(0, 0, 0, 0.3));\n",
              "      fill: #FFFFFF;\n",
              "    }\n",
              "  </style>\n",
              "\n",
              "      <script>\n",
              "        const buttonEl =\n",
              "          document.querySelector('#df-390ea2ab-cf73-4871-ac62-e3ac1c1c790c button.colab-df-convert');\n",
              "        buttonEl.style.display =\n",
              "          google.colab.kernel.accessAllowed ? 'block' : 'none';\n",
              "\n",
              "        async function convertToInteractive(key) {\n",
              "          const element = document.querySelector('#df-390ea2ab-cf73-4871-ac62-e3ac1c1c790c');\n",
              "          const dataTable =\n",
              "            await google.colab.kernel.invokeFunction('convertToInteractive',\n",
              "                                                     [key], {});\n",
              "          if (!dataTable) return;\n",
              "\n",
              "          const docLinkHtml = 'Like what you see? Visit the ' +\n",
              "            '<a target=\"_blank\" href=https://colab.research.google.com/notebooks/data_table.ipynb>data table notebook</a>'\n",
              "            + ' to learn more about interactive tables.';\n",
              "          element.innerHTML = '';\n",
              "          dataTable['output_type'] = 'display_data';\n",
              "          await google.colab.output.renderOutput(dataTable, element);\n",
              "          const docLink = document.createElement('div');\n",
              "          docLink.innerHTML = docLinkHtml;\n",
              "          element.appendChild(docLink);\n",
              "        }\n",
              "      </script>\n",
              "    </div>\n",
              "  </div>\n",
              "  "
            ]
          },
          "metadata": {},
          "execution_count": 303
        }
      ]
    },
    {
      "cell_type": "code",
      "execution_count": null,
      "metadata": {
        "id": "nBktPSQd5Szh",
        "colab": {
          "base_uri": "https://localhost:8080/"
        },
        "outputId": "35468a11-7f5e-4667-db1c-34381bd5b799"
      },
      "outputs": [
        {
          "output_type": "stream",
          "name": "stdout",
          "text": [
            "['Female' 'Male' 'M' 'male' 'F' 'female' 'f' 'm' nan]\n"
          ]
        }
      ],
      "source": [
        "#check for unique values\n",
        "print(df_census['Gender'].unique())"
      ]
    },
    {
      "cell_type": "code",
      "execution_count": null,
      "metadata": {
        "id": "-Fwp81xg5Szh"
      },
      "outputs": [],
      "source": [
        "#replace 'S','D','M' and 'W' with the right values\n",
        "df_census['Gender'] = df_census['Gender'].replace(['M'], 'Male')\n",
        "df_census['Gender'] = df_census['Gender'].replace(['male'], 'Male')\n",
        "df_census['Gender'] = df_census['Gender'].replace(['F'], 'Female')\n",
        "df_census['Gender'] = df_census['Gender'].replace(['female'], 'Female')\n",
        "df_census['Gender'] = df_census['Gender'].replace(['f'], 'Female')\n",
        "df_census['Gender'] = df_census['Gender'].replace(['m'], 'Male')"
      ]
    },
    {
      "cell_type": "code",
      "source": [
        "#replacing nan with mode\n",
        "#why: first name is Mary which indicates as female\n",
        "#why: the mode for gender is also female. Replaced using the mode\n",
        "gender_mode = df_census['Gender'].mode()\n",
        "gender_mode\n",
        "\n",
        "df_census['Gender'] = df_census['Gender'].fillna(df_census['Gender'].mode()[0])\n",
        "\n",
        "print(df_census['Gender'].unique())"
      ],
      "metadata": {
        "colab": {
          "base_uri": "https://localhost:8080/"
        },
        "id": "VF353uFue4PH",
        "outputId": "c6ea74c1-057b-44c4-81bf-cd0c7c3bc1f9"
      },
      "execution_count": null,
      "outputs": [
        {
          "output_type": "stream",
          "name": "stdout",
          "text": [
            "['Female' 'Male']\n"
          ]
        }
      ]
    },
    {
      "cell_type": "markdown",
      "metadata": {
        "id": "nSIZRJ0G5Szi"
      },
      "source": [
        "### Cleaning Occupation Column"
      ]
    },
    {
      "cell_type": "code",
      "execution_count": null,
      "metadata": {
        "id": "ot0KFt6w5Szi",
        "colab": {
          "base_uri": "https://localhost:8080/"
        },
        "outputId": "08f7b369-3617-4de9-a97f-9051cc03347d"
      },
      "outputs": [
        {
          "output_type": "stream",
          "name": "stdout",
          "text": [
            "['Microbiologist' 'Homeopath' 'Student' ... 'Retired Contractor'\n",
            " 'Retired Emergency planning/management officer'\n",
            " 'Retired Psychologist, prison and probation services']\n"
          ]
        }
      ],
      "source": [
        "#check for unique values\n",
        "print(df_census['Occupation'].unique())\n",
        "\n",
        "(df_census['Occupation'].value_counts())\n",
        "\n",
        "#replace the missing value with mode\n",
        "occupation_mode = df_census['Occupation'].mode()\n",
        "occupation_mode\n",
        "df_census['Occupation'] = df_census['Occupation'].fillna(df_census['Occupation'].mode()[0])"
      ]
    },
    {
      "cell_type": "code",
      "execution_count": null,
      "metadata": {
        "id": "-yLd7VGJ5Szi"
      },
      "outputs": [],
      "source": [
        "#recatogrizing occupation\n",
        "\n",
        "#retirement condition\n",
        "retirement_cond = df_census['Occupation'].str.lower().str.contains('retired')\n",
        "\n",
        "#either a student of any kind, unemployed OR a child ['student | unemployed | child']\n",
        "unemp_cond = (df_census['Occupation'].str.lower().str.contains('student|unemployed')) | (df_census['Occupation'].str.lower() == 'child')\n",
        "\n",
        "df_census.loc[retirement_cond, 'Employment Status'] = 'Retired'\n",
        "df_census.loc[(~retirement_cond)  & (unemp_cond), 'Employment Status'] = 'Unemployed'\n",
        "df_census.loc[(~retirement_cond)  & (~unemp_cond), 'Employment Status'] = 'Employed'\n"
      ]
    },
    {
      "cell_type": "markdown",
      "metadata": {
        "id": "hfmV4Ai25Szi"
      },
      "source": [
        "#### Infirmity"
      ]
    },
    {
      "cell_type": "code",
      "execution_count": null,
      "metadata": {
        "id": "OASSf5VE5Szi",
        "colab": {
          "base_uri": "https://localhost:8080/"
        },
        "outputId": "b0f9f8f4-d302-4106-dd12-334de2417611"
      },
      "outputs": [
        {
          "output_type": "execute_result",
          "data": {
            "text/plain": [
              "array(['None', 'Mental Disability', 'Physical Disability',\n",
              "       'Unknown Infection', nan, 'Blind', 'Deaf', 'Disabled'],\n",
              "      dtype=object)"
            ]
          },
          "metadata": {},
          "execution_count": 309
        }
      ],
      "source": [
        "#check for unique values for infirmity\n",
        "(df_census['Infirmity'].unique())\n",
        "#(df_census['Infirmity'].value_counts())"
      ]
    },
    {
      "cell_type": "code",
      "source": [
        "# Exploring the data of people with blank infrimity status\n",
        "df_census[df_census[\"Infirmity\"].isnull()]"
      ],
      "metadata": {
        "colab": {
          "base_uri": "https://localhost:8080/",
          "height": 633
        },
        "id": "UjgsIU5bjNIb",
        "outputId": "2535d3bc-136f-4be7-f148-eada9485e819"
      },
      "execution_count": null,
      "outputs": [
        {
          "output_type": "execute_result",
          "data": {
            "text/plain": [
              "     House Number          Street First Name       Surname  Age  \\\n",
              "559            19  Bumblebee Lane        Guy        Wallis   43   \n",
              "1088           19   Salmon Street        Kim         Gould   15   \n",
              "1468           28   Keeper Street   Benjamin          Hale    3   \n",
              "3383           25  Tamarisk Pines     Pamela       Knowles   62   \n",
              "4376           19    Sutton Drive      Jemma      Johnston   44   \n",
              "5756           16   Elyarch Drive  Frederick       Gilbert   75   \n",
              "6355          145    White Branch      Paige         Price    6   \n",
              "6411          179    White Branch    Patrick     Greenwood   34   \n",
              "6900            2       Gray Ways      Donna      Turnbull    7   \n",
              "7126           22    Anvil Street     Duncan        Oliver   25   \n",
              "7327           50      Adams Mews       Jill      Robinson   88   \n",
              "8945           20     Hughes Lane       Katy         Evans   40   \n",
              "8999           25     Hughes Lane     Graham       Roberts   24   \n",
              "9028           30     Hughes Lane      Keith         Yates   45   \n",
              "9088           39     Hughes Lane       Josh  Oliver-Davis   17   \n",
              "\n",
              "     Relationship to Head of House Marital Status  Gender  \\\n",
              "559                        Husband        Married    Male   \n",
              "1088                      Daughter           None  Female   \n",
              "1468                           Son           None    Male   \n",
              "3383                        Lodger         Single  Female   \n",
              "4376                          Head         Single  Female   \n",
              "5756                       Husband        Married    Male   \n",
              "6355                      Daughter           None  Female   \n",
              "6411                          Head         Single    Male   \n",
              "6900                      Daughter           None  Female   \n",
              "7126                           Son         Single    Male   \n",
              "7327                          Head        Widowed  Female   \n",
              "8945                      Daughter         Single  Female   \n",
              "8999                           Son         Single    Male   \n",
              "9028                        Lodger         Single    Male   \n",
              "9088                           Son           None    Male   \n",
              "\n",
              "                          Occupation Infirmity   Religion Age group  \\\n",
              "559             Licensed conveyancer       NaN   Catholic     Adult   \n",
              "1088                         Student       NaN        NaN     Child   \n",
              "1468                           Child       NaN        NaN     Child   \n",
              "3383    Garment/textile technologist       NaN  Christian     Adult   \n",
              "4376                 Ophthalmologist       NaN       None     Adult   \n",
              "5756              Retired Oncologist       NaN       None    Senior   \n",
              "6355                         Student       NaN        NaN     Child   \n",
              "6411                   Art therapist       NaN       None     Adult   \n",
              "6900                         Student       NaN        NaN     Child   \n",
              "7126          Occupational therapist       NaN  Christian     Adult   \n",
              "7327    Retired Financial controller       NaN  Christian    Senior   \n",
              "8945        Magazine features editor       NaN       None     Adult   \n",
              "8999          Conservator, furniture       NaN  Christian     Adult   \n",
              "9028  Television/film/video producer       NaN       None     Adult   \n",
              "9088                         Student       NaN        NaN     Child   \n",
              "\n",
              "     Employment Status  \n",
              "559           Employed  \n",
              "1088        Unemployed  \n",
              "1468        Unemployed  \n",
              "3383          Employed  \n",
              "4376          Employed  \n",
              "5756           Retired  \n",
              "6355        Unemployed  \n",
              "6411          Employed  \n",
              "6900        Unemployed  \n",
              "7126          Employed  \n",
              "7327           Retired  \n",
              "8945          Employed  \n",
              "8999          Employed  \n",
              "9028          Employed  \n",
              "9088        Unemployed  "
            ],
            "text/html": [
              "\n",
              "  <div id=\"df-09008de8-c775-40a7-b182-ee1cf1dde05f\">\n",
              "    <div class=\"colab-df-container\">\n",
              "      <div>\n",
              "<style scoped>\n",
              "    .dataframe tbody tr th:only-of-type {\n",
              "        vertical-align: middle;\n",
              "    }\n",
              "\n",
              "    .dataframe tbody tr th {\n",
              "        vertical-align: top;\n",
              "    }\n",
              "\n",
              "    .dataframe thead th {\n",
              "        text-align: right;\n",
              "    }\n",
              "</style>\n",
              "<table border=\"1\" class=\"dataframe\">\n",
              "  <thead>\n",
              "    <tr style=\"text-align: right;\">\n",
              "      <th></th>\n",
              "      <th>House Number</th>\n",
              "      <th>Street</th>\n",
              "      <th>First Name</th>\n",
              "      <th>Surname</th>\n",
              "      <th>Age</th>\n",
              "      <th>Relationship to Head of House</th>\n",
              "      <th>Marital Status</th>\n",
              "      <th>Gender</th>\n",
              "      <th>Occupation</th>\n",
              "      <th>Infirmity</th>\n",
              "      <th>Religion</th>\n",
              "      <th>Age group</th>\n",
              "      <th>Employment Status</th>\n",
              "    </tr>\n",
              "  </thead>\n",
              "  <tbody>\n",
              "    <tr>\n",
              "      <th>559</th>\n",
              "      <td>19</td>\n",
              "      <td>Bumblebee Lane</td>\n",
              "      <td>Guy</td>\n",
              "      <td>Wallis</td>\n",
              "      <td>43</td>\n",
              "      <td>Husband</td>\n",
              "      <td>Married</td>\n",
              "      <td>Male</td>\n",
              "      <td>Licensed conveyancer</td>\n",
              "      <td>NaN</td>\n",
              "      <td>Catholic</td>\n",
              "      <td>Adult</td>\n",
              "      <td>Employed</td>\n",
              "    </tr>\n",
              "    <tr>\n",
              "      <th>1088</th>\n",
              "      <td>19</td>\n",
              "      <td>Salmon Street</td>\n",
              "      <td>Kim</td>\n",
              "      <td>Gould</td>\n",
              "      <td>15</td>\n",
              "      <td>Daughter</td>\n",
              "      <td>None</td>\n",
              "      <td>Female</td>\n",
              "      <td>Student</td>\n",
              "      <td>NaN</td>\n",
              "      <td>NaN</td>\n",
              "      <td>Child</td>\n",
              "      <td>Unemployed</td>\n",
              "    </tr>\n",
              "    <tr>\n",
              "      <th>1468</th>\n",
              "      <td>28</td>\n",
              "      <td>Keeper Street</td>\n",
              "      <td>Benjamin</td>\n",
              "      <td>Hale</td>\n",
              "      <td>3</td>\n",
              "      <td>Son</td>\n",
              "      <td>None</td>\n",
              "      <td>Male</td>\n",
              "      <td>Child</td>\n",
              "      <td>NaN</td>\n",
              "      <td>NaN</td>\n",
              "      <td>Child</td>\n",
              "      <td>Unemployed</td>\n",
              "    </tr>\n",
              "    <tr>\n",
              "      <th>3383</th>\n",
              "      <td>25</td>\n",
              "      <td>Tamarisk Pines</td>\n",
              "      <td>Pamela</td>\n",
              "      <td>Knowles</td>\n",
              "      <td>62</td>\n",
              "      <td>Lodger</td>\n",
              "      <td>Single</td>\n",
              "      <td>Female</td>\n",
              "      <td>Garment/textile technologist</td>\n",
              "      <td>NaN</td>\n",
              "      <td>Christian</td>\n",
              "      <td>Adult</td>\n",
              "      <td>Employed</td>\n",
              "    </tr>\n",
              "    <tr>\n",
              "      <th>4376</th>\n",
              "      <td>19</td>\n",
              "      <td>Sutton Drive</td>\n",
              "      <td>Jemma</td>\n",
              "      <td>Johnston</td>\n",
              "      <td>44</td>\n",
              "      <td>Head</td>\n",
              "      <td>Single</td>\n",
              "      <td>Female</td>\n",
              "      <td>Ophthalmologist</td>\n",
              "      <td>NaN</td>\n",
              "      <td>None</td>\n",
              "      <td>Adult</td>\n",
              "      <td>Employed</td>\n",
              "    </tr>\n",
              "    <tr>\n",
              "      <th>5756</th>\n",
              "      <td>16</td>\n",
              "      <td>Elyarch Drive</td>\n",
              "      <td>Frederick</td>\n",
              "      <td>Gilbert</td>\n",
              "      <td>75</td>\n",
              "      <td>Husband</td>\n",
              "      <td>Married</td>\n",
              "      <td>Male</td>\n",
              "      <td>Retired Oncologist</td>\n",
              "      <td>NaN</td>\n",
              "      <td>None</td>\n",
              "      <td>Senior</td>\n",
              "      <td>Retired</td>\n",
              "    </tr>\n",
              "    <tr>\n",
              "      <th>6355</th>\n",
              "      <td>145</td>\n",
              "      <td>White Branch</td>\n",
              "      <td>Paige</td>\n",
              "      <td>Price</td>\n",
              "      <td>6</td>\n",
              "      <td>Daughter</td>\n",
              "      <td>None</td>\n",
              "      <td>Female</td>\n",
              "      <td>Student</td>\n",
              "      <td>NaN</td>\n",
              "      <td>NaN</td>\n",
              "      <td>Child</td>\n",
              "      <td>Unemployed</td>\n",
              "    </tr>\n",
              "    <tr>\n",
              "      <th>6411</th>\n",
              "      <td>179</td>\n",
              "      <td>White Branch</td>\n",
              "      <td>Patrick</td>\n",
              "      <td>Greenwood</td>\n",
              "      <td>34</td>\n",
              "      <td>Head</td>\n",
              "      <td>Single</td>\n",
              "      <td>Male</td>\n",
              "      <td>Art therapist</td>\n",
              "      <td>NaN</td>\n",
              "      <td>None</td>\n",
              "      <td>Adult</td>\n",
              "      <td>Employed</td>\n",
              "    </tr>\n",
              "    <tr>\n",
              "      <th>6900</th>\n",
              "      <td>2</td>\n",
              "      <td>Gray Ways</td>\n",
              "      <td>Donna</td>\n",
              "      <td>Turnbull</td>\n",
              "      <td>7</td>\n",
              "      <td>Daughter</td>\n",
              "      <td>None</td>\n",
              "      <td>Female</td>\n",
              "      <td>Student</td>\n",
              "      <td>NaN</td>\n",
              "      <td>NaN</td>\n",
              "      <td>Child</td>\n",
              "      <td>Unemployed</td>\n",
              "    </tr>\n",
              "    <tr>\n",
              "      <th>7126</th>\n",
              "      <td>22</td>\n",
              "      <td>Anvil Street</td>\n",
              "      <td>Duncan</td>\n",
              "      <td>Oliver</td>\n",
              "      <td>25</td>\n",
              "      <td>Son</td>\n",
              "      <td>Single</td>\n",
              "      <td>Male</td>\n",
              "      <td>Occupational therapist</td>\n",
              "      <td>NaN</td>\n",
              "      <td>Christian</td>\n",
              "      <td>Adult</td>\n",
              "      <td>Employed</td>\n",
              "    </tr>\n",
              "    <tr>\n",
              "      <th>7327</th>\n",
              "      <td>50</td>\n",
              "      <td>Adams Mews</td>\n",
              "      <td>Jill</td>\n",
              "      <td>Robinson</td>\n",
              "      <td>88</td>\n",
              "      <td>Head</td>\n",
              "      <td>Widowed</td>\n",
              "      <td>Female</td>\n",
              "      <td>Retired Financial controller</td>\n",
              "      <td>NaN</td>\n",
              "      <td>Christian</td>\n",
              "      <td>Senior</td>\n",
              "      <td>Retired</td>\n",
              "    </tr>\n",
              "    <tr>\n",
              "      <th>8945</th>\n",
              "      <td>20</td>\n",
              "      <td>Hughes Lane</td>\n",
              "      <td>Katy</td>\n",
              "      <td>Evans</td>\n",
              "      <td>40</td>\n",
              "      <td>Daughter</td>\n",
              "      <td>Single</td>\n",
              "      <td>Female</td>\n",
              "      <td>Magazine features editor</td>\n",
              "      <td>NaN</td>\n",
              "      <td>None</td>\n",
              "      <td>Adult</td>\n",
              "      <td>Employed</td>\n",
              "    </tr>\n",
              "    <tr>\n",
              "      <th>8999</th>\n",
              "      <td>25</td>\n",
              "      <td>Hughes Lane</td>\n",
              "      <td>Graham</td>\n",
              "      <td>Roberts</td>\n",
              "      <td>24</td>\n",
              "      <td>Son</td>\n",
              "      <td>Single</td>\n",
              "      <td>Male</td>\n",
              "      <td>Conservator, furniture</td>\n",
              "      <td>NaN</td>\n",
              "      <td>Christian</td>\n",
              "      <td>Adult</td>\n",
              "      <td>Employed</td>\n",
              "    </tr>\n",
              "    <tr>\n",
              "      <th>9028</th>\n",
              "      <td>30</td>\n",
              "      <td>Hughes Lane</td>\n",
              "      <td>Keith</td>\n",
              "      <td>Yates</td>\n",
              "      <td>45</td>\n",
              "      <td>Lodger</td>\n",
              "      <td>Single</td>\n",
              "      <td>Male</td>\n",
              "      <td>Television/film/video producer</td>\n",
              "      <td>NaN</td>\n",
              "      <td>None</td>\n",
              "      <td>Adult</td>\n",
              "      <td>Employed</td>\n",
              "    </tr>\n",
              "    <tr>\n",
              "      <th>9088</th>\n",
              "      <td>39</td>\n",
              "      <td>Hughes Lane</td>\n",
              "      <td>Josh</td>\n",
              "      <td>Oliver-Davis</td>\n",
              "      <td>17</td>\n",
              "      <td>Son</td>\n",
              "      <td>None</td>\n",
              "      <td>Male</td>\n",
              "      <td>Student</td>\n",
              "      <td>NaN</td>\n",
              "      <td>NaN</td>\n",
              "      <td>Child</td>\n",
              "      <td>Unemployed</td>\n",
              "    </tr>\n",
              "  </tbody>\n",
              "</table>\n",
              "</div>\n",
              "      <button class=\"colab-df-convert\" onclick=\"convertToInteractive('df-09008de8-c775-40a7-b182-ee1cf1dde05f')\"\n",
              "              title=\"Convert this dataframe to an interactive table.\"\n",
              "              style=\"display:none;\">\n",
              "        \n",
              "  <svg xmlns=\"http://www.w3.org/2000/svg\" height=\"24px\"viewBox=\"0 0 24 24\"\n",
              "       width=\"24px\">\n",
              "    <path d=\"M0 0h24v24H0V0z\" fill=\"none\"/>\n",
              "    <path d=\"M18.56 5.44l.94 2.06.94-2.06 2.06-.94-2.06-.94-.94-2.06-.94 2.06-2.06.94zm-11 1L8.5 8.5l.94-2.06 2.06-.94-2.06-.94L8.5 2.5l-.94 2.06-2.06.94zm10 10l.94 2.06.94-2.06 2.06-.94-2.06-.94-.94-2.06-.94 2.06-2.06.94z\"/><path d=\"M17.41 7.96l-1.37-1.37c-.4-.4-.92-.59-1.43-.59-.52 0-1.04.2-1.43.59L10.3 9.45l-7.72 7.72c-.78.78-.78 2.05 0 2.83L4 21.41c.39.39.9.59 1.41.59.51 0 1.02-.2 1.41-.59l7.78-7.78 2.81-2.81c.8-.78.8-2.07 0-2.86zM5.41 20L4 18.59l7.72-7.72 1.47 1.35L5.41 20z\"/>\n",
              "  </svg>\n",
              "      </button>\n",
              "      \n",
              "  <style>\n",
              "    .colab-df-container {\n",
              "      display:flex;\n",
              "      flex-wrap:wrap;\n",
              "      gap: 12px;\n",
              "    }\n",
              "\n",
              "    .colab-df-convert {\n",
              "      background-color: #E8F0FE;\n",
              "      border: none;\n",
              "      border-radius: 50%;\n",
              "      cursor: pointer;\n",
              "      display: none;\n",
              "      fill: #1967D2;\n",
              "      height: 32px;\n",
              "      padding: 0 0 0 0;\n",
              "      width: 32px;\n",
              "    }\n",
              "\n",
              "    .colab-df-convert:hover {\n",
              "      background-color: #E2EBFA;\n",
              "      box-shadow: 0px 1px 2px rgba(60, 64, 67, 0.3), 0px 1px 3px 1px rgba(60, 64, 67, 0.15);\n",
              "      fill: #174EA6;\n",
              "    }\n",
              "\n",
              "    [theme=dark] .colab-df-convert {\n",
              "      background-color: #3B4455;\n",
              "      fill: #D2E3FC;\n",
              "    }\n",
              "\n",
              "    [theme=dark] .colab-df-convert:hover {\n",
              "      background-color: #434B5C;\n",
              "      box-shadow: 0px 1px 3px 1px rgba(0, 0, 0, 0.15);\n",
              "      filter: drop-shadow(0px 1px 2px rgba(0, 0, 0, 0.3));\n",
              "      fill: #FFFFFF;\n",
              "    }\n",
              "  </style>\n",
              "\n",
              "      <script>\n",
              "        const buttonEl =\n",
              "          document.querySelector('#df-09008de8-c775-40a7-b182-ee1cf1dde05f button.colab-df-convert');\n",
              "        buttonEl.style.display =\n",
              "          google.colab.kernel.accessAllowed ? 'block' : 'none';\n",
              "\n",
              "        async function convertToInteractive(key) {\n",
              "          const element = document.querySelector('#df-09008de8-c775-40a7-b182-ee1cf1dde05f');\n",
              "          const dataTable =\n",
              "            await google.colab.kernel.invokeFunction('convertToInteractive',\n",
              "                                                     [key], {});\n",
              "          if (!dataTable) return;\n",
              "\n",
              "          const docLinkHtml = 'Like what you see? Visit the ' +\n",
              "            '<a target=\"_blank\" href=https://colab.research.google.com/notebooks/data_table.ipynb>data table notebook</a>'\n",
              "            + ' to learn more about interactive tables.';\n",
              "          element.innerHTML = '';\n",
              "          dataTable['output_type'] = 'display_data';\n",
              "          await google.colab.output.renderOutput(dataTable, element);\n",
              "          const docLink = document.createElement('div');\n",
              "          docLink.innerHTML = docLinkHtml;\n",
              "          element.appendChild(docLink);\n",
              "        }\n",
              "      </script>\n",
              "    </div>\n",
              "  </div>\n",
              "  "
            ]
          },
          "metadata": {},
          "execution_count": 310
        }
      ]
    },
    {
      "cell_type": "code",
      "execution_count": null,
      "metadata": {
        "id": "DOmQXKym5Szj",
        "colab": {
          "base_uri": "https://localhost:8080/"
        },
        "outputId": "466f7c18-08e3-4ede-ebe6-ca088deebeb1"
      },
      "outputs": [
        {
          "output_type": "execute_result",
          "data": {
            "text/plain": [
              "array(['None', 'Mental Disability', 'Physical Disability',\n",
              "       'Unknown Infection', 'Blind', 'Deaf', 'Disabled'], dtype=object)"
            ]
          },
          "metadata": {},
          "execution_count": 311
        }
      ],
      "source": [
        "# count all values in Infirmity column\n",
        "(df_census['Infirmity'].value_counts())\n",
        "\n",
        "infirmity_mode = df_census['Infirmity'].mode()\n",
        "infirmity_mode\n",
        "\n",
        "#replace blanks with mode. 16 records affected. Does this skew the data in anyway?\n",
        "df_census['Infirmity'] = df_census['Infirmity'].fillna(df_census['Infirmity'].mode()[0])\n",
        "\n",
        "#recategorizing mental disability, physical disability, ...... as disabled except none\n",
        "#df_census['Religion'] = df_census['Religion'].replace(['Mental Disability', 'Physical Disability','Unknown Infection', 'Blind', 'Deaf'], 'Disabled')\n",
        "#df_census['Religion'] = df_census['Religion'].replace(['None],'Non-disabled')\n",
        "\n",
        "#check for unique values again in infirmity after replacing\n",
        "(df_census['Infirmity'].unique())"
      ]
    },
    {
      "cell_type": "code",
      "execution_count": null,
      "metadata": {
        "id": "CNfxRPef5Szj",
        "colab": {
          "base_uri": "https://localhost:8080/"
        },
        "outputId": "ffe97d2b-81b1-44ec-d4cf-a2b46acc0672"
      },
      "outputs": [
        {
          "output_type": "execute_result",
          "data": {
            "text/plain": [
              "Non-disabled    9480\n",
              "Disabled          63\n",
              "Name: Infirmity Status, dtype: int64"
            ]
          },
          "metadata": {},
          "execution_count": 312
        }
      ],
      "source": [
        "#recategorizing infirmity status to disabled and non-disabled\n",
        "df_census.loc[df_census['Infirmity'] == 'None', 'Infirmity Status'] = 'Non-disabled'\n",
        "df_census.loc[df_census['Infirmity'] != 'None', 'Infirmity Status'] = 'Disabled'\n",
        "\n",
        "#confirm variable name replacement\n",
        "(df_census['Infirmity Status'].unique())\n",
        "(df_census['Infirmity Status'].value_counts())"
      ]
    },
    {
      "cell_type": "markdown",
      "metadata": {
        "id": "u0JTRT6D5Szj"
      },
      "source": [
        "### Cleaning Religion column"
      ]
    },
    {
      "cell_type": "code",
      "execution_count": null,
      "metadata": {
        "id": "l7n4c6tt5Szj",
        "colab": {
          "base_uri": "https://localhost:8080/"
        },
        "outputId": "f53ba068-786b-4386-c1e4-17ef44e9d081"
      },
      "outputs": [
        {
          "output_type": "execute_result",
          "data": {
            "text/plain": [
              "None           3170\n",
              "Christian      2172\n",
              "Catholic       1043\n",
              "Methodist       671\n",
              "Muslim          124\n",
              "Sikh             56\n",
              "Jewish           37\n",
              "Nope              3\n",
              "Undecided         2\n",
              "Orthodoxy         2\n",
              "Agnostic          2\n",
              "Jedi              1\n",
              "Pagan             1\n",
              "Housekeeper       1\n",
              "Name: Religion, dtype: int64"
            ]
          },
          "metadata": {},
          "execution_count": 313
        }
      ],
      "source": [
        "# count all unique values in Religion column\n",
        "(df_census['Religion'].value_counts())\n",
        "\n",
        "#(df_census['Religion'].unique())#getting the unique values\n",
        "\n",
        "#check religion mode before replacing nan\n",
        "#religion_mode = df_census['Religion'].mode()\n",
        "#religion_mode"
      ]
    },
    {
      "cell_type": "code",
      "execution_count": null,
      "metadata": {
        "id": "b_AMqFsH5Szk",
        "colab": {
          "base_uri": "https://localhost:8080/"
        },
        "outputId": "53284f3b-19ae-45ae-c21e-21afcc4c3abe"
      },
      "outputs": [
        {
          "output_type": "stream",
          "name": "stdout",
          "text": [
            "['None' 'Christian' 'Catholic' 'Muslim' 'Methodist' 'Jewish' 'Sikh' 'Jedi'\n",
            " 'Orthodoxy' 'Agnostic']\n"
          ]
        }
      ],
      "source": [
        "#replacing nan with mode\n",
        "df_census['Religion'] = df_census['Religion'].fillna(df_census['Religion'].mode()[0])\n",
        "\n",
        "#replacing Housekeeper, Nope... etc with None\n",
        "df_census['Religion'] = df_census['Religion'].replace(['Housekeeper', 'Nope', 'Undecided', 'Pagan'], 'None')\n",
        "\n",
        "print(df_census['Religion'].unique())"
      ]
    },
    {
      "cell_type": "code",
      "execution_count": null,
      "metadata": {
        "id": "W5GQpbxI5Szk",
        "colab": {
          "base_uri": "https://localhost:8080/"
        },
        "outputId": "1fa25726-0e1d-4e69-9230-abba2999d5d4"
      },
      "outputs": [
        {
          "output_type": "execute_result",
          "data": {
            "text/plain": [
              "array(['Non-religious', 'Religious'], dtype=object)"
            ]
          },
          "metadata": {},
          "execution_count": 315
        }
      ],
      "source": [
        "#recategorizing Religion status to Religious and Non-Religious\n",
        "df_census.loc[df_census['Religion'] == 'None', 'Religion Status'] = False\n",
        "df_census.loc[df_census['Religion'] != 'None', 'Religion Status'] = True\n",
        "\n",
        "df_census['Religion Status'] = df_census['Religion Status'].replace([False], 'Non-religious')\n",
        "df_census['Religion Status'] = df_census['Religion Status'].replace([True], 'Religious')\n",
        "#check for unique values again in religion after replacing\n",
        "(df_census['Religion Status'].unique())"
      ]
    },
    {
      "cell_type": "code",
      "execution_count": null,
      "metadata": {
        "id": "IkoAn2ea5Szk",
        "colab": {
          "base_uri": "https://localhost:8080/"
        },
        "outputId": "ef2eaed7-ee6b-451d-cfef-a9c250a99641"
      },
      "outputs": [
        {
          "output_type": "stream",
          "name": "stdout",
          "text": [
            "<class 'pandas.core.frame.DataFrame'>\n",
            "RangeIndex: 9543 entries, 0 to 9542\n",
            "Data columns (total 15 columns):\n",
            " #   Column                         Non-Null Count  Dtype \n",
            "---  ------                         --------------  ----- \n",
            " 0   House Number                   9543 non-null   object\n",
            " 1   Street                         9543 non-null   object\n",
            " 2   First Name                     9543 non-null   object\n",
            " 3   Surname                        9543 non-null   object\n",
            " 4   Age                            9543 non-null   int64 \n",
            " 5   Relationship to Head of House  9543 non-null   object\n",
            " 6   Marital Status                 9543 non-null   object\n",
            " 7   Gender                         9543 non-null   object\n",
            " 8   Occupation                     9543 non-null   object\n",
            " 9   Infirmity                      9543 non-null   object\n",
            " 10  Religion                       9543 non-null   object\n",
            " 11  Age group                      9543 non-null   object\n",
            " 12  Employment Status              9543 non-null   object\n",
            " 13  Infirmity Status               9543 non-null   object\n",
            " 14  Religion Status                9543 non-null   object\n",
            "dtypes: int64(1), object(14)\n",
            "memory usage: 1.1+ MB\n"
          ]
        },
        {
          "output_type": "execute_result",
          "data": {
            "text/plain": [
              "House Number                     0\n",
              "Street                           0\n",
              "First Name                       0\n",
              "Surname                          0\n",
              "Age                              0\n",
              "Relationship to Head of House    0\n",
              "Marital Status                   0\n",
              "Gender                           0\n",
              "Occupation                       0\n",
              "Infirmity                        0\n",
              "Religion                         0\n",
              "Age group                        0\n",
              "Employment Status                0\n",
              "Infirmity Status                 0\n",
              "Religion Status                  0\n",
              "dtype: int64"
            ]
          },
          "metadata": {},
          "execution_count": 316
        }
      ],
      "source": [
        "#checking if we have no blanks again the dataset\n",
        "df_census.info()\n",
        "df_census.isna().sum()"
      ]
    },
    {
      "cell_type": "markdown",
      "metadata": {
        "id": "2Rg0z1E15Szk"
      },
      "source": [
        "### Early Analysis after Data Cleaning"
      ]
    },
    {
      "cell_type": "markdown",
      "metadata": {
        "id": "7Ns8tiUw5Szl"
      },
      "source": [
        "#### Descriptive analysis for all variables"
      ]
    },
    {
      "cell_type": "code",
      "execution_count": null,
      "metadata": {
        "id": "IOu-ZDpy5Szl",
        "colab": {
          "base_uri": "https://localhost:8080/",
          "height": 473
        },
        "outputId": "4fedcadd-f543-43dc-87d0-469b5827305c"
      },
      "outputs": [
        {
          "output_type": "execute_result",
          "data": {
            "text/plain": [
              "       House Number         Street First Name Surname          Age  \\\n",
              "count          9543           9543       9543    9543  9543.000000   \n",
              "unique          244            104        366     690          NaN   \n",
              "top               1  Canary Avenue    Barbara   Smith          NaN   \n",
              "freq            350            798         42     285          NaN   \n",
              "mean            NaN            NaN        NaN     NaN    35.920046   \n",
              "std             NaN            NaN        NaN     NaN    21.524661   \n",
              "min             NaN            NaN        NaN     NaN     0.000000   \n",
              "25%             NaN            NaN        NaN     NaN    19.000000   \n",
              "50%             NaN            NaN        NaN     NaN    35.000000   \n",
              "75%             NaN            NaN        NaN     NaN    51.000000   \n",
              "max             NaN            NaN        NaN     NaN   108.000000   \n",
              "\n",
              "       Relationship to Head of House Marital Status  Gender Occupation  \\\n",
              "count                           9543           9543    9543       9543   \n",
              "unique                            21              5       2       1106   \n",
              "top                             Head         Single  Female    Student   \n",
              "freq                            3342           3456    4981       1797   \n",
              "mean                             NaN            NaN     NaN        NaN   \n",
              "std                              NaN            NaN     NaN        NaN   \n",
              "min                              NaN            NaN     NaN        NaN   \n",
              "25%                              NaN            NaN     NaN        NaN   \n",
              "50%                              NaN            NaN     NaN        NaN   \n",
              "75%                              NaN            NaN     NaN        NaN   \n",
              "max                              NaN            NaN     NaN        NaN   \n",
              "\n",
              "       Infirmity Religion Age group Employment Status Infirmity Status  \\\n",
              "count       9543     9543      9543              9543             9543   \n",
              "unique         7       10         3                 3                2   \n",
              "top         None     None     Adult          Employed     Non-disabled   \n",
              "freq        9480     5435      6356              5153             9480   \n",
              "mean         NaN      NaN       NaN               NaN              NaN   \n",
              "std          NaN      NaN       NaN               NaN              NaN   \n",
              "min          NaN      NaN       NaN               NaN              NaN   \n",
              "25%          NaN      NaN       NaN               NaN              NaN   \n",
              "50%          NaN      NaN       NaN               NaN              NaN   \n",
              "75%          NaN      NaN       NaN               NaN              NaN   \n",
              "max          NaN      NaN       NaN               NaN              NaN   \n",
              "\n",
              "       Religion Status  \n",
              "count             9543  \n",
              "unique               2  \n",
              "top      Non-religious  \n",
              "freq              5435  \n",
              "mean               NaN  \n",
              "std                NaN  \n",
              "min                NaN  \n",
              "25%                NaN  \n",
              "50%                NaN  \n",
              "75%                NaN  \n",
              "max                NaN  "
            ],
            "text/html": [
              "\n",
              "  <div id=\"df-978a7714-0bf7-4550-b407-701fb2d2ee17\">\n",
              "    <div class=\"colab-df-container\">\n",
              "      <div>\n",
              "<style scoped>\n",
              "    .dataframe tbody tr th:only-of-type {\n",
              "        vertical-align: middle;\n",
              "    }\n",
              "\n",
              "    .dataframe tbody tr th {\n",
              "        vertical-align: top;\n",
              "    }\n",
              "\n",
              "    .dataframe thead th {\n",
              "        text-align: right;\n",
              "    }\n",
              "</style>\n",
              "<table border=\"1\" class=\"dataframe\">\n",
              "  <thead>\n",
              "    <tr style=\"text-align: right;\">\n",
              "      <th></th>\n",
              "      <th>House Number</th>\n",
              "      <th>Street</th>\n",
              "      <th>First Name</th>\n",
              "      <th>Surname</th>\n",
              "      <th>Age</th>\n",
              "      <th>Relationship to Head of House</th>\n",
              "      <th>Marital Status</th>\n",
              "      <th>Gender</th>\n",
              "      <th>Occupation</th>\n",
              "      <th>Infirmity</th>\n",
              "      <th>Religion</th>\n",
              "      <th>Age group</th>\n",
              "      <th>Employment Status</th>\n",
              "      <th>Infirmity Status</th>\n",
              "      <th>Religion Status</th>\n",
              "    </tr>\n",
              "  </thead>\n",
              "  <tbody>\n",
              "    <tr>\n",
              "      <th>count</th>\n",
              "      <td>9543</td>\n",
              "      <td>9543</td>\n",
              "      <td>9543</td>\n",
              "      <td>9543</td>\n",
              "      <td>9543.000000</td>\n",
              "      <td>9543</td>\n",
              "      <td>9543</td>\n",
              "      <td>9543</td>\n",
              "      <td>9543</td>\n",
              "      <td>9543</td>\n",
              "      <td>9543</td>\n",
              "      <td>9543</td>\n",
              "      <td>9543</td>\n",
              "      <td>9543</td>\n",
              "      <td>9543</td>\n",
              "    </tr>\n",
              "    <tr>\n",
              "      <th>unique</th>\n",
              "      <td>244</td>\n",
              "      <td>104</td>\n",
              "      <td>366</td>\n",
              "      <td>690</td>\n",
              "      <td>NaN</td>\n",
              "      <td>21</td>\n",
              "      <td>5</td>\n",
              "      <td>2</td>\n",
              "      <td>1106</td>\n",
              "      <td>7</td>\n",
              "      <td>10</td>\n",
              "      <td>3</td>\n",
              "      <td>3</td>\n",
              "      <td>2</td>\n",
              "      <td>2</td>\n",
              "    </tr>\n",
              "    <tr>\n",
              "      <th>top</th>\n",
              "      <td>1</td>\n",
              "      <td>Canary Avenue</td>\n",
              "      <td>Barbara</td>\n",
              "      <td>Smith</td>\n",
              "      <td>NaN</td>\n",
              "      <td>Head</td>\n",
              "      <td>Single</td>\n",
              "      <td>Female</td>\n",
              "      <td>Student</td>\n",
              "      <td>None</td>\n",
              "      <td>None</td>\n",
              "      <td>Adult</td>\n",
              "      <td>Employed</td>\n",
              "      <td>Non-disabled</td>\n",
              "      <td>Non-religious</td>\n",
              "    </tr>\n",
              "    <tr>\n",
              "      <th>freq</th>\n",
              "      <td>350</td>\n",
              "      <td>798</td>\n",
              "      <td>42</td>\n",
              "      <td>285</td>\n",
              "      <td>NaN</td>\n",
              "      <td>3342</td>\n",
              "      <td>3456</td>\n",
              "      <td>4981</td>\n",
              "      <td>1797</td>\n",
              "      <td>9480</td>\n",
              "      <td>5435</td>\n",
              "      <td>6356</td>\n",
              "      <td>5153</td>\n",
              "      <td>9480</td>\n",
              "      <td>5435</td>\n",
              "    </tr>\n",
              "    <tr>\n",
              "      <th>mean</th>\n",
              "      <td>NaN</td>\n",
              "      <td>NaN</td>\n",
              "      <td>NaN</td>\n",
              "      <td>NaN</td>\n",
              "      <td>35.920046</td>\n",
              "      <td>NaN</td>\n",
              "      <td>NaN</td>\n",
              "      <td>NaN</td>\n",
              "      <td>NaN</td>\n",
              "      <td>NaN</td>\n",
              "      <td>NaN</td>\n",
              "      <td>NaN</td>\n",
              "      <td>NaN</td>\n",
              "      <td>NaN</td>\n",
              "      <td>NaN</td>\n",
              "    </tr>\n",
              "    <tr>\n",
              "      <th>std</th>\n",
              "      <td>NaN</td>\n",
              "      <td>NaN</td>\n",
              "      <td>NaN</td>\n",
              "      <td>NaN</td>\n",
              "      <td>21.524661</td>\n",
              "      <td>NaN</td>\n",
              "      <td>NaN</td>\n",
              "      <td>NaN</td>\n",
              "      <td>NaN</td>\n",
              "      <td>NaN</td>\n",
              "      <td>NaN</td>\n",
              "      <td>NaN</td>\n",
              "      <td>NaN</td>\n",
              "      <td>NaN</td>\n",
              "      <td>NaN</td>\n",
              "    </tr>\n",
              "    <tr>\n",
              "      <th>min</th>\n",
              "      <td>NaN</td>\n",
              "      <td>NaN</td>\n",
              "      <td>NaN</td>\n",
              "      <td>NaN</td>\n",
              "      <td>0.000000</td>\n",
              "      <td>NaN</td>\n",
              "      <td>NaN</td>\n",
              "      <td>NaN</td>\n",
              "      <td>NaN</td>\n",
              "      <td>NaN</td>\n",
              "      <td>NaN</td>\n",
              "      <td>NaN</td>\n",
              "      <td>NaN</td>\n",
              "      <td>NaN</td>\n",
              "      <td>NaN</td>\n",
              "    </tr>\n",
              "    <tr>\n",
              "      <th>25%</th>\n",
              "      <td>NaN</td>\n",
              "      <td>NaN</td>\n",
              "      <td>NaN</td>\n",
              "      <td>NaN</td>\n",
              "      <td>19.000000</td>\n",
              "      <td>NaN</td>\n",
              "      <td>NaN</td>\n",
              "      <td>NaN</td>\n",
              "      <td>NaN</td>\n",
              "      <td>NaN</td>\n",
              "      <td>NaN</td>\n",
              "      <td>NaN</td>\n",
              "      <td>NaN</td>\n",
              "      <td>NaN</td>\n",
              "      <td>NaN</td>\n",
              "    </tr>\n",
              "    <tr>\n",
              "      <th>50%</th>\n",
              "      <td>NaN</td>\n",
              "      <td>NaN</td>\n",
              "      <td>NaN</td>\n",
              "      <td>NaN</td>\n",
              "      <td>35.000000</td>\n",
              "      <td>NaN</td>\n",
              "      <td>NaN</td>\n",
              "      <td>NaN</td>\n",
              "      <td>NaN</td>\n",
              "      <td>NaN</td>\n",
              "      <td>NaN</td>\n",
              "      <td>NaN</td>\n",
              "      <td>NaN</td>\n",
              "      <td>NaN</td>\n",
              "      <td>NaN</td>\n",
              "    </tr>\n",
              "    <tr>\n",
              "      <th>75%</th>\n",
              "      <td>NaN</td>\n",
              "      <td>NaN</td>\n",
              "      <td>NaN</td>\n",
              "      <td>NaN</td>\n",
              "      <td>51.000000</td>\n",
              "      <td>NaN</td>\n",
              "      <td>NaN</td>\n",
              "      <td>NaN</td>\n",
              "      <td>NaN</td>\n",
              "      <td>NaN</td>\n",
              "      <td>NaN</td>\n",
              "      <td>NaN</td>\n",
              "      <td>NaN</td>\n",
              "      <td>NaN</td>\n",
              "      <td>NaN</td>\n",
              "    </tr>\n",
              "    <tr>\n",
              "      <th>max</th>\n",
              "      <td>NaN</td>\n",
              "      <td>NaN</td>\n",
              "      <td>NaN</td>\n",
              "      <td>NaN</td>\n",
              "      <td>108.000000</td>\n",
              "      <td>NaN</td>\n",
              "      <td>NaN</td>\n",
              "      <td>NaN</td>\n",
              "      <td>NaN</td>\n",
              "      <td>NaN</td>\n",
              "      <td>NaN</td>\n",
              "      <td>NaN</td>\n",
              "      <td>NaN</td>\n",
              "      <td>NaN</td>\n",
              "      <td>NaN</td>\n",
              "    </tr>\n",
              "  </tbody>\n",
              "</table>\n",
              "</div>\n",
              "      <button class=\"colab-df-convert\" onclick=\"convertToInteractive('df-978a7714-0bf7-4550-b407-701fb2d2ee17')\"\n",
              "              title=\"Convert this dataframe to an interactive table.\"\n",
              "              style=\"display:none;\">\n",
              "        \n",
              "  <svg xmlns=\"http://www.w3.org/2000/svg\" height=\"24px\"viewBox=\"0 0 24 24\"\n",
              "       width=\"24px\">\n",
              "    <path d=\"M0 0h24v24H0V0z\" fill=\"none\"/>\n",
              "    <path d=\"M18.56 5.44l.94 2.06.94-2.06 2.06-.94-2.06-.94-.94-2.06-.94 2.06-2.06.94zm-11 1L8.5 8.5l.94-2.06 2.06-.94-2.06-.94L8.5 2.5l-.94 2.06-2.06.94zm10 10l.94 2.06.94-2.06 2.06-.94-2.06-.94-.94-2.06-.94 2.06-2.06.94z\"/><path d=\"M17.41 7.96l-1.37-1.37c-.4-.4-.92-.59-1.43-.59-.52 0-1.04.2-1.43.59L10.3 9.45l-7.72 7.72c-.78.78-.78 2.05 0 2.83L4 21.41c.39.39.9.59 1.41.59.51 0 1.02-.2 1.41-.59l7.78-7.78 2.81-2.81c.8-.78.8-2.07 0-2.86zM5.41 20L4 18.59l7.72-7.72 1.47 1.35L5.41 20z\"/>\n",
              "  </svg>\n",
              "      </button>\n",
              "      \n",
              "  <style>\n",
              "    .colab-df-container {\n",
              "      display:flex;\n",
              "      flex-wrap:wrap;\n",
              "      gap: 12px;\n",
              "    }\n",
              "\n",
              "    .colab-df-convert {\n",
              "      background-color: #E8F0FE;\n",
              "      border: none;\n",
              "      border-radius: 50%;\n",
              "      cursor: pointer;\n",
              "      display: none;\n",
              "      fill: #1967D2;\n",
              "      height: 32px;\n",
              "      padding: 0 0 0 0;\n",
              "      width: 32px;\n",
              "    }\n",
              "\n",
              "    .colab-df-convert:hover {\n",
              "      background-color: #E2EBFA;\n",
              "      box-shadow: 0px 1px 2px rgba(60, 64, 67, 0.3), 0px 1px 3px 1px rgba(60, 64, 67, 0.15);\n",
              "      fill: #174EA6;\n",
              "    }\n",
              "\n",
              "    [theme=dark] .colab-df-convert {\n",
              "      background-color: #3B4455;\n",
              "      fill: #D2E3FC;\n",
              "    }\n",
              "\n",
              "    [theme=dark] .colab-df-convert:hover {\n",
              "      background-color: #434B5C;\n",
              "      box-shadow: 0px 1px 3px 1px rgba(0, 0, 0, 0.15);\n",
              "      filter: drop-shadow(0px 1px 2px rgba(0, 0, 0, 0.3));\n",
              "      fill: #FFFFFF;\n",
              "    }\n",
              "  </style>\n",
              "\n",
              "      <script>\n",
              "        const buttonEl =\n",
              "          document.querySelector('#df-978a7714-0bf7-4550-b407-701fb2d2ee17 button.colab-df-convert');\n",
              "        buttonEl.style.display =\n",
              "          google.colab.kernel.accessAllowed ? 'block' : 'none';\n",
              "\n",
              "        async function convertToInteractive(key) {\n",
              "          const element = document.querySelector('#df-978a7714-0bf7-4550-b407-701fb2d2ee17');\n",
              "          const dataTable =\n",
              "            await google.colab.kernel.invokeFunction('convertToInteractive',\n",
              "                                                     [key], {});\n",
              "          if (!dataTable) return;\n",
              "\n",
              "          const docLinkHtml = 'Like what you see? Visit the ' +\n",
              "            '<a target=\"_blank\" href=https://colab.research.google.com/notebooks/data_table.ipynb>data table notebook</a>'\n",
              "            + ' to learn more about interactive tables.';\n",
              "          element.innerHTML = '';\n",
              "          dataTable['output_type'] = 'display_data';\n",
              "          await google.colab.output.renderOutput(dataTable, element);\n",
              "          const docLink = document.createElement('div');\n",
              "          docLink.innerHTML = docLinkHtml;\n",
              "          element.appendChild(docLink);\n",
              "        }\n",
              "      </script>\n",
              "    </div>\n",
              "  </div>\n",
              "  "
            ]
          },
          "metadata": {},
          "execution_count": 317
        }
      ],
      "source": [
        "df_census.describe(include = 'all')"
      ]
    },
    {
      "cell_type": "code",
      "execution_count": null,
      "metadata": {
        "id": "fbe2LgI55Szl",
        "colab": {
          "base_uri": "https://localhost:8080/"
        },
        "outputId": "e797e14d-66aa-4fad-b6f4-f14120a4911f"
      },
      "outputs": [
        {
          "output_type": "execute_result",
          "data": {
            "text/plain": [
              "count    9543.000000\n",
              "mean       35.920046\n",
              "std        21.524661\n",
              "min         0.000000\n",
              "25%        19.000000\n",
              "50%        35.000000\n",
              "75%        51.000000\n",
              "max       108.000000\n",
              "Name: Age, dtype: float64"
            ]
          },
          "metadata": {},
          "execution_count": 318
        }
      ],
      "source": [
        "df_census['Age'].describe()"
      ]
    },
    {
      "cell_type": "code",
      "execution_count": null,
      "metadata": {
        "id": "YFzJgjFL5Szl",
        "colab": {
          "base_uri": "https://localhost:8080/",
          "height": 398
        },
        "outputId": "3d6250f9-edaa-4f71-ef42-776a87764acd"
      },
      "outputs": [
        {
          "output_type": "execute_result",
          "data": {
            "text/plain": [
              "<seaborn.axisgrid.FacetGrid at 0x7fcda5b374f0>"
            ]
          },
          "metadata": {},
          "execution_count": 319
        },
        {
          "output_type": "display_data",
          "data": {
            "text/plain": [
              "<Figure size 360x360 with 1 Axes>"
            ],
            "image/png": "[encoded data removed]"
          },
          "metadata": {}
        }
      ],
      "source": [
        "sns.catplot(data=df_census, y=\"Age group\", x=\"Employment Status\").set(title = ' Age on Employment Status of a Town Population (UK 1881 Census)')"
      ]
    },
    {
      "cell_type": "code",
      "execution_count": null,
      "metadata": {
        "id": "ctpqjIL75Szl",
        "colab": {
          "base_uri": "https://localhost:8080/",
          "height": 159
        },
        "outputId": "5a7af8b4-37cf-4afb-937c-f3bd70a6b744"
      },
      "outputs": [
        {
          "output_type": "execute_result",
          "data": {
            "text/plain": [
              "  House Number         Street First Name Surname  Age  \\\n",
              "0            1  Canary Avenue    Barbara   Smith   19   \n",
              "\n",
              "  Relationship to Head of House Marital Status  Gender Occupation Infirmity  \\\n",
              "0                          Head         Single  Female    Student      None   \n",
              "\n",
              "  Religion Age group Employment Status Infirmity Status Religion Status  \n",
              "0     None     Adult          Employed     Non-disabled   Non-religious  "
            ],
            "text/html": [
              "\n",
              "  <div id=\"df-92ab2407-4bdc-4f75-99f1-d2a91ad42b86\">\n",
              "    <div class=\"colab-df-container\">\n",
              "      <div>\n",
              "<style scoped>\n",
              "    .dataframe tbody tr th:only-of-type {\n",
              "        vertical-align: middle;\n",
              "    }\n",
              "\n",
              "    .dataframe tbody tr th {\n",
              "        vertical-align: top;\n",
              "    }\n",
              "\n",
              "    .dataframe thead th {\n",
              "        text-align: right;\n",
              "    }\n",
              "</style>\n",
              "<table border=\"1\" class=\"dataframe\">\n",
              "  <thead>\n",
              "    <tr style=\"text-align: right;\">\n",
              "      <th></th>\n",
              "      <th>House Number</th>\n",
              "      <th>Street</th>\n",
              "      <th>First Name</th>\n",
              "      <th>Surname</th>\n",
              "      <th>Age</th>\n",
              "      <th>Relationship to Head of House</th>\n",
              "      <th>Marital Status</th>\n",
              "      <th>Gender</th>\n",
              "      <th>Occupation</th>\n",
              "      <th>Infirmity</th>\n",
              "      <th>Religion</th>\n",
              "      <th>Age group</th>\n",
              "      <th>Employment Status</th>\n",
              "      <th>Infirmity Status</th>\n",
              "      <th>Religion Status</th>\n",
              "    </tr>\n",
              "  </thead>\n",
              "  <tbody>\n",
              "    <tr>\n",
              "      <th>0</th>\n",
              "      <td>1</td>\n",
              "      <td>Canary Avenue</td>\n",
              "      <td>Barbara</td>\n",
              "      <td>Smith</td>\n",
              "      <td>19</td>\n",
              "      <td>Head</td>\n",
              "      <td>Single</td>\n",
              "      <td>Female</td>\n",
              "      <td>Student</td>\n",
              "      <td>None</td>\n",
              "      <td>None</td>\n",
              "      <td>Adult</td>\n",
              "      <td>Employed</td>\n",
              "      <td>Non-disabled</td>\n",
              "      <td>Non-religious</td>\n",
              "    </tr>\n",
              "  </tbody>\n",
              "</table>\n",
              "</div>\n",
              "      <button class=\"colab-df-convert\" onclick=\"convertToInteractive('df-92ab2407-4bdc-4f75-99f1-d2a91ad42b86')\"\n",
              "              title=\"Convert this dataframe to an interactive table.\"\n",
              "              style=\"display:none;\">\n",
              "        \n",
              "  <svg xmlns=\"http://www.w3.org/2000/svg\" height=\"24px\"viewBox=\"0 0 24 24\"\n",
              "       width=\"24px\">\n",
              "    <path d=\"M0 0h24v24H0V0z\" fill=\"none\"/>\n",
              "    <path d=\"M18.56 5.44l.94 2.06.94-2.06 2.06-.94-2.06-.94-.94-2.06-.94 2.06-2.06.94zm-11 1L8.5 8.5l.94-2.06 2.06-.94-2.06-.94L8.5 2.5l-.94 2.06-2.06.94zm10 10l.94 2.06.94-2.06 2.06-.94-2.06-.94-.94-2.06-.94 2.06-2.06.94z\"/><path d=\"M17.41 7.96l-1.37-1.37c-.4-.4-.92-.59-1.43-.59-.52 0-1.04.2-1.43.59L10.3 9.45l-7.72 7.72c-.78.78-.78 2.05 0 2.83L4 21.41c.39.39.9.59 1.41.59.51 0 1.02-.2 1.41-.59l7.78-7.78 2.81-2.81c.8-.78.8-2.07 0-2.86zM5.41 20L4 18.59l7.72-7.72 1.47 1.35L5.41 20z\"/>\n",
              "  </svg>\n",
              "      </button>\n",
              "      \n",
              "  <style>\n",
              "    .colab-df-container {\n",
              "      display:flex;\n",
              "      flex-wrap:wrap;\n",
              "      gap: 12px;\n",
              "    }\n",
              "\n",
              "    .colab-df-convert {\n",
              "      background-color: #E8F0FE;\n",
              "      border: none;\n",
              "      border-radius: 50%;\n",
              "      cursor: pointer;\n",
              "      display: none;\n",
              "      fill: #1967D2;\n",
              "      height: 32px;\n",
              "      padding: 0 0 0 0;\n",
              "      width: 32px;\n",
              "    }\n",
              "\n",
              "    .colab-df-convert:hover {\n",
              "      background-color: #E2EBFA;\n",
              "      box-shadow: 0px 1px 2px rgba(60, 64, 67, 0.3), 0px 1px 3px 1px rgba(60, 64, 67, 0.15);\n",
              "      fill: #174EA6;\n",
              "    }\n",
              "\n",
              "    [theme=dark] .colab-df-convert {\n",
              "      background-color: #3B4455;\n",
              "      fill: #D2E3FC;\n",
              "    }\n",
              "\n",
              "    [theme=dark] .colab-df-convert:hover {\n",
              "      background-color: #434B5C;\n",
              "      box-shadow: 0px 1px 3px 1px rgba(0, 0, 0, 0.15);\n",
              "      filter: drop-shadow(0px 1px 2px rgba(0, 0, 0, 0.3));\n",
              "      fill: #FFFFFF;\n",
              "    }\n",
              "  </style>\n",
              "\n",
              "      <script>\n",
              "        const buttonEl =\n",
              "          document.querySelector('#df-92ab2407-4bdc-4f75-99f1-d2a91ad42b86 button.colab-df-convert');\n",
              "        buttonEl.style.display =\n",
              "          google.colab.kernel.accessAllowed ? 'block' : 'none';\n",
              "\n",
              "        async function convertToInteractive(key) {\n",
              "          const element = document.querySelector('#df-92ab2407-4bdc-4f75-99f1-d2a91ad42b86');\n",
              "          const dataTable =\n",
              "            await google.colab.kernel.invokeFunction('convertToInteractive',\n",
              "                                                     [key], {});\n",
              "          if (!dataTable) return;\n",
              "\n",
              "          const docLinkHtml = 'Like what you see? Visit the ' +\n",
              "            '<a target=\"_blank\" href=https://colab.research.google.com/notebooks/data_table.ipynb>data table notebook</a>'\n",
              "            + ' to learn more about interactive tables.';\n",
              "          element.innerHTML = '';\n",
              "          dataTable['output_type'] = 'display_data';\n",
              "          await google.colab.output.renderOutput(dataTable, element);\n",
              "          const docLink = document.createElement('div');\n",
              "          docLink.innerHTML = docLinkHtml;\n",
              "          element.appendChild(docLink);\n",
              "        }\n",
              "      </script>\n",
              "    </div>\n",
              "  </div>\n",
              "  "
            ]
          },
          "metadata": {},
          "execution_count": 320
        }
      ],
      "source": [
        "(df_census.mode())"
      ]
    },
    {
      "cell_type": "markdown",
      "metadata": {
        "id": "zvDxQgFt5Szm"
      },
      "source": [
        "#### Street"
      ]
    },
    {
      "cell_type": "code",
      "execution_count": null,
      "metadata": {
        "id": "v_eWPxJI5Szm",
        "colab": {
          "base_uri": "https://localhost:8080/"
        },
        "outputId": "4a7a6486-b9d5-4a73-9f4c-57f870cd0233"
      },
      "outputs": [
        {
          "output_type": "stream",
          "name": "stdout",
          "text": [
            "Canary Avenue        798\n",
            "Haymarket Drive      518\n",
            "White Branch         375\n",
            "Hughes Lane          343\n",
            "Walker Station       329\n",
            "                    ... \n",
            "Johnson Abbey          5\n",
            "Brass Factory          5\n",
            "Walker Lighthouse      1\n",
            "Singh Cabin            1\n",
            "Inverness Delve        1\n",
            "Name: Street, Length: 104, dtype: int64\n",
            "Canary Avenue        8.362150\n",
            "Haymarket Drive      5.428062\n",
            "White Branch         3.929582\n",
            "Hughes Lane          3.594258\n",
            "Walker Station       3.447553\n",
            "                       ...   \n",
            "Johnson Abbey        0.052394\n",
            "Brass Factory        0.052394\n",
            "Walker Lighthouse    0.010479\n",
            "Singh Cabin          0.010479\n",
            "Inverness Delve      0.010479\n",
            "Name: Street, Length: 104, dtype: float64\n"
          ]
        }
      ],
      "source": [
        "#calculate counts of value for Street\n",
        "print(df_census['Street'].value_counts())\n",
        "\n",
        "#calculate proportion of street\n",
        "print(df_census['Street'].value_counts()/df_census['Street'].value_counts().sum()*100)"
      ]
    },
    {
      "cell_type": "markdown",
      "metadata": {
        "id": "_8wF-sOL5Szm"
      },
      "source": [
        "#### Age"
      ]
    },
    {
      "cell_type": "code",
      "execution_count": null,
      "metadata": {
        "id": "sBhqa_X-5Szm",
        "colab": {
          "base_uri": "https://localhost:8080/",
          "height": 318
        },
        "outputId": "96b2a1fe-645d-4fe9-cd96-0ca4689e29b3"
      },
      "outputs": [
        {
          "output_type": "execute_result",
          "data": {
            "text/plain": [
              "[Text(0.5, 1.0, 'Age Distribution of a Town (UK 1881 Census)')]"
            ]
          },
          "metadata": {},
          "execution_count": 322
        },
        {
          "output_type": "display_data",
          "data": {
            "text/plain": [
              "<Figure size 432x288 with 1 Axes>"
            ],
            "image/png": "[encoded data removed]"
          },
          "metadata": {}
        }
      ],
      "source": [
        "#age outlier\n",
        "sns.countplot(data=df_census, x='Age group').set(title = 'Age Distribution of a Town (UK 1881 Census)' )"
      ]
    },
    {
      "cell_type": "code",
      "execution_count": null,
      "metadata": {
        "scrolled": true,
        "id": "teL9wIkE5Szm",
        "colab": {
          "base_uri": "https://localhost:8080/",
          "height": 301
        },
        "outputId": "d4d658a3-3a36-4a05-8ba4-481b68a47e0b"
      },
      "outputs": [
        {
          "output_type": "execute_result",
          "data": {
            "text/plain": [
              "<matplotlib.axes._subplots.AxesSubplot at 0x7fcda5c6b370>"
            ]
          },
          "metadata": {},
          "execution_count": 323
        },
        {
          "output_type": "display_data",
          "data": {
            "text/plain": [
              "<Figure size 432x288 with 1 Axes>"
            ],
            "image/png": "[encoded data removed]"
          },
          "metadata": {}
        }
      ],
      "source": [
        "#boxplot of age \n",
        "df_census.plot(y=\"Age\", kind=\"box\", title=\"Boxplot - Age of a Town (UK 1881 Census)\")\n",
        "\n",
        "#A boxplot shows the summary statistics of a continuous variable."
      ]
    },
    {
      "cell_type": "code",
      "execution_count": null,
      "metadata": {
        "id": "d50F_n5T5Szm",
        "colab": {
          "base_uri": "https://localhost:8080/",
          "height": 398
        },
        "outputId": "d2bd1e1f-38a2-4051-b96f-e86a4d000688"
      },
      "outputs": [
        {
          "output_type": "execute_result",
          "data": {
            "text/plain": [
              "<seaborn.axisgrid.FacetGrid at 0x7fcda5c17670>"
            ]
          },
          "metadata": {},
          "execution_count": 324
        },
        {
          "output_type": "display_data",
          "data": {
            "text/plain": [
              "<Figure size 360x360 with 1 Axes>"
            ],
            "image/png": "[encoded data removed]"
          },
          "metadata": {}
        }
      ],
      "source": [
        "#Kernel Density Estimation Curve of Age\n",
        "sns.displot(df_census, x=\"Age\", kind=\"kde\").set(title=\"Boxplot - Age of a Town (UK 1881 Census)\")"
      ]
    },
    {
      "cell_type": "code",
      "execution_count": null,
      "metadata": {
        "id": "nH19CQGD5Szn",
        "colab": {
          "base_uri": "https://localhost:8080/",
          "height": 398
        },
        "outputId": "92946b1b-c333-4e40-cd12-13115ba14469"
      },
      "outputs": [
        {
          "output_type": "execute_result",
          "data": {
            "text/plain": [
              "<seaborn.axisgrid.FacetGrid at 0x7fcda5c17a00>"
            ]
          },
          "metadata": {},
          "execution_count": 325
        },
        {
          "output_type": "display_data",
          "data": {
            "text/plain": [
              "<Figure size 360x360 with 1 Axes>"
            ],
            "image/png": "[encoded data removed]"
          },
          "metadata": {}
        }
      ],
      "source": [
        "#age vs Marital Status\n",
        "sns.catplot(data=df_census, x=\"Age\", y=\"Marital Status\").set(title = 'Marital Status on Age of a Town Population (UK 1881 Census)')"
      ]
    },
    {
      "cell_type": "code",
      "execution_count": null,
      "metadata": {
        "ExecuteTime": {
          "end_time": "2022-12-08T23:31:27.798297Z",
          "start_time": "2022-12-08T23:31:27.328791Z"
        },
        "hidden": true,
        "id": "825576a7",
        "outputId": "d4d5b38e-8aa3-48cd-d9b6-bbf3edc73492",
        "colab": {
          "base_uri": "https://localhost:8080/"
        }
      },
      "outputs": [
        {
          "output_type": "execute_result",
          "data": {
            "text/plain": [
              "<seaborn.axisgrid.FacetGrid at 0x7fcda774e520>"
            ]
          },
          "metadata": {},
          "execution_count": 326
        }
      ],
      "source": [
        "#Age conditioned on Marital Status\n",
        "Age_marstat_plot = sns.displot(data=df_census, x = 'Age', hue='Marital Status', edgecolor='white', multiple='stack') \n",
        "Age_marstat_plot.set(title= 'Age Distribution on Marital Status')\n",
        "Age_marstat_plot.set_axis_labels(\"Age (in Years)\", \"Count\")"
      ]
    },
    {
      "cell_type": "code",
      "source": [
        "composition(df_census, 'Age')"
      ],
      "metadata": {
        "id": "b5BdT6y7vTW9"
      },
      "execution_count": null,
      "outputs": []
    },
    {
      "cell_type": "code",
      "source": [
        "composition(df_census, 'Marital Status')"
      ],
      "metadata": {
        "id": "Pc3_e1_GybQZ"
      },
      "execution_count": null,
      "outputs": []
    },
    {
      "cell_type": "code",
      "execution_count": null,
      "metadata": {
        "id": "vy_LFJkk5Szn"
      },
      "outputs": [],
      "source": [
        "ageOutliers = df_census.loc[df_census['Age'] > 100]\n",
        "ageOutliers"
      ]
    },
    {
      "cell_type": "markdown",
      "metadata": {
        "id": "EMlZN0iy5Szn"
      },
      "source": [
        "### Relationship to HOH"
      ]
    },
    {
      "cell_type": "code",
      "execution_count": null,
      "metadata": {
        "id": "twyDcqVQ5Szq"
      },
      "outputs": [],
      "source": [
        "print(df_census['Relationship to Head of House'].mode())\n",
        "\n",
        "df_census['Relationship to Head of House'].value_counts().plot(kind=\"bar\",\n",
        "                           title=\"Relationship to Head of House of a Town (UK 1881 Census)\",\n",
        "                           #rot=15,\n",
        "                           xlabel=\"Relationship Type\",\n",
        "                           ylabel=\"Count\")"
      ]
    },
    {
      "cell_type": "markdown",
      "metadata": {
        "id": "EHqUayJF5Szr"
      },
      "source": [
        "#### Marital status"
      ]
    },
    {
      "cell_type": "code",
      "execution_count": null,
      "metadata": {
        "id": "eyhaxFZ_5Szr"
      },
      "outputs": [],
      "source": [
        "print(df_census['Marital Status'].mode())\n",
        "\n",
        "#df_census['Marital Status'].value_counts().plot(kind=\"bar\",\n",
        "                           #title=\"Marital status Distribution\",\n",
        "                           #rot=15,\n",
        "                           #xlabel=\"Marital Status\",\n",
        "                           #ylabel=\"Count\")\n",
        "sns.set_style(\"dark\")\n",
        "sns.catplot(data=df_census, x=\"Marital Status\", kind=\"count\", palette=\"ch:.30\").set(title = 'Marital Status Distribution of a Town (UK 1881 Census) ')"
      ]
    },
    {
      "cell_type": "markdown",
      "metadata": {
        "id": "8DBdKouE5Szr"
      },
      "source": [
        "#### Gender"
      ]
    },
    {
      "cell_type": "code",
      "execution_count": null,
      "metadata": {
        "id": "H-lzE-bm5Szr"
      },
      "outputs": [],
      "source": [
        "print(df_census['Gender'].mode())\n",
        "\n",
        "sns.catplot(data=df_census, x=\"Gender\", kind=\"count\", palette=\"pastel\").set(title='Gender Distribution of a Town (UK 1881 Census)')"
      ]
    },
    {
      "cell_type": "code",
      "execution_count": null,
      "metadata": {
        "id": "Wa9LV7cz5Szr"
      },
      "outputs": [],
      "source": [
        "sns.histplot(df_census, x=\"Gender\", shrink=.8, hue='Marital Status').set(title='Composition of Marital Status on Gender in Town (1881 UK Census)')"
      ]
    },
    {
      "cell_type": "code",
      "execution_count": null,
      "metadata": {
        "ExecuteTime": {
          "end_time": "2022-12-08T23:31:15.922656Z",
          "start_time": "2022-12-08T23:31:15.091797Z"
        },
        "id": "cfad72d8"
      },
      "outputs": [],
      "source": [
        "# Gender against age conditioned on Marital Status\n",
        "g = sns.catplot(y='Age', hue=\"Marital Status\", x=\"Gender\",\n",
        "                data=df_census, saturation=.6, dodge=True, ci=None,kind=\"bar\")\n",
        "g.set(title=\"Histogram of Gender on  Age of the Town's Population Conditioned on Marital Status\")"
      ]
    },
    {
      "cell_type": "code",
      "execution_count": null,
      "metadata": {
        "id": "gbwzdgDE5Szs"
      },
      "outputs": [],
      "source": [
        "(df_census['Infirmity'].mode())\n",
        "\n",
        "#sns.catplot(data=df_census, x=\"Infirmity\", kind=\"count\", palette=\"muted\")\n",
        "\n",
        "df_census['Infirmity Status'].value_counts().plot(kind=\"bar\",\n",
        "                           title=\"Infirmity Distribution of a Town (UK 1881 Census)\",\n",
        "                           #rot=15,\n",
        "                           xlabel=\"Infirmity Type\",\n",
        "                           ylabel=\"Count\")"
      ]
    },
    {
      "cell_type": "code",
      "execution_count": null,
      "metadata": {
        "id": "kL2TFOY75Szs"
      },
      "outputs": [],
      "source": [
        "print(df_census['Religion'].mode())\n",
        "\n",
        "sns.histplot(data=df_census, x=\"Religion\", palette=\"muted\", legend='auto').set(title='Religion Distribution of a Town (UK 1881 Census)')"
      ]
    },
    {
      "cell_type": "markdown",
      "source": [
        "## **Data Analysis and Insights**"
      ],
      "metadata": {
        "id": "7O78LbKHVGXz"
      }
    },
    {
      "cell_type": "markdown",
      "metadata": {
        "id": "VDvXpHnD5Szs"
      },
      "source": [
        "#### Age Distribution: Population Pyramid"
      ]
    },
    {
      "cell_type": "code",
      "execution_count": null,
      "metadata": {
        "id": "LoA0n-ij5Szt"
      },
      "outputs": [],
      "source": [
        "#create age group using five-year age gap\n",
        "\n",
        "df_census.loc[(df_census['Age'] >=0) & (df_census['Age'] <=4), 'Age_group'] = '0-4'\n",
        "df_census.loc[(df_census['Age'] >=5) & (df_census['Age'] <=9), 'Age_group'] = '5-9'\n",
        "df_census.loc[(df_census['Age'] >=10) & (df_census['Age'] <=14), 'Age_group'] = '10-14'\n",
        "df_census.loc[(df_census['Age'] >=15) & (df_census['Age'] <=19), 'Age_group'] = '15-19'\n",
        "df_census.loc[(df_census['Age'] >=20) & (df_census['Age'] <=24), 'Age_group'] = '20-24'\n",
        "df_census.loc[(df_census['Age'] >=25) & (df_census['Age'] <=29), 'Age_group'] = '25-29'\n",
        "df_census.loc[(df_census['Age'] >=30) & (df_census['Age'] <=34), 'Age_group'] = '30-34'\n",
        "df_census.loc[(df_census['Age'] >=35) & (df_census['Age'] <=39), 'Age_group'] = '35-39'\n",
        "df_census.loc[(df_census['Age'] >=40) & (df_census['Age'] <=44), 'Age_group'] = '40-44'\n",
        "df_census.loc[(df_census['Age'] >=45) & (df_census['Age'] <=49), 'Age_group'] = '45-49'\n",
        "df_census.loc[(df_census['Age'] >=50) & (df_census['Age'] <=54), 'Age_group'] = '50-54'\n",
        "df_census.loc[(df_census['Age'] >=55) & (df_census['Age'] <=59), 'Age_group'] = '55-59'\n",
        "df_census.loc[(df_census['Age'] >=60) & (df_census['Age'] <=64), 'Age_group'] = '60-64'\n",
        "df_census.loc[(df_census['Age'] >=65) & (df_census['Age'] <=69), 'Age_group'] = '65-69'\n",
        "df_census.loc[(df_census['Age'] >=70) & (df_census['Age'] <=74), 'Age_group'] = '70-74'\n",
        "df_census.loc[(df_census['Age'] >=75) & (df_census['Age'] <=79), 'Age_group'] = '75-79'\n",
        "df_census.loc[(df_census['Age'] >=80) & (df_census['Age'] <=84), 'Age_group'] = '80-84'\n",
        "df_census.loc[(df_census['Age'] >=85) & (df_census['Age'] <=89), 'Age_group'] = '85-89'\n",
        "df_census.loc[(df_census['Age'] >=90) & (df_census['Age'] <=94), 'Age_group'] = '90-94'\n",
        "df_census.loc[(df_census['Age'] >=95) & (df_census['Age'] <=99), 'Age_group'] = '95-99'\n",
        "df_census.loc[(df_census['Age'] >=100),'Age_group'] = '100+'\n",
        "\n",
        "\n",
        "sortindex = ['100+','95-99','90-94','85-89','80-84','75-79','70-74','65-69',\n",
        "        '60-64','55-59','50-54','45-49','40-44','35-39','30-34','25-29',\n",
        "        '20-24','15-19','10-14','5-9','0-4']\n",
        "#split Gender\n",
        "female_g=df_census['Gender'] == 'Female'\n",
        "F = df_census[female_g]['Age_group']\n",
        "F_only = F.value_counts() #.sort_index()\n",
        "F_only = pd.DataFrame({'Age Group':F_only.index, 'count':F_only.values}) #, index = sortindex)\n",
        "\n",
        "Male_g=df_census['Gender'] == 'Male'\n",
        "M = df_census[Male_g]['Age_group']\n",
        "M_only = M.value_counts()#.sort_index()\n",
        "M_only = pd.DataFrame({'Age Group':M_only.index, 'count':M_only.values}) #, index = sortindex )\n",
        "\n",
        "\n",
        "#age_m = pd.DataFrame({'Age_group': M_only.index, 'Frequency':M_only.values}, index = sortindex)\n",
        "#age_f = pd.DataFrame({'Age_group': F_only.index, 'Frequency':F_only.values}, index= sortindex)\n",
        "#y = df_census['Age_group']\n",
        "\n",
        "#print(F_only)\n",
        "#print(M_only)\n",
        "M_only['count'] *= -1\n",
        "\n",
        "census_bar_plot = sns.barplot(y=F_only['Age Group'], x=F_only['count'], data=F_only, order=sortindex, lw=0, palette='YlOrBr')\n",
        "census_bar_plot = sns.barplot(y=M_only['Age Group'], x=M_only['count'], data=M_only, order=sortindex, lw=0, palette='ch:start=.2,rot=-.3')\n",
        "census_bar_plot.set(xlabel=\"Population (hundreds)\", ylabel=\"Age-Group\", title = \"Population Pyramid of a Town(1881 UK Census)\")\n",
        "census_bar_plot.legend()\n",
        "\n",
        "#df_census[['Age', 'Age_group']].sort_values(by='Age')\n",
        "#df_census[df_census['Age_group'].isnull()== False]"
      ]
    },
    {
      "cell_type": "code",
      "source": [
        "#population statistics\n",
        "\n",
        "age5_14 =  df_census.loc[(df_census[\"Age\"] >= 5) & (df_census['Age'] < 15)]\n",
        "age5_14_total= age5_14[\"Age\"].notnull().sum()\n",
        "\n",
        "age55_64 = df_census.loc[(df_census[\"Age\"] >= 55) & (df_census['Age'] < 64)]\n",
        "age55_64_total= age5_14[\"Age\"].notnull().sum()\n",
        "\n",
        "DLPI = age5_14_total / age55_64_total\n",
        "DLPI"
      ],
      "metadata": {
        "id": "MGGHCTKoWWMH"
      },
      "execution_count": null,
      "outputs": []
    },
    {
      "cell_type": "markdown",
      "metadata": {
        "id": "OSqlo10C5Szt"
      },
      "source": [
        "Birth Rate and Death Rate per 1000 in the population\n",
        "\n"
      ]
    },
    {
      "cell_type": "code",
      "execution_count": null,
      "metadata": {
        "id": "f535fd37"
      },
      "outputs": [],
      "source": [
        "#calculating the total population of the town\n",
        "total_pop_count = df_census[\"Gender\"].count()\n",
        "total_pop_count\n",
        "\n",
        "pop_per_th = 1000/total_pop_count\n",
        "pop_per_th\n",
        "\n",
        "# number of newborns\n",
        "age0_child = df_census[(df_census[\"Age\"] <1)]\n",
        "age0_count = age0_child[\"Age\"].notnull().sum()\n",
        "#children_age0[\"Age\"].value_counts()\n",
        "#children_age0.head(5)\n",
        "\n",
        "# number of children of age \"4\"\n",
        "age4_child = df_census[(df_census[\"Age\"] == 4)] #& (df_census[\"Age\"] < 5)]\n",
        "age4_count = age4_child[\"Age\"].notnull().sum()"
      ]
    },
    {
      "cell_type": "code",
      "execution_count": null,
      "metadata": {
        "id": "Slflsebnj7Zf"
      },
      "outputs": [],
      "source": [
        "# Calculating the number of women between the age of \"25\" and \"29\"\n",
        "female_25_29 = df_census[(df_census[\"Gender\"] == \"Female\") &\n",
        "                  (df_census[\"Age\"] > 24) &\n",
        "                  (df_census[\"Age\"] < 30)]\n",
        "\n",
        "female_25_29_count = female_25_29[\"Age\"].notnull().sum()\n",
        "\n",
        "# Calculating the number of women between the age of \"30\" and \"34\"\n",
        "female_30_34 = df_census[(df_census[\"Gender\"] == \"Female\") &\n",
        "                  (df_census[\"Age\"] > 29) &\n",
        "                  (df_census[\"Age\"] < 35)]\n",
        "\n",
        "female_30_34_count = female_30_34[\"Age\"].notnull().sum()\n",
        "\n",
        "print(female_25_29_count)\n",
        "print(female_30_34_count)\n",
        "print(age4_count)\n",
        "print(age0_count)"
      ]
    },
    {
      "cell_type": "code",
      "execution_count": null,
      "metadata": {
        "id": "e9fd6591"
      },
      "outputs": [],
      "source": [
        "#birth rate for age0\n",
        "first_br = age0_count*pop_per_th\n",
        "round(first_br,2)\n",
        "first_br\n",
        "\n",
        "#birth rate for age4\n",
        "second_br = age4_count*pop_per_th\n",
        "round(second_br,2)\n",
        "\n",
        "birth_rate = second_br - first_br\n",
        "birth_rate = round(birth_rate,2)\n",
        "\n",
        "print(f\"The birth rate for the town per thousand is : {birth_rate}\")\n",
        "print(first_br)\n",
        "print(second_br)"
      ]
    },
    {
      "cell_type": "markdown",
      "source": [
        "Calculating the death rate per 1000 from age 65 & above\n",
        "\n",
        "\n",
        "\n",
        "\n",
        "\n",
        "\n",
        "\n"
      ],
      "metadata": {
        "id": "wrDFxRDlp0On"
      }
    },
    {
      "cell_type": "code",
      "source": [
        "#function to give count of specific age group\n",
        "\n",
        "def age_group_population(df, age_g):\n",
        "  age_groups = {}\n",
        "  for age_group in df['Age_group']:\n",
        "    age_groups[age_group] = 'n/a'\n",
        "  population = {}\n",
        "  for age in age_groups.keys():\n",
        "    if age == age_g:\n",
        "      population[age] = df[df['Age_group'] == age]['Age'].count()\n",
        "  return population[age_g]"
      ],
      "metadata": {
        "id": "SuBXTScsyojA"
      },
      "execution_count": null,
      "outputs": []
    },
    {
      "cell_type": "code",
      "source": [
        "persons_aged_65_69_count = age_group_population(df_census, '65-69')\n",
        "persons_aged_70_74_count = age_group_population(df_census, '70-74')\n",
        "persons_aged_75_79_count = age_group_population(df_census, '75-79')\n",
        "persons_aged_80_84_count = age_group_population(df_census, '80-84')\n",
        "persons_aged_85_89_count = age_group_population(df_census, '85-89')\n",
        "persons_aged_90_94_count = age_group_population(df_census, '90-94')\n",
        "persons_aged_95_99_count = age_group_population(df_census, '95-99')\n",
        "persons_aged_100_above_count = age_group_population(df_census, '100+')\n",
        "\n",
        "#calculating death rate for the age groups 65 and above per hundred thousand\n",
        "deathrate_65_74_th = ((persons_aged_65_69_count - persons_aged_70_74_count) / 5)*pop_per_th\n",
        "deathrate_70_79_th = ((persons_aged_70_74_count - persons_aged_75_79_count) / 5)*pop_per_th\n",
        "deathrate_75_84_th = ((persons_aged_75_79_count - persons_aged_80_84_count) / 5)*pop_per_th\n",
        "deathrate_80_89_th = ((persons_aged_80_84_count - persons_aged_85_89_count) / 5)*pop_per_th\n",
        "deathrate_85_94_th = ((persons_aged_85_89_count - persons_aged_90_94_count) / 5)*pop_per_th\n",
        "deathrate_90_99_th = ((persons_aged_90_94_count - persons_aged_95_99_count) / 5)*pop_per_th\n",
        "deathrate_95_100_above_th = ((persons_aged_95_99_count - persons_aged_100_above_count) / 5)*pop_per_th\n",
        "\n",
        "print(deathrate_65_74_th)\n",
        "print(deathrate_70_79_th)\n",
        "print(deathrate_75_84_th)\n",
        "print(deathrate_80_89_th)\n",
        "print(deathrate_85_94_th)\n",
        "print(deathrate_90_99_th)\n",
        "print(deathrate_95_100_above_th)\n",
        "\n",
        "death_rate = (deathrate_65_74_th + deathrate_70_79_th + deathrate_75_84_th + deathrate_80_89_th + deathrate_85_94_th\n",
        "                        + deathrate_90_99_th + deathrate_95_100_above_th)\n",
        "\n",
        "death_rate = round(death_rate,2)\n",
        "print (f\"The total death rate  per hundred thousand is : {death_rate}\")"
      ],
      "metadata": {
        "id": "Gc6nbcLcThxE"
      },
      "execution_count": null,
      "outputs": []
    },
    {
      "cell_type": "code",
      "source": [
        "df_census['Age_group'].value_counts().sort_index()"
      ],
      "metadata": {
        "id": "VC7K_xebMf1E"
      },
      "execution_count": null,
      "outputs": []
    },
    {
      "cell_type": "markdown",
      "source": [
        "Population Increasing or Shrinking"
      ],
      "metadata": {
        "id": "BOHPYKC20xlE"
      }
    },
    {
      "cell_type": "code",
      "source": [
        "#this gives the growth rate of the population\n",
        "birth_death_rate_ratio = (round(birth_rate/death_rate,2))\n",
        "print(f\"The birth rate to death ration rate is: {birth_death_rate_ratio}\")\n",
        "\n",
        "natural_increase = ((birth_rate - death_rate) /10)*100\n",
        "natural_increase\n",
        "\n",
        "print(f\"the birth rate and death rate per 1000 is: {natural_increase}, with a ratio of {birth_death_rate_ratio}\")\n",
        "\n",
        "doubling_time = 70/natural_increase\n",
        "doubling_time\n",
        "print(f\"It will take the town {round(doubling_time,0)} years to double its current size\")\n"
      ],
      "metadata": {
        "id": "0xMtzlQC0wjL"
      },
      "execution_count": null,
      "outputs": []
    },
    {
      "cell_type": "markdown",
      "source": [
        "Doubling Time"
      ],
      "metadata": {
        "id": "rPpe7NuHtjpg"
      }
    },
    {
      "cell_type": "code",
      "source": [
        "doubling_time = 70/natural_increase\n",
        "doubling_time"
      ],
      "metadata": {
        "id": "Doa7MRirthdw"
      },
      "execution_count": null,
      "outputs": []
    },
    {
      "cell_type": "markdown",
      "source": [
        "Housing Occupancy & Density"
      ],
      "metadata": {
        "id": "3S_gtiRUHqxk"
      }
    },
    {
      "cell_type": "code",
      "source": [
        "# Household Heads dataframe\n",
        "household_head = df_census[df_census[\"Relationship to Head of House\"]== \"Head\"]\n",
        "#household_head"
      ],
      "metadata": {
        "id": "b2MnrMuARQH3"
      },
      "execution_count": null,
      "outputs": []
    },
    {
      "cell_type": "code",
      "source": [
        "# Calculating the number of households and occupancy per household mean\n",
        "\n",
        "household_head_count = household_head[\"Relationship to Head of House\"].notnull().sum()\n",
        "print(f\"The number of households is: {household_head_count}\")\n",
        "\n",
        "print(f\"The population of the town is: {total_pop_count}\")\n",
        "\n",
        "occupancy_per_household = pd.DataFrame()\n",
        "df_census.groupby(['Street', 'House Number'])['Street'].count()\n",
        "\n",
        "#Occupancy mean per household\n",
        "occupancy_per_household[\"Occupancy Count\"] = df_census.groupby([\"Street\", \"House Number\"])[\"Street\"].transform(\"count\")\n",
        "\n",
        "occupancy_mean = occupancy_per_household[\"Occupancy Count\"].mean()\n",
        "print(f\"The mean occupancy per household is {round(occupancy_mean,2)}\")\n",
        "\n",
        "# Calculating the ratio of households to  total population\n",
        "\n",
        "household_ratio = total_pop_count/household_head_count\n",
        "print(f\"The ratio of households to the total population is = {1}:{int(round(household_ratio,0))}\")\n",
        "\n",
        "df_census[\"Occupancy Count\"] = df_census.groupby(['Street', 'House Number'])['Street'].transform('count')\n",
        "#df_census\n",
        "\n",
        "#checking the count of households with occupancy greater than 5\n",
        "occupancy_check = df_census[df_census[\"Occupancy Count\"] > 5]\n",
        "occupancy_check = occupancy_check[\"Occupancy Count\"].notnull().sum()\n",
        "print(f\"The total number of households with more than 5 occupants is {occupancy_check}\")\n",
        "occupancy_check_percentage_5 = (occupancy_check/household_head_count) * 100\n",
        "print(f\"The proportion of household with more than 5 occupants is {round(occupancy_check_percentage_5,2)}%\")\n",
        "#occupancy count descriptive statistics\n",
        "occupancy_count_info = df_census[\"Occupancy Count\"].notnull().sum()\n",
        "occupancy_count_info"
      ],
      "metadata": {
        "id": "jlazGcBERF3r"
      },
      "execution_count": null,
      "outputs": []
    },
    {
      "cell_type": "code",
      "source": [
        "occupancy_marital = df_census[[\"House Number\", \"Street\", \"Marital Status\"] ].drop_duplicates()\n",
        "occ_single = occupancy_marital[occupancy_marital['Marital Status'] == 'Single'].notnull().sum()\n",
        "occ_married = occupancy_marital[occupancy_marital['Marital Status'] == 'Married'].notnull().sum()\n",
        "occ_divorced = occupancy_marital[occupancy_marital['Marital Status'] == 'Divorced'].notnull().sum()\n",
        "occ_widowed = occupancy_marital[occupancy_marital['Marital Status'] == 'Widowed'].notnull().sum()\n",
        "\n",
        "#print(occ_single)\n",
        "#print(occ_married)\n",
        "#print(occ_divorced)\n",
        "\n",
        "occ_single_prop = (occ_single/household_head_count)*100\n",
        "occ_married_prop = (occ_married/household_head_count)*100\n",
        "occ_divorced_prop = (occ_divorced/household_head_count)*100\n",
        "occ_widowed_prop = (occ_widowed/household_head_count)*100\n",
        "\n",
        "print(f\"The percentage of household occupied by a single person is {round(occ_single_prop,0)}%\")\n",
        "print(f\"The percentage of household occupied by a married person is {round(occ_married_prop,0)}%\")\n",
        "print(f\"The percentage of household occupied by a divorced person is {round(occ_divorced_prop,0)}%\")\n",
        "print(f\"The percentage of household occupied by a widowed person is {round(occ_widowed_prop,0)}%\")\n"
      ],
      "metadata": {
        "id": "Hu0BCiW9YkTG"
      },
      "execution_count": null,
      "outputs": []
    },
    {
      "cell_type": "markdown",
      "source": [],
      "metadata": {
        "id": "oenlIqz_2NmH"
      }
    },
    {
      "cell_type": "code",
      "source": [
        "# Household heads age and number of occupants\n",
        "\n",
        "hh_head_scatter_plot = plt.figure(figsize=(15,7.5), dpi = 100 )\n",
        "sns.set_theme()\n",
        "hh_head_scatter_chart = sns.scatterplot(data = household_head,x ='Age',y=df_census[\"Occupancy Count\"], palette='Set2')\n",
        "hh_head_scatter_chart.set(xlabel=\"Household Heads Age\", ylabel='Frequency')\n",
        "plt.title(\"A Scattter Plot Showing the Distribution of Household Heads Age and Number of People Per Household\")\n",
        "plt.show()"
      ],
      "metadata": {
        "id": "AuM6ILOVKpMD"
      },
      "execution_count": null,
      "outputs": []
    },
    {
      "cell_type": "code",
      "source": [
        "# Visualising the heads of relationship to head of house DataFrame with a boxplot\n",
        "\n",
        "head_boxplot = plt.figure(figsize=(15,7.5), dpi = 100 )\n",
        "sns.set_theme()\n",
        "head_boxchart = sns.boxplot(data = household_head,x ='Age',  palette='Set2')\n",
        "head_boxchart.set(xlabel='Age Distribution', ylabel='')\n",
        "plt.title(' Boxplot Showing Age Concentration for Heads in Relationship to Head of House BOXPLOT SHOWING AGE CONCENTRATION FOR HEADS IN RELATIONSHIP TO HEAD OF HOUSE TO GET AGE CONCENTRATION FOR HOUSEHOLDS ')\n",
        "plt.show()"
      ],
      "metadata": {
        "id": "1dm7JV-UKvJa"
      },
      "execution_count": null,
      "outputs": []
    },
    {
      "cell_type": "markdown",
      "source": [
        "Unemployment Trends"
      ],
      "metadata": {
        "id": "5cWwvp4BFWAs"
      }
    },
    {
      "cell_type": "code",
      "execution_count": null,
      "metadata": {
        "id": "d6317c51"
      },
      "outputs": [],
      "source": [
        "#  unemployed people in the population\n",
        "\n",
        "unemployed_pop = (df_census.loc[df_census[\"Occupation\"].str.contains(\"Unemployed\", na=False, case=False, regex=True)])\n",
        "\n",
        "# economically active population: the working age group is 16-64 years\n",
        "working_age = df_census.loc[(df_census[\"Age\"] >= 16) & (df_census['Age'] < 65)]\n",
        "working_age\n",
        "\n",
        "#get the data of employed people only\n",
        "working_age_data = (working_age.loc[~working_age [\"Occupation\"].str.contains('Unemployed', na=False, case=False, regex=True)])\n",
        "\n",
        "#count of those employed and unemployed\n",
        "working_age_data_count = working_age_data[\"Occupation\"].notnull().sum()\n",
        "working_age_data_count\n",
        "\n",
        "unemployed_pop_count = unemployed_pop[\"Occupation\"].notnull().sum()\n",
        "unemployed_pop_count\n",
        "\n",
        "# percentage of unemployed to unemployed\n",
        "employment_ratio = (unemployed_pop_count/working_age_data_count)*100\n",
        "print(f\"The percentage of unemployed population: {round(employment_ratio,2)}%\")\n",
        "print(f\"The number of unemployed population: {unemployed_pop_count}\")"
      ]
    },
    {
      "cell_type": "code",
      "source": [
        "working_age\n",
        "\n",
        "working_age[working_age['Occupation']=='University Student']"
      ],
      "metadata": {
        "id": "d2566KL8FrQS"
      },
      "execution_count": null,
      "outputs": []
    },
    {
      "cell_type": "code",
      "execution_count": null,
      "metadata": {
        "id": "8d74c1f5"
      },
      "outputs": [],
      "source": [
        "# Visualising the unemployment DataFrame with a histplot\n",
        "\n",
        "unemployment_plot = plt.figure(figsize=(15,7.5), dpi = 100 )\n",
        "sns.set_theme()\n",
        "unemployment_chart = sns.histplot(data = working_age, x ='Age', hue='Employment Status',  binwidth=3, palette='Set2', kde=True, multiple='stack')\n",
        "unemployment_chart.set(xlabel='Age of Persons Economically Active', ylabel='Frequency')\n",
        "plt.title('Age Distribution of Unemployed Persons in the Population within the Economically Active Group')\n",
        "plt.show()\n"
      ]
    },
    {
      "cell_type": "code",
      "source": [
        "# Visualising the unemployment DataFrame with boxplot\n",
        "\n",
        "unemployment_box_plot = plt.figure(figsize=(15,7.5), dpi = 100 )\n",
        "sns.set_theme()\n",
        "unemployment_box_chart = sns.boxplot(data = unemployed_pop, x= \"Age\", palette='Set1')\n",
        "unemployment_box_chart.set(xlabel='Age Distribution', ylabel='Unemployed Persons')\n",
        "plt.title('Age Concentration of Unemployed Persons')\n",
        "plt.show()"
      ],
      "metadata": {
        "id": "b5Fui-zB6BtE"
      },
      "execution_count": null,
      "outputs": []
    },
    {
      "cell_type": "markdown",
      "source": [
        "Religious Affliations"
      ],
      "metadata": {
        "id": "jIw07bzeUDhz"
      }
    },
    {
      "cell_type": "code",
      "execution_count": null,
      "metadata": {
        "id": "611cc7cf"
      },
      "outputs": [],
      "source": [
        "# Review of various element count in the Religion data series\n",
        "\n",
        "df_census[\"Religion\"].value_counts()"
      ]
    },
    {
      "cell_type": "code",
      "execution_count": null,
      "metadata": {
        "id": "61e62859"
      },
      "outputs": [],
      "source": [
        "all_religions = plt.figure(figsize=(15,10), dpi = 100 )\n",
        "religion_chart = sns.countplot(data = df_census,x ='Religion', palette='Set1' )\n",
        "religion_chart.set_xticklabels(religion_chart.get_xticklabels(), rotation=45, horizontalalignment='right',fontweight='light', fontsize='x-large')\n",
        "religion_chart.set(xlabel='Type of Religion', ylabel='Frequency')\n",
        "plt.title('Distribution of Religion in the Population of a Town (1881 UK Census)')\n",
        "plt.show()"
      ]
    },
    {
      "cell_type": "code",
      "source": [
        "%matplotlib inline\n",
        "age_religions = plt.figure(figsize=(15,7.5), dpi = 100 )\n",
        "sns.set_theme()\n",
        "age_religion_chart = sns.histplot(data = df_census,x ='Age', hue='Religion', binwidth=5, palette='Set1', multiple=\"stack\" )\n",
        "age_religion_chart.set(xlabel='Age(years)', ylabel='Frequency')\n",
        "plt.title('Age Distribution of Religion in the Population of a Town (1881 UK Census)')\n",
        "plt.show()"
      ],
      "metadata": {
        "id": "IVjsMk5hJnrX"
      },
      "execution_count": null,
      "outputs": []
    },
    {
      "cell_type": "markdown",
      "source": [
        "Religion on the increase or shrinking"
      ],
      "metadata": {
        "id": "FXzF7MESMu5s"
      }
    },
    {
      "cell_type": "code",
      "execution_count": null,
      "metadata": {
        "id": "c48d4f37"
      },
      "outputs": [],
      "source": [
        "# Extracting individual religion dataframes\n",
        "none_religion = df_census[df_census[\"Religion\"] == \"None\"]\n",
        "catholic_religion = df_census[df_census[\"Religion\"] == \"Catholic\"]\n",
        "christian_religion = df_census[df_census[\"Religion\"] == \"Christian\"]\n",
        "muslim_religion = df_census[df_census[\"Religion\"] == \"Muslim\"]\n",
        "methodist_religion = df_census[df_census[\"Religion\"] == \"Methodist\"]\n",
        "jewish_religion = df_census[df_census[\"Religion\"] == \"Jewish\"]\n",
        "sikh_religion = df_census[df_census[\"Religion\"] == \"Sikh\"]\n",
        "jedi_religion = df_census[df_census[\"Religion\"] == \"Jedi\"]\n",
        "orthodoxy_religion = df_census[df_census[\"Religion\"] == \"Orthodoxy\"]\n",
        "agnostic_religion = df_census[df_census[\"Religion\"] == \"Agnostic\"]"
      ]
    },
    {
      "cell_type": "code",
      "execution_count": null,
      "metadata": {
        "id": "cbc16c36"
      },
      "outputs": [],
      "source": [
        "# Extracting Age data series for individual religions\n",
        "\n",
        "reli_age_none = none_religion[\"Age\"]\n",
        "reli_age_christian = christian_religion[\"Age\"]\n",
        "reli_age_cath = catholic_religion[\"Age\"]\n",
        "reli_age_muslim = muslim_religion[\"Age\"]\n",
        "reli_age_method = methodist_religion[\"Age\"]\n",
        "reli_age_jewish = jewish_religion[\"Age\"]\n",
        "reli_age_sikh = sikh_religion[\"Age\"] \n",
        "reli_age_jedi = jedi_religion[\"Age\"]\n",
        "reli_age_orthodoxy = orthodoxy_religion[\"Age\"]\n",
        "reli_age_agnostic = agnostic_religion[\"Age\"]"
      ]
    },
    {
      "cell_type": "code",
      "source": [
        "# creating a dictionary of each individual religions and their age distribution \n",
        "\n",
        "all_religions_age = { \"None\":reli_age_none,\n",
        "                           \"Christian\":reli_age_christian,\n",
        "                           \"Catholic\":reli_age_cath,\n",
        "                          \"Muslim\":reli_age_muslim,\n",
        "                          \"Methodist\":reli_age_method,\n",
        "                          \"Jewish\":reli_age_jewish,\n",
        "                          \"Sikh\":reli_age_sikh,\n",
        "                          \"Jedi\":reli_age_jedi,\n",
        "                          \"Orthodoxy\":reli_age_orthodoxy,\n",
        "                          \"Agnostic\":reli_age_agnostic,\n",
        "}\n",
        "\n",
        "all_religions_age = pd.DataFrame(all_religions_age)\n",
        "all_religions_age"
      ],
      "metadata": {
        "id": "IXhKeAZMOOjE"
      },
      "execution_count": null,
      "outputs": []
    },
    {
      "cell_type": "code",
      "execution_count": null,
      "metadata": {
        "id": "2b7c8703"
      },
      "outputs": [],
      "source": [
        "# Using the box plot to show age concentration in our religion dataset, spot deviations and outliers \n",
        "\n",
        "age_religion_total = plt.figure(figsize=(20,10), dpi = 100 )\n",
        "age_religion_chart = sns.boxplot(data = all_religions_age, palette='Set1')\n",
        "age_religion_chart.set(ylabel='Age(years)', xlabel='Religion')\n",
        "age_religion_chart.set_xticklabels(age_religion_chart.get_xticklabels(), rotation=90, horizontalalignment='right',fontweight='heavy', fontsize='x-large')\n",
        "plt.title(' Age Concentration of Religion in the Population')\n",
        "plt.show()"
      ]
    },
    {
      "cell_type": "markdown",
      "source": [
        "Commuters"
      ],
      "metadata": {
        "id": "QxgZXo1MUTFA"
      }
    },
    {
      "cell_type": "code",
      "source": [
        "non_commuters_pop = [\"shop\", \"Retired\", \"supermarket\", \"baristas\", \"retail\", \"restaurant\", \"pub\", \"bar\",\"Child\",\"Unemployed\",\"police\",\"teachers\", \"NHS\",\"Herb\",\"adult\", \"servant\", \"government\", \"health\",\"care\", \"pharmacist\"]\n",
        "\n",
        "commuters = (df_census.loc[~df_census[\"Occupation\"].str.contains(\"|\".join(non_commuters_pop), case=False, regex=True)])"
      ],
      "metadata": {
        "id": "lEs7jrh4FbdL"
      },
      "execution_count": null,
      "outputs": []
    },
    {
      "cell_type": "code",
      "source": [
        "#commmuter are assumed to be between age 16-65years as this covers the economically active population\n",
        "\n",
        "daily_commuters = df_census[(df_census[\"Age\"] >=16) & (df_census[\"Age\"] <= 64)]\n",
        "#daily_commuters\n",
        "\n",
        "daily_commuters_count = daily_commuters[\"Occupation\"].count()\n",
        "daily_commuters_count"
      ],
      "metadata": {
        "id": "0ylzLPeO23yO"
      },
      "execution_count": null,
      "outputs": []
    },
    {
      "cell_type": "code",
      "source": [
        "daily_commuters_prop = (daily_commuters_count/total_pop_count) * 100\n",
        "\n",
        "print(f\"The percentage of possible daily commuters is estimated to be: {daily_commuters_prop:.2f}%\")"
      ],
      "metadata": {
        "id": "TyLS1C-z2-4l"
      },
      "execution_count": null,
      "outputs": []
    },
    {
      "cell_type": "code",
      "source": [
        "commuter = pd.DataFrame({'Commute Analysis': ['Total Population', 'Possible Daily Commuters'], 'Count': [total_pop_count, daily_commuters_count]})\n",
        "\n",
        "CommuteClass = ['Total Population', 'Possible Daily Commuters']\n",
        "#commute_analysis_plot = plt.figure(figsize=(5,5), dpi = 100 ) \n",
        "commute_chart = sns.barplot(x='Commute Analysis', y='Count', data=commuter, order=CommuteClass, palette='Set1')\n",
        "plt.title('Proportion of Daily Commuters vs Total Population')\n",
        "commute_chart.set(xlabel='Population and Commuters', ylabel='Frequency')\n",
        "\n",
        "plt.show()"
      ],
      "metadata": {
        "id": "DmhaUtLL3Arv"
      },
      "execution_count": null,
      "outputs": []
    },
    {
      "cell_type": "markdown",
      "source": [
        "Married and Divorce Rate"
      ],
      "metadata": {
        "id": "ktsrZmml1O7N"
      }
    },
    {
      "cell_type": "code",
      "source": [
        "divorced_total = df_census[(df_census[\"Marital Status\"] == \"Divorced\")].notnull().sum()\n",
        "\n",
        "\n",
        "married_total = df_census[(df_census[\"Marital Status\"] == \"Married\")].notnull().sum()\n",
        "\n",
        "divorced_rate = divorced_total/married_total*100\n",
        "divorced_rate\n",
        "#divorced_total\n",
        "#married_total"
      ],
      "metadata": {
        "id": "BAg69z86SKOm"
      },
      "execution_count": null,
      "outputs": []
    },
    {
      "cell_type": "code",
      "source": [
        "# Marital Status analysis to see the of married, Divorced and Widowed\n",
        "\n",
        "marital_check = ['Married','Divorced', 'Widowed']\n",
        "married_data = (df_census.loc[df_census[\"Marital Status\"].str.contains(\"|\".join(marital_check), na=False, case=False, regex=True)])\n",
        "#married_data\n",
        "\n",
        "# Visualising Married and Divorce data across all ages\n",
        "\n",
        "married_plot = plt.figure(figsize=(15,7.5), dpi = 100 )\n",
        "sns.set_theme()\n",
        "married_plot = sns.histplot(data = married_data,x ='Age', hue='Marital Status', binwidth=5, palette='Set2', multiple=\"stack\" )\n",
        "married_plot.set(xlabel='Age', ylabel='COUNT')\n",
        "plt.title('Count of Married and Divorced Persons using Age Distribution of the Population')\n",
        "plt.show()"
      ],
      "metadata": {
        "id": "zArDHBLoUrQa"
      },
      "execution_count": null,
      "outputs": []
    }
  ],
  "metadata": {
    "kernelspec": {
      "display_name": "Python 3 (ipykernel)",
      "language": "python",
      "name": "python3"
    },
    "language_info": {
      "codemirror_mode": {
        "name": "ipython",
        "version": 3
      },
      "file_extension": ".py",
      "mimetype": "text/x-python",
      "name": "python",
      "nbconvert_exporter": "python",
      "pygments_lexer": "ipython3",
      "version": "3.10.6"
    },
    "colab": {
      "provenance": [],
      "collapsed_sections": [
        "2lTUFkFJ5Sza",
        "8tKRxL_M5Szb",
        "qAWhqw8R5Szd",
        "utdJY6Wd5Szg",
        "uKJqnzvM5Szh"
      ]
    }
  },
  "nbformat": 4,
  "nbformat_minor": 0
}